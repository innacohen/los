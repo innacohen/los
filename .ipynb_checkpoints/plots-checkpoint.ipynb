{
 "cells": [
  {
   "cell_type": "code",
   "execution_count": null,
   "id": "817abd78-2029-4091-b7cf-3b0acb8df5ba",
   "metadata": {},
   "outputs": [],
   "source": [
    "import pickle\n",
    "import shap\n",
    "import matplotlib.pyplot as plt\n",
    "import pandas as pd\n",
    "import numpy as np\n",
    "\n",
    "# File paths\n",
    "fp_simple = '/gpfs/milgram/project/rtaylor/imc33/LOS/output/model_simple.pkl'\n",
    "fp_val = '/gpfs/milgram/project/rtaylor/imc33/LOS/output/X_val_selected.csv'\n",
    "lab_df = pd.read_csv('/gpfs/milgram/project/rtaylor/imc33/LOS/data/new_label_names.csv')\n",
    "\n",
    "# Create rename dictionary from lab_df\n",
    "rename_dict = pd.Series(lab_df.new_name.values, index=lab_df.old_name).to_dict()\n",
    "\n",
    "# Load the model\n",
    "with open(fp_simple, \"rb\") as f:\n",
    "    model = pickle.load(f)\n",
    "\n",
    "# Load dataset\n",
    "X_test = pd.read_csv(fp_val, index_col='pat_enc_csn_id')\n",
    "\n",
    "# Ensure feature order matches what the model expects\n",
    "#X_test = X_test[model.feature_names_in_]\n",
    "\n",
    "# Confirm features are identical\n",
    "#print(\"Feature order matches:\", list(model.feature_names_in_) == list(X_test.columns))"
   ]
  },
  {
   "cell_type": "code",
   "execution_count": null,
   "id": "e8f8a3b2-ce95-4e72-8307-8123c186b90d",
   "metadata": {},
   "outputs": [],
   "source": [
    "# Rename feature columns using rename_dict while ensuring uniqueness\n",
    "X_test = X_test.rename(columns=rename_dict)\n",
    "\n",
    "# Check for duplicate column names and resolve by appending a suffix\n",
    "counts = {}\n",
    "new_columns = []\n",
    "for col in X_test.columns:\n",
    "    if col in counts:\n",
    "        counts[col] += 1\n",
    "        new_columns.append(f\"{col} ({counts[col]})\")  # Append count to make unique\n",
    "    else:\n",
    "        counts[col] = 1\n",
    "        new_columns.append(col)\n",
    "\n",
    "X_test.columns = new_columns  # Update column names to be unique\n"
   ]
  },
  {
   "cell_type": "code",
   "execution_count": null,
   "id": "384c98a9-89d4-471e-a47e-10eaa7e1237c",
   "metadata": {},
   "outputs": [],
   "source": [
    "# Compute SHAP values\n",
    "explainer = shap.TreeExplainer(model, feature_perturbation=\"tree_path_dependent\")\n",
    "shap_values = explainer(X_test)  # Compute SHAP values\n",
    "\n",
    "# Ensure SHAP values use the renamed features\n",
    "shap_values.feature_names = X_test.columns.tolist()\n",
    "\n",
    "# Calculate the mean absolute SHAP value for each feature\n",
    "mean_abs_shap = np.abs(shap_values.values).mean(axis=0)\n",
    "\n",
    "# Create a DataFrame for feature importance\n",
    "importance_df = pd.DataFrame({\n",
    "    'Feature': X_test.columns,\n",
    "    'Mean Absolute SHAP': mean_abs_shap\n",
    "})\n",
    "\n",
    "# Sort the DataFrame by importance\n",
    "importance_df = importance_df.sort_values(by='Mean Absolute SHAP', ascending=False)\n",
    "\n",
    "importance_df"
   ]
  },
  {
   "cell_type": "code",
   "execution_count": null,
   "id": "4017e270-7c67-4eda-968d-89f0621d2120",
   "metadata": {},
   "outputs": [],
   "source": [
    "# Generate the Beeswarm plot\n",
    "fig_beeswarm = plt.figure(figsize=(20, 20))  # Adjusted figure size for beeswarm\n",
    "shap.plots.beeswarm(shap_values, max_display=10, show=False)\n",
    "\n",
    "# Show the plot\n",
    "plt.show()\n"
   ]
  },
  {
   "cell_type": "code",
   "execution_count": null,
   "id": "a2598100-47b7-4b80-be6f-ee170b084fa8",
   "metadata": {},
   "outputs": [],
   "source": [
    "shap.plots.bar(shap_values, show=False)"
   ]
  },
  {
   "cell_type": "code",
   "execution_count": null,
   "id": "8710e0a2-9a0f-4008-83f7-93d3d4b62fa0",
   "metadata": {},
   "outputs": [],
   "source": [
    "shap.force_plot(\n",
    "    explainer.expected_value, shap_values[0].values, X_test.iloc[0, :], matplotlib=True\n",
    ")"
   ]
  },
  {
   "cell_type": "code",
   "execution_count": null,
   "id": "ecdf1c24-479c-44a4-8bf1-166553cbb025",
   "metadata": {},
   "outputs": [],
   "source": []
  },
  {
   "cell_type": "markdown",
   "id": "261adbcd-4833-4241-9760-ae97af7c634f",
   "metadata": {},
   "source": [
    "### Continuous Variables\n",
    "age, consult counts, imaging counts, ed volume, hospital volume"
   ]
  },
  {
   "cell_type": "code",
   "execution_count": null,
   "id": "df8537c1-61cf-4619-b67d-0e0785a06f82",
   "metadata": {},
   "outputs": [],
   "source": [
    "#import shap\n",
    "#mport matplotlib.pyplot as plt\n",
    "\n",
    "# Extract feature names and SHAP values\n",
    "#feature_names = [\"Consult Count\", \"Age\", \"Imaging Count\", \"ED Volume\", \"Inpatient Volume\",\"US Count\"]\n",
    "                 \n",
    "#for feature in feature_names:\n",
    "#    shap.plots.scatter(shap_values[:, feature])"
   ]
  },
  {
   "cell_type": "code",
   "execution_count": null,
   "id": "9ccdfd7a-59cf-4e9b-b9a6-fed939c13764",
   "metadata": {},
   "outputs": [],
   "source": [
    "import shap\n",
    "import matplotlib.pyplot as plt\n",
    "\n",
    "plt.figure()\n",
    "plt.subplot(1,2,1)\n",
    "shap.plots.scatter(shap_values[:, \"Consult Count\"], ax=axes[0])"
   ]
  }
 ],
 "metadata": {
  "kernelspec": {
   "display_name": "Python 3 (ipykernel)",
   "language": "python",
   "name": "python3"
  },
  "language_info": {
   "codemirror_mode": {
    "name": "ipython",
    "version": 3
   },
   "file_extension": ".py",
   "mimetype": "text/x-python",
   "name": "python",
   "nbconvert_exporter": "python",
   "pygments_lexer": "ipython3",
   "version": "3.9.19"
  }
 },
 "nbformat": 4,
 "nbformat_minor": 5
}
