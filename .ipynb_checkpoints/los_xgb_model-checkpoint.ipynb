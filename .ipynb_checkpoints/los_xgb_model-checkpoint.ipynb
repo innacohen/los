{
 "cells": [
  {
   "cell_type": "code",
   "execution_count": null,
   "id": "fd3eb7b7-7360-48be-a80e-229b3b494171",
   "metadata": {
    "papermill": {
     "duration": 0.012019,
     "end_time": "2024-07-25T22:32:35.341236",
     "exception": false,
     "start_time": "2024-07-25T22:32:35.329217",
     "status": "completed"
    },
    "tags": []
   },
   "outputs": [],
   "source": [
    "## This version excludes CONTINUOUS Variables and the RFD variables AND _wHICH VARIABLES 3/27/2024 and con_max_consultorder_time/day and drg name\n",
    "## 4/4/2024 Added QUINTILE variables\n",
    "## 4/8/2024 Added QUINTILE varables by service\n",
    "## 4/9/2024 Added more consult and imaging variables (e.g. ad,it order to consult order, admit order to imaging read)\n",
    "## 4/11/2024 Added QUINTILE variables by service for the additional variables\n",
    "# 06/12/2024: Added gender, added imaging_order_before_consult_order and consult_order_before_imaging order variables, excluded 290 patients in 2022, dropped raw race/insurance categories\n",
    "# 06/14/2024: Removed quintiles\n",
    "# 06/20/2024: Set seed for reproducibility\n",
    "# 06/22/2024: Added sample size for validation\n",
    "# 07/05/2024: Collapsed Cardiology into Medicine\n",
    "# 07/08/2024: Added labels\n",
    "# 07/25/2024: Removed duplicated patients from master file\n",
    "# 08/01/2024: Changed XGBoost hyperparmeter tuning to Haipeng's code and using only one model, streamlined so all shap plots in one jupyter notebook\n",
    "# 08/07/2024: Added continuous features, add discretizer and removed variables >=99% missing \n",
    "# 08/15/2024: Added viz_right_service_hf_yn variable\n",
    "# 08/23/2024: Removing discretization for Hospital Consult Counts\n",
    "# 08/24/2024: Removing discretization for all count variables\n",
    "# 08/25/2024: Removed 20 additional variables from the continuous SHAP plots, kept 1 additional one (con_max_consult_order_to_sign_which)\n",
    "# 08/27/2024: Discretized quintile variables \n",
    "# 02/22/2025: Removed subgroup analyses (df_home, df_hf), saved models instead of figures"
   ]
  },
  {
   "cell_type": "code",
   "execution_count": null,
   "id": "1547941e-1e86-4e0b-b443-ae3e1c3e4f48",
   "metadata": {
    "papermill": {
     "duration": 1.516424,
     "end_time": "2024-07-25T22:32:36.864325",
     "exception": false,
     "start_time": "2024-07-25T22:32:35.347901",
     "status": "completed"
    },
    "tags": []
   },
   "outputs": [],
   "source": [
    "import pandas as pd\n",
    "import numpy as np\n",
    "import os\n",
    "import warnings\n",
    "from los_functions_v3 import *\n",
    "warnings.filterwarnings('ignore')"
   ]
  },
  {
   "cell_type": "code",
   "execution_count": null,
   "id": "367a2d8f-08f7-4a68-bf88-e2129aa65b46",
   "metadata": {},
   "outputs": [],
   "source": [
    "import sklearn\n",
    "import feature_engine\n",
    "\n",
    "print(\"Scikit-Learn version:\", sklearn.__version__)\n",
    "print(\"Feature-Engine version:\", feature_engine.__version__)\n"
   ]
  },
  {
   "cell_type": "code",
   "execution_count": null,
   "id": "a591fe07-bf34-497d-8ea2-e3292ef0fa1a",
   "metadata": {
    "papermill": {
     "duration": 0.863192,
     "end_time": "2024-07-25T22:32:37.764658",
     "exception": false,
     "start_time": "2024-07-25T22:32:36.901466",
     "status": "completed"
    },
    "tags": []
   },
   "outputs": [],
   "source": [
    "#all hospitalized patients \n",
    "df_all = pd.read_csv('/gpfs/milgram/project/rtaylor/imc33/LOS/data/master_los.csv', index_col=[0])\n",
    "df_all[\"viz_service_collapsed\"] = df_all[\"viz_service_collapsed\"].apply(map_med)"
   ]
  },
  {
   "cell_type": "code",
   "execution_count": null,
   "id": "36873ef9-76e0-45bb-a7e8-032b4fa1cc72",
   "metadata": {},
   "outputs": [],
   "source": [
    "# Dictionary of data frames with their names\n",
    "dfs = {\"df_all\": df_all}\n",
    "\n",
    "fp_simple = '/gpfs/milgram/project/rtaylor/imc33/LOS/data/features_los_simple.xlsx'\n",
    "fp_continuous = '/gpfs/milgram/project/rtaylor/imc33/LOS/data/features_los_continuous.xlsx'\n",
    "output_folder = '/gpfs/milgram/project/rtaylor/imc33/LOS/output'\n",
    "model_simple = '/gpfs/milgram/project/rtaylor/imc33/LOS/output/model_simple.pkl'\n",
    "model_complex = '/gpfs/milgram/project/rtaylor/imc33/LOS/output/model_complex.pkl'"
   ]
  },
  {
   "cell_type": "markdown",
   "id": "f70900c5-1c7e-468e-b684-3679e1125720",
   "metadata": {},
   "source": [
    "### Simple (without quintiles)"
   ]
  },
  {
   "cell_type": "code",
   "execution_count": null,
   "id": "a1fcdf52-7ac3-4ef4-9206-cf6d4421e1a7",
   "metadata": {},
   "outputs": [],
   "source": [
    "# Run the function for each data frame and save the plots\n",
    "for df_name, df_filt in dfs.items():\n",
    "    print(f\"Running on {df_name}\")\n",
    "    run_xgb_and_plot(df_filt, fp_simple, output_folder, df_name, suffix=\"simple\", model_path=model_simple)"
   ]
  },
  {
   "cell_type": "markdown",
   "id": "436f0224-6e71-46be-bc5e-f6942d55668f",
   "metadata": {},
   "source": [
    "### With Quintiles"
   ]
  },
  {
   "cell_type": "code",
   "execution_count": null,
   "id": "fe901096-0aa4-4bb8-b8f8-a4e894366b95",
   "metadata": {},
   "outputs": [],
   "source": [
    "# Run the function for each data frame and save the plots\n",
    "for df_name, df_filt in dfs.items():\n",
    "    print(f\"Running on {df_name}\")\n",
    "    run_xgb_and_plot(df_filt, fp_complex, output_folder, df_name, suffix=\"with_quintiles\", model_path=model_complex)"
   ]
  },
  {
   "cell_type": "markdown",
   "id": "7ee22c8c-a580-4c8e-a784-c46a7810385d",
   "metadata": {},
   "source": [
    "### With Continuous Features"
   ]
  }
 ],
 "metadata": {
  "kernelspec": {
   "display_name": "Python 3 (ipykernel)",
   "language": "python",
   "name": "python3"
  },
  "language_info": {
   "codemirror_mode": {
    "name": "ipython",
    "version": 3
   },
   "file_extension": ".py",
   "mimetype": "text/x-python",
   "name": "python",
   "nbconvert_exporter": "python",
   "pygments_lexer": "ipython3",
   "version": "3.9.19"
  },
  "papermill": {
   "default_parameters": {},
   "duration": 28.312135,
   "end_time": "2024-07-25T22:33:02.710958",
   "environment_variables": {},
   "exception": null,
   "input_path": "los_features_all_without_quintiles_07-25-2024.ipynb",
   "output_path": "los_features_all_without_quintiles_07-25-2024.ipynb",
   "parameters": {},
   "start_time": "2024-07-25T22:32:34.398823",
   "version": "2.6.0"
  }
 },
 "nbformat": 4,
 "nbformat_minor": 5
}
