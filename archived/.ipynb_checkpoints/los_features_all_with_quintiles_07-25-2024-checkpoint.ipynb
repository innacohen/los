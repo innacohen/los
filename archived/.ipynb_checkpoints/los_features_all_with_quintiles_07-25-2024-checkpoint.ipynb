{
 "cells": [
  {
   "cell_type": "markdown",
   "id": "16ab3daf",
   "metadata": {
    "tags": [
     "papermill-error-cell-tag"
    ]
   },
   "source": [
    "<span style=\"color:red; font-family:Helvetica Neue, Helvetica, Arial, sans-serif; font-size:2em;\">An Exception was encountered at '<a href=\"#papermill-error-cell\">In [45]</a>'.</span>"
   ]
  },
  {
   "cell_type": "code",
   "execution_count": 1,
   "id": "fd3eb7b7-7360-48be-a80e-229b3b494171",
   "metadata": {
    "execution": {
     "iopub.execute_input": "2024-07-25T19:34:42.789677Z",
     "iopub.status.busy": "2024-07-25T19:34:42.789201Z",
     "iopub.status.idle": "2024-07-25T19:34:42.792205Z",
     "shell.execute_reply": "2024-07-25T19:34:42.791816Z"
    },
    "papermill": {
     "duration": 0.010965,
     "end_time": "2024-07-25T19:34:42.793353",
     "exception": false,
     "start_time": "2024-07-25T19:34:42.782388",
     "status": "completed"
    },
    "tags": []
   },
   "outputs": [],
   "source": [
    "## This version excludes CONTINUOUS Variables and the RFD variables AND _wHICH VARIABLES 3/27/2024 and con_max_consultorder_time/day and drg name\n",
    "## 4/4/2024 Added QUINTILE variables\n",
    "## 4/8/2024 Added QUINTILE varables by service\n",
    "## 4/9/2024 Added more consult and imaging variables (e.g. ad,it order to consult order, admit order to imaging read)\n",
    "## 4/11/2024 Added QUINTILE variables by service for the additional variables\n",
    "# 06/12/2024: Added gender, added imaging_order_before_consult_order and consult_order_before_imaging order variables, excluded 290 patients in 2022, dropped raw race/insurance categories\n",
    "# 06/14/2024: Removed quintiles\n",
    "# 06/20/2024: Set seed for reproducibility\n",
    "# 06/22/2024: Added sample size for validation\n",
    "# 07/05/2024: Collapsed Cardiology into Medicine\n",
    "# 07/08/2024: Added label names\n",
    "# 07/16/2024: Removed Echo"
   ]
  },
  {
   "cell_type": "code",
   "execution_count": 2,
   "id": "1547941e-1e86-4e0b-b443-ae3e1c3e4f48",
   "metadata": {
    "execution": {
     "iopub.execute_input": "2024-07-25T19:34:42.805344Z",
     "iopub.status.busy": "2024-07-25T19:34:42.804969Z",
     "iopub.status.idle": "2024-07-25T19:35:08.103211Z",
     "shell.execute_reply": "2024-07-25T19:35:08.102715Z"
    },
    "papermill": {
     "duration": 25.305516,
     "end_time": "2024-07-25T19:35:08.104542",
     "exception": false,
     "start_time": "2024-07-25T19:34:42.799026",
     "status": "completed"
    },
    "tags": []
   },
   "outputs": [],
   "source": [
    "import pandas as pd\n",
    "import numpy as np\n",
    "\n",
    "#ML packages\n",
    "from sklearn.model_selection import train_test_split\n",
    "from sklearn.pipeline import Pipeline\n",
    "from sklearn.compose import ColumnTransformer\n",
    "from sklearn.preprocessing import MinMaxScaler\n",
    "from feature_engine.discretisation import DecisionTreeDiscretiser\n",
    "from sklearn.model_selection import GroupShuffleSplit\n",
    "from sklearn.impute import SimpleImputer\n",
    "from sklearn.metrics import accuracy_score, precision_score, recall_score, confusion_matrix, f1_score, roc_auc_score, classification_report, precision_recall_curve, roc_curve, auc\n",
    "from sklearn.calibration import calibration_curve\n",
    "\n",
    "#XGBo\n",
    "#https://github.com/liannewriting/YouTube-videos-public/blob/main/xgboost-python-tutorial-example/xgboost_python.ipynb\n",
    "import xgboost as xgb\n",
    "from category_encoders.target_encoder import TargetEncoder\n",
    "from xgboost import XGBClassifier\n",
    "#hyperparameter values\n",
    "from skopt import BayesSearchCV\n",
    "from skopt.space import Real, Categorical, Integer\n",
    "\n",
    "#Feature Selection\n",
    "from feature_engine.selection import DropConstantFeatures, DropDuplicateFeatures, SmartCorrelatedSelection\n",
    "from feature_engine.encoding import OneHotEncoder\n",
    "from feature_engine.selection import DropFeatures, DropConstantFeatures, DropDuplicateFeatures, SmartCorrelatedSelection\n",
    "from feature_engine.imputation import AddMissingIndicator\n",
    "from feature_engine.outliers import Winsorizer\n",
    "from feature_engine.wrappers import SklearnTransformerWrapper\n",
    "from feature_engine.imputation import ArbitraryNumberImputer\n",
    "from feature_engine.imputation import MeanMedianImputer\n",
    "from feature_engine.imputation import CategoricalImputer\n",
    "from feature_engine.encoding import RareLabelEncoder\n",
    "\n",
    "#Plotting Packages\n",
    "import shap\n",
    "import plotly.express as px\n",
    "import matplotlib.pyplot as plt\n",
    "import seaborn as sns\n",
    "\n",
    "import warnings\n",
    "warnings.filterwarnings('ignore')"
   ]
  },
  {
   "cell_type": "code",
   "execution_count": 3,
   "id": "bf5e06bb-0891-4572-a80e-16f193c88a82",
   "metadata": {
    "execution": {
     "iopub.execute_input": "2024-07-25T19:35:08.119256Z",
     "iopub.status.busy": "2024-07-25T19:35:08.118931Z",
     "iopub.status.idle": "2024-07-25T19:35:08.121815Z",
     "shell.execute_reply": "2024-07-25T19:35:08.121412Z"
    },
    "papermill": {
     "duration": 0.01047,
     "end_time": "2024-07-25T19:35:08.122900",
     "exception": false,
     "start_time": "2024-07-25T19:35:08.112430",
     "status": "completed"
    },
    "tags": []
   },
   "outputs": [],
   "source": [
    "def map_med (value):\n",
    "    if value in [\"Cardiology\", \"Medicine\"]:\n",
    "        return \"Medicine\"\n",
    "    else:\n",
    "        return value"
   ]
  },
  {
   "cell_type": "markdown",
   "id": "158794c8-bc22-4ac4-bcde-0f3fc0d09650",
   "metadata": {
    "papermill": {
     "duration": 0.005184,
     "end_time": "2024-07-25T19:35:08.133567",
     "exception": false,
     "start_time": "2024-07-25T19:35:08.128383",
     "status": "completed"
    },
    "tags": []
   },
   "source": [
    "### Filtering for specific patients"
   ]
  },
  {
   "cell_type": "code",
   "execution_count": 4,
   "id": "a591fe07-bf34-497d-8ea2-e3292ef0fa1a",
   "metadata": {
    "execution": {
     "iopub.execute_input": "2024-07-25T19:35:08.145101Z",
     "iopub.status.busy": "2024-07-25T19:35:08.144799Z",
     "iopub.status.idle": "2024-07-25T19:35:09.066864Z",
     "shell.execute_reply": "2024-07-25T19:35:09.066352Z"
    },
    "papermill": {
     "duration": 0.929601,
     "end_time": "2024-07-25T19:35:09.068421",
     "exception": false,
     "start_time": "2024-07-25T19:35:08.138820",
     "status": "completed"
    },
    "tags": []
   },
   "outputs": [],
   "source": [
    "df_all = pd.read_csv('/gpfs/milgram/project/rtaylor/imc33/LOS/data/master_los.csv', index_col=[0])"
   ]
  },
  {
   "cell_type": "code",
   "execution_count": 5,
   "id": "e273e2dc-31dc-4479-a574-ef580710ab91",
   "metadata": {
    "execution": {
     "iopub.execute_input": "2024-07-25T19:35:09.080743Z",
     "iopub.status.busy": "2024-07-25T19:35:09.080276Z",
     "iopub.status.idle": "2024-07-25T19:35:09.082919Z",
     "shell.execute_reply": "2024-07-25T19:35:09.082513Z"
    },
    "papermill": {
     "duration": 0.009822,
     "end_time": "2024-07-25T19:35:09.084021",
     "exception": false,
     "start_time": "2024-07-25T19:35:09.074199",
     "status": "completed"
    },
    "tags": []
   },
   "outputs": [],
   "source": [
    "pd.set_option('display.max_columns', None)"
   ]
  },
  {
   "cell_type": "code",
   "execution_count": 6,
   "id": "4bb6ded2-a4f5-43fa-8018-933907ce4f1e",
   "metadata": {
    "execution": {
     "iopub.execute_input": "2024-07-25T19:35:09.095964Z",
     "iopub.status.busy": "2024-07-25T19:35:09.095663Z",
     "iopub.status.idle": "2024-07-25T19:35:09.100603Z",
     "shell.execute_reply": "2024-07-25T19:35:09.100193Z"
    },
    "papermill": {
     "duration": 0.012217,
     "end_time": "2024-07-25T19:35:09.101689",
     "exception": false,
     "start_time": "2024-07-25T19:35:09.089472",
     "status": "completed"
    },
    "tags": []
   },
   "outputs": [
    {
     "data": {
      "text/plain": [
       "(12771, 908)"
      ]
     },
     "execution_count": 6,
     "metadata": {},
     "output_type": "execute_result"
    }
   ],
   "source": [
    "df_all.shape"
   ]
  },
  {
   "cell_type": "code",
   "execution_count": 7,
   "id": "a64f2bab-0599-4c34-9e01-b84b0959c3af",
   "metadata": {
    "execution": {
     "iopub.execute_input": "2024-07-25T19:35:09.113664Z",
     "iopub.status.busy": "2024-07-25T19:35:09.113259Z",
     "iopub.status.idle": "2024-07-25T19:35:09.118584Z",
     "shell.execute_reply": "2024-07-25T19:35:09.118171Z"
    },
    "papermill": {
     "duration": 0.012506,
     "end_time": "2024-07-25T19:35:09.119683",
     "exception": false,
     "start_time": "2024-07-25T19:35:09.107177",
     "status": "completed"
    },
    "tags": []
   },
   "outputs": [
    {
     "data": {
      "text/plain": [
       "viz_service_collapsed\n",
       "Medicine             9837\n",
       "Cardiology           1644\n",
       "Neurology             876\n",
       "Surgical Services     414\n",
       "Name: count, dtype: int64"
      ]
     },
     "execution_count": 7,
     "metadata": {},
     "output_type": "execute_result"
    }
   ],
   "source": [
    "df_all[\"viz_service_collapsed\"].value_counts()"
   ]
  },
  {
   "cell_type": "code",
   "execution_count": 8,
   "id": "f8434f55-e3ec-4f61-8a1a-7492db9b7c5a",
   "metadata": {
    "execution": {
     "iopub.execute_input": "2024-07-25T19:35:09.131971Z",
     "iopub.status.busy": "2024-07-25T19:35:09.131570Z",
     "iopub.status.idle": "2024-07-25T19:35:09.136187Z",
     "shell.execute_reply": "2024-07-25T19:35:09.135798Z"
    },
    "papermill": {
     "duration": 0.011809,
     "end_time": "2024-07-25T19:35:09.137239",
     "exception": false,
     "start_time": "2024-07-25T19:35:09.125430",
     "status": "completed"
    },
    "tags": []
   },
   "outputs": [],
   "source": [
    "df_all[\"viz_service_collapsed\"] = df_all[\"viz_service_collapsed\"].apply(map_med)"
   ]
  },
  {
   "cell_type": "code",
   "execution_count": 9,
   "id": "08286d51-64ce-41c4-96bc-866ad59f3c78",
   "metadata": {
    "execution": {
     "iopub.execute_input": "2024-07-25T19:35:09.149395Z",
     "iopub.status.busy": "2024-07-25T19:35:09.148997Z",
     "iopub.status.idle": "2024-07-25T19:35:09.153343Z",
     "shell.execute_reply": "2024-07-25T19:35:09.152965Z"
    },
    "papermill": {
     "duration": 0.011658,
     "end_time": "2024-07-25T19:35:09.154487",
     "exception": false,
     "start_time": "2024-07-25T19:35:09.142829",
     "status": "completed"
    },
    "tags": []
   },
   "outputs": [
    {
     "data": {
      "text/plain": [
       "viz_service_collapsed\n",
       "Medicine             11481\n",
       "Neurology              876\n",
       "Surgical Services      414\n",
       "Name: count, dtype: int64"
      ]
     },
     "execution_count": 9,
     "metadata": {},
     "output_type": "execute_result"
    }
   ],
   "source": [
    "df_all[\"viz_service_collapsed\"].value_counts()"
   ]
  },
  {
   "cell_type": "code",
   "execution_count": 10,
   "id": "bc833ea3-387d-47fe-b32c-d601dd6aa02e",
   "metadata": {
    "execution": {
     "iopub.execute_input": "2024-07-25T19:35:09.166885Z",
     "iopub.status.busy": "2024-07-25T19:35:09.166512Z",
     "iopub.status.idle": "2024-07-25T19:35:09.171045Z",
     "shell.execute_reply": "2024-07-25T19:35:09.170642Z"
    },
    "papermill": {
     "duration": 0.011785,
     "end_time": "2024-07-25T19:35:09.172066",
     "exception": false,
     "start_time": "2024-07-25T19:35:09.160281",
     "status": "completed"
    },
    "tags": []
   },
   "outputs": [
    {
     "data": {
      "text/plain": [
       "viz_disp_collapsed\n",
       "Other    8022\n",
       "Home     4749\n",
       "Name: count, dtype: int64"
      ]
     },
     "execution_count": 10,
     "metadata": {},
     "output_type": "execute_result"
    }
   ],
   "source": [
    "df_all[\"viz_disp_collapsed\"].value_counts()"
   ]
  },
  {
   "cell_type": "code",
   "execution_count": 11,
   "id": "0825738b-1690-469c-b754-5af4ad760c8a",
   "metadata": {
    "execution": {
     "iopub.execute_input": "2024-07-25T19:35:09.184630Z",
     "iopub.status.busy": "2024-07-25T19:35:09.184222Z",
     "iopub.status.idle": "2024-07-25T19:35:09.188287Z",
     "shell.execute_reply": "2024-07-25T19:35:09.187905Z"
    },
    "papermill": {
     "duration": 0.011443,
     "end_time": "2024-07-25T19:35:09.189335",
     "exception": false,
     "start_time": "2024-07-25T19:35:09.177892",
     "status": "completed"
    },
    "tags": []
   },
   "outputs": [
    {
     "data": {
      "text/plain": [
       "imaging_order_before_consult_order\n",
       "True     1351\n",
       "False     236\n",
       "Name: count, dtype: int64"
      ]
     },
     "execution_count": 11,
     "metadata": {},
     "output_type": "execute_result"
    }
   ],
   "source": [
    "df_all[\"imaging_order_before_consult_order\"].value_counts()"
   ]
  },
  {
   "cell_type": "code",
   "execution_count": 12,
   "id": "b4ce19f1-6777-417c-b137-17f2dfa1e8e1",
   "metadata": {
    "execution": {
     "iopub.execute_input": "2024-07-25T19:35:09.202340Z",
     "iopub.status.busy": "2024-07-25T19:35:09.201995Z",
     "iopub.status.idle": "2024-07-25T19:35:09.245885Z",
     "shell.execute_reply": "2024-07-25T19:35:09.245398Z"
    },
    "papermill": {
     "duration": 0.051995,
     "end_time": "2024-07-25T19:35:09.247392",
     "exception": false,
     "start_time": "2024-07-25T19:35:09.195397",
     "status": "completed"
    },
    "tags": []
   },
   "outputs": [],
   "source": [
    "#Filter for home patients\n",
    "df_filt = df_all.copy()\n",
    "#df_filt = df_all[df_all[\"viz_disp_collapsed\"] == \"Home\"].copy()\n",
    "#df_filt = df_all[df_all[\"thro_boarding_yn\"] == 1].copy()"
   ]
  },
  {
   "cell_type": "code",
   "execution_count": 13,
   "id": "daf28fe8-5be5-4b6a-a188-38b5d1f5273c",
   "metadata": {
    "execution": {
     "iopub.execute_input": "2024-07-25T19:35:09.260609Z",
     "iopub.status.busy": "2024-07-25T19:35:09.260342Z",
     "iopub.status.idle": "2024-07-25T19:35:09.263736Z",
     "shell.execute_reply": "2024-07-25T19:35:09.263290Z"
    },
    "papermill": {
     "duration": 0.011411,
     "end_time": "2024-07-25T19:35:09.264767",
     "exception": false,
     "start_time": "2024-07-25T19:35:09.253356",
     "status": "completed"
    },
    "tags": []
   },
   "outputs": [
    {
     "data": {
      "text/plain": [
       "(12771, 908)"
      ]
     },
     "execution_count": 13,
     "metadata": {},
     "output_type": "execute_result"
    }
   ],
   "source": [
    "df_filt.shape"
   ]
  },
  {
   "cell_type": "code",
   "execution_count": 14,
   "id": "e1abd044-d08d-420c-8af7-95a7bc4d7982",
   "metadata": {
    "execution": {
     "iopub.execute_input": "2024-07-25T19:35:09.277319Z",
     "iopub.status.busy": "2024-07-25T19:35:09.276887Z",
     "iopub.status.idle": "2024-07-25T19:35:10.458737Z",
     "shell.execute_reply": "2024-07-25T19:35:10.458294Z"
    },
    "papermill": {
     "duration": 1.189618,
     "end_time": "2024-07-25T19:35:10.460166",
     "exception": false,
     "start_time": "2024-07-25T19:35:09.270548",
     "status": "completed"
    },
    "tags": []
   },
   "outputs": [],
   "source": [
    "features_los = pd.read_excel('/gpfs/milgram/project/rtaylor/imc33/LOS/data/features_los.xlsx')\n",
    "\n",
    "# Features that are divided into 5 types to conduct data preprocessing\n",
    "# 1. drop: features that need to be dropped\n",
    "drop_list = features_los[features_los['type'] == 'drop']['col_name'].tolist()\n",
    "\n",
    "# 2. category: features that are already categorical and need to be OneHotEncoding (add missing value indicator, impute missing by adding 'missing' category)\n",
    "category_list = features_los[features_los['type'] == 'category']['col_name'].tolist()\n",
    "\n",
    "# 3. binary: features that are binary and need to be converted to categorical (add missing value indicator / prefer: fill missing with 0)\n",
    "binary_list = features_los[features_los['type'] == 'binary']['col_name'].tolist()\n",
    "\n",
    "# 4. continuous: features that are continous/numerical variables, need outlier handling and normalization (add missing value indicator, fill missing with median)\n",
    "continuous_list = features_los[features_los['type'] == 'continuous']['col_name'].tolist()\n",
    "\n",
    "# 5. discrete: features that are discrete/numerical variables, need to be discretized (fill missing with 0)\n",
    "discrete_list = features_los[features_los['type'] == 'discrete']['col_name'].tolist()"
   ]
  },
  {
   "cell_type": "code",
   "execution_count": 15,
   "id": "67af43fb-1659-41c0-8ee8-b8c2220dbed9",
   "metadata": {
    "execution": {
     "iopub.execute_input": "2024-07-25T19:35:10.473559Z",
     "iopub.status.busy": "2024-07-25T19:35:10.473308Z",
     "iopub.status.idle": "2024-07-25T19:35:10.505117Z",
     "shell.execute_reply": "2024-07-25T19:35:10.504624Z"
    },
    "papermill": {
     "duration": 0.040113,
     "end_time": "2024-07-25T19:35:10.506670",
     "exception": false,
     "start_time": "2024-07-25T19:35:10.466557",
     "status": "completed"
    },
    "tags": []
   },
   "outputs": [],
   "source": [
    "# Split into X, y\n",
    "X = df_filt.drop(['viz_outcome_prolonged_los_yn'], axis=1)\n",
    "y = df_filt['viz_outcome_prolonged_los_yn']"
   ]
  },
  {
   "cell_type": "code",
   "execution_count": 16,
   "id": "a17d4884-39fc-494c-aa1c-519f21e28a21",
   "metadata": {
    "execution": {
     "iopub.execute_input": "2024-07-25T19:35:10.519956Z",
     "iopub.status.busy": "2024-07-25T19:35:10.519552Z",
     "iopub.status.idle": "2024-07-25T19:35:10.770389Z",
     "shell.execute_reply": "2024-07-25T19:35:10.769735Z"
    },
    "papermill": {
     "duration": 0.259025,
     "end_time": "2024-07-25T19:35:10.771794",
     "exception": false,
     "start_time": "2024-07-25T19:35:10.512769",
     "status": "completed"
    },
    "tags": []
   },
   "outputs": [],
   "source": [
    "# Convert variables to categorical\n",
    "X[binary_list] = X[binary_list].astype('category')\n",
    "X[category_list] = X[category_list].astype('category')"
   ]
  },
  {
   "cell_type": "code",
   "execution_count": 17,
   "id": "0eb87649-bcae-439e-822b-01dc9c7b246d",
   "metadata": {
    "execution": {
     "iopub.execute_input": "2024-07-25T19:35:10.785287Z",
     "iopub.status.busy": "2024-07-25T19:35:10.785014Z",
     "iopub.status.idle": "2024-07-25T19:35:10.787403Z",
     "shell.execute_reply": "2024-07-25T19:35:10.787002Z"
    },
    "papermill": {
     "duration": 0.010046,
     "end_time": "2024-07-25T19:35:10.788377",
     "exception": false,
     "start_time": "2024-07-25T19:35:10.778331",
     "status": "completed"
    },
    "tags": []
   },
   "outputs": [],
   "source": [
    "#missing_pct.reset_index().sort_values(0, ascending=False).head()"
   ]
  },
  {
   "cell_type": "code",
   "execution_count": 18,
   "id": "a3b33e19-a9f3-4849-93f9-ec1a1c269b10",
   "metadata": {
    "execution": {
     "iopub.execute_input": "2024-07-25T19:35:10.801652Z",
     "iopub.status.busy": "2024-07-25T19:35:10.801362Z",
     "iopub.status.idle": "2024-07-25T19:35:10.803786Z",
     "shell.execute_reply": "2024-07-25T19:35:10.803384Z"
    },
    "papermill": {
     "duration": 0.01029,
     "end_time": "2024-07-25T19:35:10.804755",
     "exception": false,
     "start_time": "2024-07-25T19:35:10.794465",
     "status": "completed"
    },
    "tags": []
   },
   "outputs": [],
   "source": [
    "continuous_list.remove(\"viz_age\")"
   ]
  },
  {
   "cell_type": "code",
   "execution_count": 19,
   "id": "93ebdc82-7438-457f-885b-2541277defe9",
   "metadata": {
    "execution": {
     "iopub.execute_input": "2024-07-25T19:35:10.818035Z",
     "iopub.status.busy": "2024-07-25T19:35:10.817657Z",
     "iopub.status.idle": "2024-07-25T19:35:10.819817Z",
     "shell.execute_reply": "2024-07-25T19:35:10.819425Z"
    },
    "papermill": {
     "duration": 0.009774,
     "end_time": "2024-07-25T19:35:10.820820",
     "exception": false,
     "start_time": "2024-07-25T19:35:10.811046",
     "status": "completed"
    },
    "tags": []
   },
   "outputs": [],
   "source": [
    "#Check drop list\n",
    "#drop_list"
   ]
  },
  {
   "cell_type": "code",
   "execution_count": 20,
   "id": "7d66e29a-42e4-476b-88b6-ff2e22978964",
   "metadata": {
    "execution": {
     "iopub.execute_input": "2024-07-25T19:35:10.855161Z",
     "iopub.status.busy": "2024-07-25T19:35:10.854722Z",
     "iopub.status.idle": "2024-07-25T19:35:10.873328Z",
     "shell.execute_reply": "2024-07-25T19:35:10.872876Z"
    },
    "papermill": {
     "duration": 0.047882,
     "end_time": "2024-07-25T19:35:10.874758",
     "exception": false,
     "start_time": "2024-07-25T19:35:10.826876",
     "status": "completed"
    },
    "tags": []
   },
   "outputs": [],
   "source": [
    "X = X.drop(columns=drop_list+continuous_list)\n",
    "X = X.reset_index()\n",
    "y = y.reset_index()"
   ]
  },
  {
   "cell_type": "code",
   "execution_count": 21,
   "id": "7075a970-8bd9-42d6-bae9-1f1c380219f5",
   "metadata": {
    "execution": {
     "iopub.execute_input": "2024-07-25T19:35:10.889106Z",
     "iopub.status.busy": "2024-07-25T19:35:10.888627Z",
     "iopub.status.idle": "2024-07-25T19:35:11.019879Z",
     "shell.execute_reply": "2024-07-25T19:35:11.019410Z"
    },
    "papermill": {
     "duration": 0.139835,
     "end_time": "2024-07-25T19:35:11.021357",
     "exception": false,
     "start_time": "2024-07-25T19:35:10.881522",
     "status": "completed"
    },
    "tags": []
   },
   "outputs": [],
   "source": [
    "# Split the data by group shuffle split on 'PAT_MRN_ID' into train set and validation set\n",
    "gss = GroupShuffleSplit(n_splits=2, test_size=0.2, random_state=42)\n",
    "\n",
    "train_ix, val_ix = next(gss.split(X, y, groups=X['pat_mrn_id']))\n",
    "\n",
    "X_train = X.loc[train_ix]\n",
    "y_train = y.loc[train_ix]\n",
    "\n",
    "X_val = X.loc[val_ix]\n",
    "y_val = y.loc[val_ix]\n",
    "\n",
    "# Drop 'PAT_MRN_ID' and set 'PAT_ENC_CSN_ID' as index\n",
    "X_train = X_train.drop(['pat_mrn_id'], axis=1).set_index('pat_enc_csn_id')\n",
    "X_val = X_val.drop(['pat_mrn_id'], axis=1).set_index('pat_enc_csn_id')"
   ]
  },
  {
   "cell_type": "code",
   "execution_count": 22,
   "id": "3903814a-6155-43da-ae19-b828c71da820",
   "metadata": {
    "execution": {
     "iopub.execute_input": "2024-07-25T19:35:11.035015Z",
     "iopub.status.busy": "2024-07-25T19:35:11.034765Z",
     "iopub.status.idle": "2024-07-25T19:35:11.038561Z",
     "shell.execute_reply": "2024-07-25T19:35:11.038140Z"
    },
    "papermill": {
     "duration": 0.011972,
     "end_time": "2024-07-25T19:35:11.039688",
     "exception": false,
     "start_time": "2024-07-25T19:35:11.027716",
     "status": "completed"
    },
    "tags": []
   },
   "outputs": [],
   "source": [
    "# Update feature preprocessing pipeline\n",
    "feature_preprocess_pipeline = Pipeline(steps=[\n",
    "\n",
    "    # Missing value imputation\n",
    "    # Impute missing values with 0 for discrete variables\n",
    "    ('arbitrary_number_imputer', ArbitraryNumberImputer(arbitrary_number=0, variables=discrete_list)),\n",
    "\n",
    "  \n",
    "    # Impute missing values with adding 'missing' category for categorical variables \n",
    "   ('categorical_imputer', CategoricalImputer(variables=category_list)),\n",
    "\n",
    "    # Impute missing values with 0 for binary variables \n",
    "    ('binary_imputer', CategoricalImputer(fill_value='0', variables=binary_list)),\n",
    "\n",
    "    \n",
    "    # Rare encoding for categorical variables\n",
    "    ('rare_label_encoder', RareLabelEncoder(tol=0.01, n_categories=5, max_n_categories=10, variables=category_list)),\n",
    "\n",
    "    # OneHotEncoding for categoricals\n",
    "    ('one_hot_category', OneHotEncoder(variables=category_list)),\n",
    "    \n",
    "])  # Apply the pipeline"
   ]
  },
  {
   "cell_type": "code",
   "execution_count": 23,
   "id": "efb20567-e6ba-4a32-8fac-cdc7b774621c",
   "metadata": {
    "execution": {
     "iopub.execute_input": "2024-07-25T19:35:11.052783Z",
     "iopub.status.busy": "2024-07-25T19:35:11.052390Z",
     "iopub.status.idle": "2024-07-25T19:36:02.869161Z",
     "shell.execute_reply": "2024-07-25T19:36:02.868658Z"
    },
    "papermill": {
     "duration": 51.824928,
     "end_time": "2024-07-25T19:36:02.870628",
     "exception": false,
     "start_time": "2024-07-25T19:35:11.045700",
     "status": "completed"
    },
    "tags": []
   },
   "outputs": [],
   "source": [
    "# Apply the pipeline\n",
    "X_train_preprocessed = feature_preprocess_pipeline.fit_transform(X_train, y_train)\n",
    "X_val_preprocessed = feature_preprocess_pipeline.transform(X_val)"
   ]
  },
  {
   "cell_type": "code",
   "execution_count": 24,
   "id": "1a6460a5-8160-4240-999f-83b16dae8282",
   "metadata": {
    "execution": {
     "iopub.execute_input": "2024-07-25T19:36:02.886232Z",
     "iopub.status.busy": "2024-07-25T19:36:02.885748Z",
     "iopub.status.idle": "2024-07-25T19:36:02.889197Z",
     "shell.execute_reply": "2024-07-25T19:36:02.888762Z"
    },
    "papermill": {
     "duration": 0.011461,
     "end_time": "2024-07-25T19:36:02.890280",
     "exception": false,
     "start_time": "2024-07-25T19:36:02.878819",
     "status": "completed"
    },
    "tags": []
   },
   "outputs": [
    {
     "data": {
      "text/plain": [
       "(10246, 1486)"
      ]
     },
     "execution_count": 24,
     "metadata": {},
     "output_type": "execute_result"
    }
   ],
   "source": [
    "X_train_preprocessed.shape"
   ]
  },
  {
   "cell_type": "markdown",
   "id": "4f5bde03-d7a4-439f-8376-dcd2a4ef6b5a",
   "metadata": {
    "papermill": {
     "duration": 0.00596,
     "end_time": "2024-07-25T19:36:02.902316",
     "exception": false,
     "start_time": "2024-07-25T19:36:02.896356",
     "status": "completed"
    },
    "tags": []
   },
   "source": [
    "### Feature Selection"
   ]
  },
  {
   "cell_type": "code",
   "execution_count": 25,
   "id": "c41bd244-6601-481f-9d53-f495d13e438b",
   "metadata": {
    "execution": {
     "iopub.execute_input": "2024-07-25T19:36:02.915641Z",
     "iopub.status.busy": "2024-07-25T19:36:02.915273Z",
     "iopub.status.idle": "2024-07-25T19:36:02.918351Z",
     "shell.execute_reply": "2024-07-25T19:36:02.917954Z"
    },
    "papermill": {
     "duration": 0.010966,
     "end_time": "2024-07-25T19:36:02.919411",
     "exception": false,
     "start_time": "2024-07-25T19:36:02.908445",
     "status": "completed"
    },
    "tags": []
   },
   "outputs": [],
   "source": [
    "# 1st Feature Selection pipeline\n",
    "feature_selection_pipeline = Pipeline(steps=[\n",
    "\n",
    "        ('drop_constant', DropConstantFeatures(tol=0.99)),\n",
    "\n",
    "        ('drop_duplicates', DropDuplicateFeatures()),\n",
    "\n",
    "        ('correlated_features', SmartCorrelatedSelection(\n",
    "        method='pearson',\n",
    "        threshold=0.9,\n",
    "        selection_method='model_performance',\n",
    "        estimator=xgb.XGBClassifier(random_state=0)\n",
    "        ))\n",
    "])"
   ]
  },
  {
   "cell_type": "markdown",
   "id": "c3dd9219-8c59-490b-84ff-f410a05bc4de",
   "metadata": {
    "papermill": {
     "duration": 0.006023,
     "end_time": "2024-07-25T19:36:02.931725",
     "exception": false,
     "start_time": "2024-07-25T19:36:02.925702",
     "status": "completed"
    },
    "tags": []
   },
   "source": [
    "### XGB Model"
   ]
  },
  {
   "cell_type": "code",
   "execution_count": 26,
   "id": "b6701fe2-ccda-429c-be00-fff40a0dc7b5",
   "metadata": {
    "execution": {
     "iopub.execute_input": "2024-07-25T19:36:02.944800Z",
     "iopub.status.busy": "2024-07-25T19:36:02.944534Z",
     "iopub.status.idle": "2024-07-25T19:36:43.545929Z",
     "shell.execute_reply": "2024-07-25T19:36:43.545378Z"
    },
    "papermill": {
     "duration": 40.609702,
     "end_time": "2024-07-25T19:36:43.547455",
     "exception": false,
     "start_time": "2024-07-25T19:36:02.937753",
     "status": "completed"
    },
    "tags": []
   },
   "outputs": [],
   "source": [
    "# Apply the pipeline\n",
    "X_train_selected = feature_selection_pipeline.fit_transform(X_train_preprocessed, y_train['viz_outcome_prolonged_los_yn'])\n",
    "X_val_selected = feature_selection_pipeline.transform(X_val_preprocessed)"
   ]
  },
  {
   "cell_type": "code",
   "execution_count": 27,
   "id": "8b451525-6a34-4181-bf02-3d5905ac5913",
   "metadata": {
    "execution": {
     "iopub.execute_input": "2024-07-25T19:36:43.562932Z",
     "iopub.status.busy": "2024-07-25T19:36:43.562673Z",
     "iopub.status.idle": "2024-07-25T19:36:43.566176Z",
     "shell.execute_reply": "2024-07-25T19:36:43.565776Z"
    },
    "papermill": {
     "duration": 0.011744,
     "end_time": "2024-07-25T19:36:43.567258",
     "exception": false,
     "start_time": "2024-07-25T19:36:43.555514",
     "status": "completed"
    },
    "tags": []
   },
   "outputs": [
    {
     "data": {
      "text/plain": [
       "(10246, 616)"
      ]
     },
     "execution_count": 27,
     "metadata": {},
     "output_type": "execute_result"
    }
   ],
   "source": [
    "X_train_selected.shape"
   ]
  },
  {
   "cell_type": "code",
   "execution_count": 28,
   "id": "d79c0383-e9bf-49c1-889c-5b82afe84757",
   "metadata": {
    "execution": {
     "iopub.execute_input": "2024-07-25T19:36:43.581018Z",
     "iopub.status.busy": "2024-07-25T19:36:43.580761Z",
     "iopub.status.idle": "2024-07-25T19:36:43.584198Z",
     "shell.execute_reply": "2024-07-25T19:36:43.583822Z"
    },
    "papermill": {
     "duration": 0.011449,
     "end_time": "2024-07-25T19:36:43.585327",
     "exception": false,
     "start_time": "2024-07-25T19:36:43.573878",
     "status": "completed"
    },
    "tags": []
   },
   "outputs": [
    {
     "data": {
      "text/plain": [
       "0.4388053874682803"
      ]
     },
     "execution_count": 28,
     "metadata": {},
     "output_type": "execute_result"
    }
   ],
   "source": [
    "y_train['viz_outcome_prolonged_los_yn'].sum()/y_train.shape[0]"
   ]
  },
  {
   "cell_type": "code",
   "execution_count": 29,
   "id": "4bdc197a-6cde-4e03-99ef-94aaa709b34e",
   "metadata": {
    "execution": {
     "iopub.execute_input": "2024-07-25T19:36:43.598976Z",
     "iopub.status.busy": "2024-07-25T19:36:43.598559Z",
     "iopub.status.idle": "2024-07-25T19:36:43.601314Z",
     "shell.execute_reply": "2024-07-25T19:36:43.600912Z"
    },
    "papermill": {
     "duration": 0.010713,
     "end_time": "2024-07-25T19:36:43.602334",
     "exception": false,
     "start_time": "2024-07-25T19:36:43.591621",
     "status": "completed"
    },
    "tags": []
   },
   "outputs": [],
   "source": [
    "estimators = [\n",
    "    ('encoder', TargetEncoder()),\n",
    "    ('clf', XGBClassifier(random_state=8, verbosity=1))\n",
    "]\n",
    "\n",
    "tuning_pipeline = Pipeline(steps=estimators)"
   ]
  },
  {
   "cell_type": "code",
   "execution_count": 30,
   "id": "93ee0d43-79bf-4e32-8163-8583df595df2",
   "metadata": {
    "execution": {
     "iopub.execute_input": "2024-07-25T19:36:43.616162Z",
     "iopub.status.busy": "2024-07-25T19:36:43.615812Z",
     "iopub.status.idle": "2024-07-25T19:36:43.624659Z",
     "shell.execute_reply": "2024-07-25T19:36:43.624265Z"
    },
    "papermill": {
     "duration": 0.016995,
     "end_time": "2024-07-25T19:36:43.625765",
     "exception": false,
     "start_time": "2024-07-25T19:36:43.608770",
     "status": "completed"
    },
    "tags": []
   },
   "outputs": [],
   "source": [
    "search_space = {\n",
    "    'clf__max_depth': Integer(2,8),\n",
    "    'clf__learning_rate': Real(0.001, 1.0, prior='log-uniform'),\n",
    "    'clf__subsample': Real(0.5, 1.0),\n",
    "    'clf__colsample_bytree': Real(0.5, 1.0),\n",
    "    'clf__colsample_bylevel': Real(0.5, 1.0),\n",
    "    'clf__colsample_bynode' : Real(0.5, 1.0),\n",
    "    'clf__reg_alpha': Real(0.0, 10.0),\n",
    "    'clf__reg_lambda': Real(0.0, 10.0),\n",
    "    'clf__gamma': Real(0.0, 10.0)\n",
    "}\n",
    "\n",
    "model_xgb = BayesSearchCV(tuning_pipeline, search_space, cv=3, n_iter=10, scoring='roc_auc', random_state=8) "
   ]
  },
  {
   "cell_type": "code",
   "execution_count": 31,
   "id": "6e948f60-8044-48c4-9455-5ba38ec5651f",
   "metadata": {
    "execution": {
     "iopub.execute_input": "2024-07-25T19:36:43.639693Z",
     "iopub.status.busy": "2024-07-25T19:36:43.639418Z",
     "iopub.status.idle": "2024-07-25T19:36:43.642301Z",
     "shell.execute_reply": "2024-07-25T19:36:43.641911Z"
    },
    "papermill": {
     "duration": 0.010945,
     "end_time": "2024-07-25T19:36:43.643342",
     "exception": false,
     "start_time": "2024-07-25T19:36:43.632397",
     "status": "completed"
    },
    "tags": []
   },
   "outputs": [],
   "source": [
    "y_train = y_train.set_index('pat_enc_csn_id')"
   ]
  },
  {
   "cell_type": "code",
   "execution_count": 32,
   "id": "30b5a57d-490a-400a-9c4c-0bc24b808e70",
   "metadata": {
    "execution": {
     "iopub.execute_input": "2024-07-25T19:36:43.657079Z",
     "iopub.status.busy": "2024-07-25T19:36:43.656736Z",
     "iopub.status.idle": "2024-07-25T19:37:07.335269Z",
     "shell.execute_reply": "2024-07-25T19:37:07.334826Z"
    },
    "papermill": {
     "duration": 23.686596,
     "end_time": "2024-07-25T19:37:07.336490",
     "exception": false,
     "start_time": "2024-07-25T19:36:43.649894",
     "status": "completed"
    },
    "tags": []
   },
   "outputs": [
    {
     "data": {
      "text/html": [
       "<style>#sk-container-id-1 {color: black;}#sk-container-id-1 pre{padding: 0;}#sk-container-id-1 div.sk-toggleable {background-color: white;}#sk-container-id-1 label.sk-toggleable__label {cursor: pointer;display: block;width: 100%;margin-bottom: 0;padding: 0.3em;box-sizing: border-box;text-align: center;}#sk-container-id-1 label.sk-toggleable__label-arrow:before {content: \"▸\";float: left;margin-right: 0.25em;color: #696969;}#sk-container-id-1 label.sk-toggleable__label-arrow:hover:before {color: black;}#sk-container-id-1 div.sk-estimator:hover label.sk-toggleable__label-arrow:before {color: black;}#sk-container-id-1 div.sk-toggleable__content {max-height: 0;max-width: 0;overflow: hidden;text-align: left;background-color: #f0f8ff;}#sk-container-id-1 div.sk-toggleable__content pre {margin: 0.2em;color: black;border-radius: 0.25em;background-color: #f0f8ff;}#sk-container-id-1 input.sk-toggleable__control:checked~div.sk-toggleable__content {max-height: 200px;max-width: 100%;overflow: auto;}#sk-container-id-1 input.sk-toggleable__control:checked~label.sk-toggleable__label-arrow:before {content: \"▾\";}#sk-container-id-1 div.sk-estimator input.sk-toggleable__control:checked~label.sk-toggleable__label {background-color: #d4ebff;}#sk-container-id-1 div.sk-label input.sk-toggleable__control:checked~label.sk-toggleable__label {background-color: #d4ebff;}#sk-container-id-1 input.sk-hidden--visually {border: 0;clip: rect(1px 1px 1px 1px);clip: rect(1px, 1px, 1px, 1px);height: 1px;margin: -1px;overflow: hidden;padding: 0;position: absolute;width: 1px;}#sk-container-id-1 div.sk-estimator {font-family: monospace;background-color: #f0f8ff;border: 1px dotted black;border-radius: 0.25em;box-sizing: border-box;margin-bottom: 0.5em;}#sk-container-id-1 div.sk-estimator:hover {background-color: #d4ebff;}#sk-container-id-1 div.sk-parallel-item::after {content: \"\";width: 100%;border-bottom: 1px solid gray;flex-grow: 1;}#sk-container-id-1 div.sk-label:hover label.sk-toggleable__label {background-color: #d4ebff;}#sk-container-id-1 div.sk-serial::before {content: \"\";position: absolute;border-left: 1px solid gray;box-sizing: border-box;top: 0;bottom: 0;left: 50%;z-index: 0;}#sk-container-id-1 div.sk-serial {display: flex;flex-direction: column;align-items: center;background-color: white;padding-right: 0.2em;padding-left: 0.2em;position: relative;}#sk-container-id-1 div.sk-item {position: relative;z-index: 1;}#sk-container-id-1 div.sk-parallel {display: flex;align-items: stretch;justify-content: center;background-color: white;position: relative;}#sk-container-id-1 div.sk-item::before, #sk-container-id-1 div.sk-parallel-item::before {content: \"\";position: absolute;border-left: 1px solid gray;box-sizing: border-box;top: 0;bottom: 0;left: 50%;z-index: -1;}#sk-container-id-1 div.sk-parallel-item {display: flex;flex-direction: column;z-index: 1;position: relative;background-color: white;}#sk-container-id-1 div.sk-parallel-item:first-child::after {align-self: flex-end;width: 50%;}#sk-container-id-1 div.sk-parallel-item:last-child::after {align-self: flex-start;width: 50%;}#sk-container-id-1 div.sk-parallel-item:only-child::after {width: 0;}#sk-container-id-1 div.sk-dashed-wrapped {border: 1px dashed gray;margin: 0 0.4em 0.5em 0.4em;box-sizing: border-box;padding-bottom: 0.4em;background-color: white;}#sk-container-id-1 div.sk-label label {font-family: monospace;font-weight: bold;display: inline-block;line-height: 1.2em;}#sk-container-id-1 div.sk-label-container {text-align: center;}#sk-container-id-1 div.sk-container {/* jupyter's `normalize.less` sets `[hidden] { display: none; }` but bootstrap.min.css set `[hidden] { display: none !important; }` so we also need the `!important` here to be able to override the default hidden behavior on the sphinx rendered scikit-learn.org. See: https://github.com/scikit-learn/scikit-learn/issues/21755 */display: inline-block !important;position: relative;}#sk-container-id-1 div.sk-text-repr-fallback {display: none;}</style><div id=\"sk-container-id-1\" class=\"sk-top-container\"><div class=\"sk-text-repr-fallback\"><pre>BayesSearchCV(cv=3,\n",
       "              estimator=Pipeline(steps=[(&#x27;encoder&#x27;, TargetEncoder()),\n",
       "                                        (&#x27;clf&#x27;,\n",
       "                                         XGBClassifier(base_score=None,\n",
       "                                                       booster=None,\n",
       "                                                       callbacks=None,\n",
       "                                                       colsample_bylevel=None,\n",
       "                                                       colsample_bynode=None,\n",
       "                                                       colsample_bytree=None,\n",
       "                                                       device=None,\n",
       "                                                       early_stopping_rounds=None,\n",
       "                                                       enable_categorical=False,\n",
       "                                                       eval_metric=None,\n",
       "                                                       feature_types=None,\n",
       "                                                       gamma=None,\n",
       "                                                       grow_policy=None,\n",
       "                                                       importance_type=N...\n",
       "                             &#x27;clf__learning_rate&#x27;: Real(low=0.001, high=1.0, prior=&#x27;log-uniform&#x27;, transform=&#x27;normalize&#x27;),\n",
       "                             &#x27;clf__max_depth&#x27;: Integer(low=2, high=8, prior=&#x27;uniform&#x27;, transform=&#x27;normalize&#x27;),\n",
       "                             &#x27;clf__reg_alpha&#x27;: Real(low=0.0, high=10.0, prior=&#x27;uniform&#x27;, transform=&#x27;normalize&#x27;),\n",
       "                             &#x27;clf__reg_lambda&#x27;: Real(low=0.0, high=10.0, prior=&#x27;uniform&#x27;, transform=&#x27;normalize&#x27;),\n",
       "                             &#x27;clf__subsample&#x27;: Real(low=0.5, high=1.0, prior=&#x27;uniform&#x27;, transform=&#x27;normalize&#x27;)})</pre><b>In a Jupyter environment, please rerun this cell to show the HTML representation or trust the notebook. <br />On GitHub, the HTML representation is unable to render, please try loading this page with nbviewer.org.</b></div><div class=\"sk-container\" hidden><div class=\"sk-item sk-dashed-wrapped\"><div class=\"sk-label-container\"><div class=\"sk-label sk-toggleable\"><input class=\"sk-toggleable__control sk-hidden--visually\" id=\"sk-estimator-id-1\" type=\"checkbox\" ><label for=\"sk-estimator-id-1\" class=\"sk-toggleable__label sk-toggleable__label-arrow\">BayesSearchCV</label><div class=\"sk-toggleable__content\"><pre>BayesSearchCV(cv=3,\n",
       "              estimator=Pipeline(steps=[(&#x27;encoder&#x27;, TargetEncoder()),\n",
       "                                        (&#x27;clf&#x27;,\n",
       "                                         XGBClassifier(base_score=None,\n",
       "                                                       booster=None,\n",
       "                                                       callbacks=None,\n",
       "                                                       colsample_bylevel=None,\n",
       "                                                       colsample_bynode=None,\n",
       "                                                       colsample_bytree=None,\n",
       "                                                       device=None,\n",
       "                                                       early_stopping_rounds=None,\n",
       "                                                       enable_categorical=False,\n",
       "                                                       eval_metric=None,\n",
       "                                                       feature_types=None,\n",
       "                                                       gamma=None,\n",
       "                                                       grow_policy=None,\n",
       "                                                       importance_type=N...\n",
       "                             &#x27;clf__learning_rate&#x27;: Real(low=0.001, high=1.0, prior=&#x27;log-uniform&#x27;, transform=&#x27;normalize&#x27;),\n",
       "                             &#x27;clf__max_depth&#x27;: Integer(low=2, high=8, prior=&#x27;uniform&#x27;, transform=&#x27;normalize&#x27;),\n",
       "                             &#x27;clf__reg_alpha&#x27;: Real(low=0.0, high=10.0, prior=&#x27;uniform&#x27;, transform=&#x27;normalize&#x27;),\n",
       "                             &#x27;clf__reg_lambda&#x27;: Real(low=0.0, high=10.0, prior=&#x27;uniform&#x27;, transform=&#x27;normalize&#x27;),\n",
       "                             &#x27;clf__subsample&#x27;: Real(low=0.5, high=1.0, prior=&#x27;uniform&#x27;, transform=&#x27;normalize&#x27;)})</pre></div></div></div><div class=\"sk-parallel\"><div class=\"sk-parallel-item\"><div class=\"sk-item\"><div class=\"sk-label-container\"><div class=\"sk-label sk-toggleable\"><input class=\"sk-toggleable__control sk-hidden--visually\" id=\"sk-estimator-id-2\" type=\"checkbox\" ><label for=\"sk-estimator-id-2\" class=\"sk-toggleable__label sk-toggleable__label-arrow\">estimator: Pipeline</label><div class=\"sk-toggleable__content\"><pre>Pipeline(steps=[(&#x27;encoder&#x27;, TargetEncoder()),\n",
       "                (&#x27;clf&#x27;,\n",
       "                 XGBClassifier(base_score=None, booster=None, callbacks=None,\n",
       "                               colsample_bylevel=None, colsample_bynode=None,\n",
       "                               colsample_bytree=None, device=None,\n",
       "                               early_stopping_rounds=None,\n",
       "                               enable_categorical=False, eval_metric=None,\n",
       "                               feature_types=None, gamma=None, grow_policy=None,\n",
       "                               importance_type=None,\n",
       "                               interaction_constraints=None, learning_rate=None,\n",
       "                               max_bin=None, max_cat_threshold=None,\n",
       "                               max_cat_to_onehot=None, max_delta_step=None,\n",
       "                               max_depth=None, max_leaves=None,\n",
       "                               min_child_weight=None, missing=nan,\n",
       "                               monotone_constraints=None, multi_strategy=None,\n",
       "                               n_estimators=None, n_jobs=None,\n",
       "                               num_parallel_tree=None, random_state=8, ...))])</pre></div></div></div><div class=\"sk-serial\"><div class=\"sk-item\"><div class=\"sk-serial\"><div class=\"sk-item\"><div class=\"sk-estimator sk-toggleable\"><input class=\"sk-toggleable__control sk-hidden--visually\" id=\"sk-estimator-id-3\" type=\"checkbox\" ><label for=\"sk-estimator-id-3\" class=\"sk-toggleable__label sk-toggleable__label-arrow\">TargetEncoder</label><div class=\"sk-toggleable__content\"><pre>TargetEncoder()</pre></div></div></div><div class=\"sk-item\"><div class=\"sk-estimator sk-toggleable\"><input class=\"sk-toggleable__control sk-hidden--visually\" id=\"sk-estimator-id-4\" type=\"checkbox\" ><label for=\"sk-estimator-id-4\" class=\"sk-toggleable__label sk-toggleable__label-arrow\">XGBClassifier</label><div class=\"sk-toggleable__content\"><pre>XGBClassifier(base_score=None, booster=None, callbacks=None,\n",
       "              colsample_bylevel=None, colsample_bynode=None,\n",
       "              colsample_bytree=None, device=None, early_stopping_rounds=None,\n",
       "              enable_categorical=False, eval_metric=None, feature_types=None,\n",
       "              gamma=None, grow_policy=None, importance_type=None,\n",
       "              interaction_constraints=None, learning_rate=None, max_bin=None,\n",
       "              max_cat_threshold=None, max_cat_to_onehot=None,\n",
       "              max_delta_step=None, max_depth=None, max_leaves=None,\n",
       "              min_child_weight=None, missing=nan, monotone_constraints=None,\n",
       "              multi_strategy=None, n_estimators=None, n_jobs=None,\n",
       "              num_parallel_tree=None, random_state=8, ...)</pre></div></div></div></div></div></div></div></div></div></div></div></div>"
      ],
      "text/plain": [
       "BayesSearchCV(cv=3,\n",
       "              estimator=Pipeline(steps=[('encoder', TargetEncoder()),\n",
       "                                        ('clf',\n",
       "                                         XGBClassifier(base_score=None,\n",
       "                                                       booster=None,\n",
       "                                                       callbacks=None,\n",
       "                                                       colsample_bylevel=None,\n",
       "                                                       colsample_bynode=None,\n",
       "                                                       colsample_bytree=None,\n",
       "                                                       device=None,\n",
       "                                                       early_stopping_rounds=None,\n",
       "                                                       enable_categorical=False,\n",
       "                                                       eval_metric=None,\n",
       "                                                       feature_types=None,\n",
       "                                                       gamma=None,\n",
       "                                                       grow_policy=None,\n",
       "                                                       importance_type=N...\n",
       "                             'clf__learning_rate': Real(low=0.001, high=1.0, prior='log-uniform', transform='normalize'),\n",
       "                             'clf__max_depth': Integer(low=2, high=8, prior='uniform', transform='normalize'),\n",
       "                             'clf__reg_alpha': Real(low=0.0, high=10.0, prior='uniform', transform='normalize'),\n",
       "                             'clf__reg_lambda': Real(low=0.0, high=10.0, prior='uniform', transform='normalize'),\n",
       "                             'clf__subsample': Real(low=0.5, high=1.0, prior='uniform', transform='normalize')})"
      ]
     },
     "execution_count": 32,
     "metadata": {},
     "output_type": "execute_result"
    }
   ],
   "source": [
    "model_xgb.fit(X_train_selected,  y_train)"
   ]
  },
  {
   "cell_type": "code",
   "execution_count": 33,
   "id": "d5c467ee-bf69-49df-88f7-d3fc850760f3",
   "metadata": {
    "execution": {
     "iopub.execute_input": "2024-07-25T19:37:07.353060Z",
     "iopub.status.busy": "2024-07-25T19:37:07.352810Z",
     "iopub.status.idle": "2024-07-25T19:37:07.366590Z",
     "shell.execute_reply": "2024-07-25T19:37:07.366196Z"
    },
    "papermill": {
     "duration": 0.022558,
     "end_time": "2024-07-25T19:37:07.367753",
     "exception": false,
     "start_time": "2024-07-25T19:37:07.345195",
     "status": "completed"
    },
    "tags": []
   },
   "outputs": [
    {
     "data": {
      "text/html": [
       "<style>#sk-container-id-2 {color: black;}#sk-container-id-2 pre{padding: 0;}#sk-container-id-2 div.sk-toggleable {background-color: white;}#sk-container-id-2 label.sk-toggleable__label {cursor: pointer;display: block;width: 100%;margin-bottom: 0;padding: 0.3em;box-sizing: border-box;text-align: center;}#sk-container-id-2 label.sk-toggleable__label-arrow:before {content: \"▸\";float: left;margin-right: 0.25em;color: #696969;}#sk-container-id-2 label.sk-toggleable__label-arrow:hover:before {color: black;}#sk-container-id-2 div.sk-estimator:hover label.sk-toggleable__label-arrow:before {color: black;}#sk-container-id-2 div.sk-toggleable__content {max-height: 0;max-width: 0;overflow: hidden;text-align: left;background-color: #f0f8ff;}#sk-container-id-2 div.sk-toggleable__content pre {margin: 0.2em;color: black;border-radius: 0.25em;background-color: #f0f8ff;}#sk-container-id-2 input.sk-toggleable__control:checked~div.sk-toggleable__content {max-height: 200px;max-width: 100%;overflow: auto;}#sk-container-id-2 input.sk-toggleable__control:checked~label.sk-toggleable__label-arrow:before {content: \"▾\";}#sk-container-id-2 div.sk-estimator input.sk-toggleable__control:checked~label.sk-toggleable__label {background-color: #d4ebff;}#sk-container-id-2 div.sk-label input.sk-toggleable__control:checked~label.sk-toggleable__label {background-color: #d4ebff;}#sk-container-id-2 input.sk-hidden--visually {border: 0;clip: rect(1px 1px 1px 1px);clip: rect(1px, 1px, 1px, 1px);height: 1px;margin: -1px;overflow: hidden;padding: 0;position: absolute;width: 1px;}#sk-container-id-2 div.sk-estimator {font-family: monospace;background-color: #f0f8ff;border: 1px dotted black;border-radius: 0.25em;box-sizing: border-box;margin-bottom: 0.5em;}#sk-container-id-2 div.sk-estimator:hover {background-color: #d4ebff;}#sk-container-id-2 div.sk-parallel-item::after {content: \"\";width: 100%;border-bottom: 1px solid gray;flex-grow: 1;}#sk-container-id-2 div.sk-label:hover label.sk-toggleable__label {background-color: #d4ebff;}#sk-container-id-2 div.sk-serial::before {content: \"\";position: absolute;border-left: 1px solid gray;box-sizing: border-box;top: 0;bottom: 0;left: 50%;z-index: 0;}#sk-container-id-2 div.sk-serial {display: flex;flex-direction: column;align-items: center;background-color: white;padding-right: 0.2em;padding-left: 0.2em;position: relative;}#sk-container-id-2 div.sk-item {position: relative;z-index: 1;}#sk-container-id-2 div.sk-parallel {display: flex;align-items: stretch;justify-content: center;background-color: white;position: relative;}#sk-container-id-2 div.sk-item::before, #sk-container-id-2 div.sk-parallel-item::before {content: \"\";position: absolute;border-left: 1px solid gray;box-sizing: border-box;top: 0;bottom: 0;left: 50%;z-index: -1;}#sk-container-id-2 div.sk-parallel-item {display: flex;flex-direction: column;z-index: 1;position: relative;background-color: white;}#sk-container-id-2 div.sk-parallel-item:first-child::after {align-self: flex-end;width: 50%;}#sk-container-id-2 div.sk-parallel-item:last-child::after {align-self: flex-start;width: 50%;}#sk-container-id-2 div.sk-parallel-item:only-child::after {width: 0;}#sk-container-id-2 div.sk-dashed-wrapped {border: 1px dashed gray;margin: 0 0.4em 0.5em 0.4em;box-sizing: border-box;padding-bottom: 0.4em;background-color: white;}#sk-container-id-2 div.sk-label label {font-family: monospace;font-weight: bold;display: inline-block;line-height: 1.2em;}#sk-container-id-2 div.sk-label-container {text-align: center;}#sk-container-id-2 div.sk-container {/* jupyter's `normalize.less` sets `[hidden] { display: none; }` but bootstrap.min.css set `[hidden] { display: none !important; }` so we also need the `!important` here to be able to override the default hidden behavior on the sphinx rendered scikit-learn.org. See: https://github.com/scikit-learn/scikit-learn/issues/21755 */display: inline-block !important;position: relative;}#sk-container-id-2 div.sk-text-repr-fallback {display: none;}</style><div id=\"sk-container-id-2\" class=\"sk-top-container\"><div class=\"sk-text-repr-fallback\"><pre>Pipeline(steps=[(&#x27;encoder&#x27;,\n",
       "                 TargetEncoder(cols=[&#x27;medical_record_number&#x27;,\n",
       "                                     &#x27;thro_boarding_yn&#x27;,\n",
       "                                     &#x27;summary_pt_consult_order_yn&#x27;,\n",
       "                                     &#x27;con_max_consult_order_to_sign_is_signer_ym_provider_yn&#x27;,\n",
       "                                     &#x27;con_max_consult_order_to_sign_is_signer_nemg_provider_yn&#x27;,\n",
       "                                     &#x27;con_max_consult_order_to_sign_is_signer_community_provider_yn&#x27;,\n",
       "                                     &#x27;icu_any_icu_yn&#x27;])),\n",
       "                (&#x27;clf&#x27;,\n",
       "                 XGBClassifier(base_scor...\n",
       "                               grow_policy=None, importance_type=None,\n",
       "                               interaction_constraints=None,\n",
       "                               learning_rate=0.0025661984688193844,\n",
       "                               max_bin=None, max_cat_threshold=None,\n",
       "                               max_cat_to_onehot=None, max_delta_step=None,\n",
       "                               max_depth=4, max_leaves=None,\n",
       "                               min_child_weight=None, missing=nan,\n",
       "                               monotone_constraints=None, multi_strategy=None,\n",
       "                               n_estimators=None, n_jobs=None,\n",
       "                               num_parallel_tree=None, random_state=8, ...))])</pre><b>In a Jupyter environment, please rerun this cell to show the HTML representation or trust the notebook. <br />On GitHub, the HTML representation is unable to render, please try loading this page with nbviewer.org.</b></div><div class=\"sk-container\" hidden><div class=\"sk-item sk-dashed-wrapped\"><div class=\"sk-label-container\"><div class=\"sk-label sk-toggleable\"><input class=\"sk-toggleable__control sk-hidden--visually\" id=\"sk-estimator-id-5\" type=\"checkbox\" ><label for=\"sk-estimator-id-5\" class=\"sk-toggleable__label sk-toggleable__label-arrow\">Pipeline</label><div class=\"sk-toggleable__content\"><pre>Pipeline(steps=[(&#x27;encoder&#x27;,\n",
       "                 TargetEncoder(cols=[&#x27;medical_record_number&#x27;,\n",
       "                                     &#x27;thro_boarding_yn&#x27;,\n",
       "                                     &#x27;summary_pt_consult_order_yn&#x27;,\n",
       "                                     &#x27;con_max_consult_order_to_sign_is_signer_ym_provider_yn&#x27;,\n",
       "                                     &#x27;con_max_consult_order_to_sign_is_signer_nemg_provider_yn&#x27;,\n",
       "                                     &#x27;con_max_consult_order_to_sign_is_signer_community_provider_yn&#x27;,\n",
       "                                     &#x27;icu_any_icu_yn&#x27;])),\n",
       "                (&#x27;clf&#x27;,\n",
       "                 XGBClassifier(base_scor...\n",
       "                               grow_policy=None, importance_type=None,\n",
       "                               interaction_constraints=None,\n",
       "                               learning_rate=0.0025661984688193844,\n",
       "                               max_bin=None, max_cat_threshold=None,\n",
       "                               max_cat_to_onehot=None, max_delta_step=None,\n",
       "                               max_depth=4, max_leaves=None,\n",
       "                               min_child_weight=None, missing=nan,\n",
       "                               monotone_constraints=None, multi_strategy=None,\n",
       "                               n_estimators=None, n_jobs=None,\n",
       "                               num_parallel_tree=None, random_state=8, ...))])</pre></div></div></div><div class=\"sk-serial\"><div class=\"sk-item\"><div class=\"sk-estimator sk-toggleable\"><input class=\"sk-toggleable__control sk-hidden--visually\" id=\"sk-estimator-id-6\" type=\"checkbox\" ><label for=\"sk-estimator-id-6\" class=\"sk-toggleable__label sk-toggleable__label-arrow\">TargetEncoder</label><div class=\"sk-toggleable__content\"><pre>TargetEncoder(cols=[&#x27;medical_record_number&#x27;, &#x27;thro_boarding_yn&#x27;,\n",
       "                    &#x27;summary_pt_consult_order_yn&#x27;,\n",
       "                    &#x27;con_max_consult_order_to_sign_is_signer_ym_provider_yn&#x27;,\n",
       "                    &#x27;con_max_consult_order_to_sign_is_signer_nemg_provider_yn&#x27;,\n",
       "                    &#x27;con_max_consult_order_to_sign_is_signer_community_provider_yn&#x27;,\n",
       "                    &#x27;icu_any_icu_yn&#x27;])</pre></div></div></div><div class=\"sk-item\"><div class=\"sk-estimator sk-toggleable\"><input class=\"sk-toggleable__control sk-hidden--visually\" id=\"sk-estimator-id-7\" type=\"checkbox\" ><label for=\"sk-estimator-id-7\" class=\"sk-toggleable__label sk-toggleable__label-arrow\">XGBClassifier</label><div class=\"sk-toggleable__content\"><pre>XGBClassifier(base_score=None, booster=None, callbacks=None,\n",
       "              colsample_bylevel=0.7098720980049984,\n",
       "              colsample_bynode=0.5395172405909037,\n",
       "              colsample_bytree=0.5048675793234745, device=None,\n",
       "              early_stopping_rounds=None, enable_categorical=False,\n",
       "              eval_metric=None, feature_types=None, gamma=3.4426412862156925,\n",
       "              grow_policy=None, importance_type=None,\n",
       "              interaction_constraints=None, learning_rate=0.0025661984688193844,\n",
       "              max_bin=None, max_cat_threshold=None, max_cat_to_onehot=None,\n",
       "              max_delta_step=None, max_depth=4, max_leaves=None,\n",
       "              min_child_weight=None, missing=nan, monotone_constraints=None,\n",
       "              multi_strategy=None, n_estimators=None, n_jobs=None,\n",
       "              num_parallel_tree=None, random_state=8, ...)</pre></div></div></div></div></div></div></div>"
      ],
      "text/plain": [
       "Pipeline(steps=[('encoder',\n",
       "                 TargetEncoder(cols=['medical_record_number',\n",
       "                                     'thro_boarding_yn',\n",
       "                                     'summary_pt_consult_order_yn',\n",
       "                                     'con_max_consult_order_to_sign_is_signer_ym_provider_yn',\n",
       "                                     'con_max_consult_order_to_sign_is_signer_nemg_provider_yn',\n",
       "                                     'con_max_consult_order_to_sign_is_signer_community_provider_yn',\n",
       "                                     'icu_any_icu_yn'])),\n",
       "                ('clf',\n",
       "                 XGBClassifier(base_scor...\n",
       "                               grow_policy=None, importance_type=None,\n",
       "                               interaction_constraints=None,\n",
       "                               learning_rate=0.0025661984688193844,\n",
       "                               max_bin=None, max_cat_threshold=None,\n",
       "                               max_cat_to_onehot=None, max_delta_step=None,\n",
       "                               max_depth=4, max_leaves=None,\n",
       "                               min_child_weight=None, missing=nan,\n",
       "                               monotone_constraints=None, multi_strategy=None,\n",
       "                               n_estimators=None, n_jobs=None,\n",
       "                               num_parallel_tree=None, random_state=8, ...))])"
      ]
     },
     "execution_count": 33,
     "metadata": {},
     "output_type": "execute_result"
    }
   ],
   "source": [
    "model_xgb.best_estimator_"
   ]
  },
  {
   "cell_type": "code",
   "execution_count": 34,
   "id": "5af239d4-9fcb-4497-bef5-503ebab0a004",
   "metadata": {
    "execution": {
     "iopub.execute_input": "2024-07-25T19:37:07.382589Z",
     "iopub.status.busy": "2024-07-25T19:37:07.382286Z",
     "iopub.status.idle": "2024-07-25T19:37:07.385400Z",
     "shell.execute_reply": "2024-07-25T19:37:07.384998Z"
    },
    "papermill": {
     "duration": 0.011579,
     "end_time": "2024-07-25T19:37:07.386414",
     "exception": false,
     "start_time": "2024-07-25T19:37:07.374835",
     "status": "completed"
    },
    "tags": []
   },
   "outputs": [
    {
     "data": {
      "text/plain": [
       "0.7110676230087454"
      ]
     },
     "execution_count": 34,
     "metadata": {},
     "output_type": "execute_result"
    }
   ],
   "source": [
    "model_xgb.best_score_"
   ]
  },
  {
   "cell_type": "code",
   "execution_count": 35,
   "id": "155f881e-e715-42fb-9cdb-047eff5b7f51",
   "metadata": {
    "execution": {
     "iopub.execute_input": "2024-07-25T19:37:07.401545Z",
     "iopub.status.busy": "2024-07-25T19:37:07.401269Z",
     "iopub.status.idle": "2024-07-25T19:37:07.404182Z",
     "shell.execute_reply": "2024-07-25T19:37:07.403790Z"
    },
    "papermill": {
     "duration": 0.011534,
     "end_time": "2024-07-25T19:37:07.405197",
     "exception": false,
     "start_time": "2024-07-25T19:37:07.393663",
     "status": "completed"
    },
    "tags": []
   },
   "outputs": [],
   "source": [
    "y_val = y_val.set_index('pat_enc_csn_id')"
   ]
  },
  {
   "cell_type": "code",
   "execution_count": 36,
   "id": "b4a2356b-7a3a-409a-a70c-9aee0253c469",
   "metadata": {
    "execution": {
     "iopub.execute_input": "2024-07-25T19:37:07.420335Z",
     "iopub.status.busy": "2024-07-25T19:37:07.419982Z",
     "iopub.status.idle": "2024-07-25T19:37:07.569963Z",
     "shell.execute_reply": "2024-07-25T19:37:07.569473Z"
    },
    "papermill": {
     "duration": 0.158937,
     "end_time": "2024-07-25T19:37:07.571390",
     "exception": false,
     "start_time": "2024-07-25T19:37:07.412453",
     "status": "completed"
    },
    "tags": []
   },
   "outputs": [],
   "source": [
    "#Column 1 and Column 2 are the probabilities that the label is 0 or 1 \n",
    "y_probs = model_xgb.predict_proba(X_val_selected)\n",
    "y_pred = model_xgb.predict(X_val_selected)\n",
    "#Only select the positive class\n",
    "y_probs_positive = y_probs[:,1]\n",
    "y_test = y_val['viz_outcome_prolonged_los_yn']"
   ]
  },
  {
   "cell_type": "code",
   "execution_count": 37,
   "id": "2025a4cc-c996-4c07-b969-765bc81eb4e7",
   "metadata": {
    "execution": {
     "iopub.execute_input": "2024-07-25T19:37:07.588051Z",
     "iopub.status.busy": "2024-07-25T19:37:07.587621Z",
     "iopub.status.idle": "2024-07-25T19:37:07.594935Z",
     "shell.execute_reply": "2024-07-25T19:37:07.594518Z"
    },
    "papermill": {
     "duration": 0.01688,
     "end_time": "2024-07-25T19:37:07.596108",
     "exception": false,
     "start_time": "2024-07-25T19:37:07.579228",
     "status": "completed"
    },
    "tags": []
   },
   "outputs": [],
   "source": [
    "\n",
    "def plot_metrics(y_test, y_probs_positive):\n",
    "    fig, axes = plt.subplots(3, 1, figsize=(10, 18))  # 3 rows x 1 column\n",
    "\n",
    "    # Plot ROC Curve\n",
    "    fpr, tpr, _ = roc_curve(y_test, y_probs_positive)\n",
    "    roc_auc = auc(fpr, tpr)\n",
    "    axes[0].plot(fpr, tpr, label=f'AUC = {roc_auc:.2f}')\n",
    "    axes[0].plot([0, 1], [0, 1], 'k--', lw=2)\n",
    "    axes[0].set_xlabel('False Positive Rate')\n",
    "    axes[0].set_ylabel('True Positive Rate')\n",
    "    axes[0].set_title('ROC Curve')\n",
    "    axes[0].legend()\n",
    "\n",
    "    # Plot PR Curve\n",
    "    precision, recall, _ = precision_recall_curve(y_test, y_probs_positive)\n",
    "    pr_auc = auc(recall, precision)\n",
    "    axes[1].plot(recall, precision, label=f'PR-AUC = {pr_auc:.2f}')\n",
    "    axes[1].set_xlabel('Recall')\n",
    "    axes[1].set_ylabel('Precision')\n",
    "    axes[1].set_title('PR Curve')\n",
    "    axes[1].legend()\n",
    "\n",
    "    # Plot Calibration Curve\n",
    "    prob_true, prob_pred = calibration_curve(y_test, y_probs_positive, n_bins=10)\n",
    "    axes[2].plot(prob_pred, prob_true, label='Calibration')\n",
    "    axes[2].plot([0, 1], [0, 1], 'k--', label='Perfectly Calibrated')\n",
    "    axes[2].set_xlabel('Mean Predicted Probability')\n",
    "    axes[2].set_ylabel('Fraction of Positives')\n",
    "    axes[2].set_title('Calibration Curve')\n",
    "    axes[2].legend()\n",
    "\n",
    "    plt.tight_layout()\n",
    "    plt.show()"
   ]
  },
  {
   "cell_type": "code",
   "execution_count": 38,
   "id": "b3c1ca57-6a64-481f-90d0-179d2cc5484b",
   "metadata": {
    "execution": {
     "iopub.execute_input": "2024-07-25T19:37:07.611691Z",
     "iopub.status.busy": "2024-07-25T19:37:07.611320Z",
     "iopub.status.idle": "2024-07-25T19:37:08.428231Z",
     "shell.execute_reply": "2024-07-25T19:37:08.427772Z"
    },
    "papermill": {
     "duration": 0.82628,
     "end_time": "2024-07-25T19:37:08.429875",
     "exception": false,
     "start_time": "2024-07-25T19:37:07.603595",
     "status": "completed"
    },
    "tags": []
   },
   "outputs": [
    {
     "data": {
      "image/png": "[encoded data removed]",
      "text/plain": [
       "<Figure size 1000x1800 with 3 Axes>"
      ]
     },
     "metadata": {},
     "output_type": "display_data"
    }
   ],
   "source": [
    "plot_metrics(y_test, y_probs_positive)"
   ]
  },
  {
   "cell_type": "code",
   "execution_count": 39,
   "id": "e5c2c07a-6ed8-4b1a-8ecd-ddff33a4a51b",
   "metadata": {
    "execution": {
     "iopub.execute_input": "2024-07-25T19:37:08.448949Z",
     "iopub.status.busy": "2024-07-25T19:37:08.448660Z",
     "iopub.status.idle": "2024-07-25T19:37:08.454102Z",
     "shell.execute_reply": "2024-07-25T19:37:08.453694Z"
    },
    "papermill": {
     "duration": 0.015973,
     "end_time": "2024-07-25T19:37:08.455181",
     "exception": false,
     "start_time": "2024-07-25T19:37:08.439208",
     "status": "completed"
    },
    "tags": []
   },
   "outputs": [],
   "source": [
    "\n",
    "def plot_cm(y_test, y_pred):\n",
    "    # Generate confusion matrix\n",
    "    cm = confusion_matrix(y_test, y_pred)\n",
    "    \n",
    "    # Plot confusion matrix\n",
    "    plt.figure(figsize=(8, 6))\n",
    "    sns.heatmap(cm, annot=True, fmt='d', cmap='Blues', cbar=False)\n",
    "    plt.xlabel('Predicted labels')\n",
    "    plt.ylabel('True labels')\n",
    "    plt.title('Confusion Matrix')\n",
    "    plt.show()\n",
    "    \n",
    "    # Extract values for binary classification\n",
    "    tn = cm[0, 0]\n",
    "    fp = cm[0, 1]\n",
    "    fn = cm[1, 0]\n",
    "    tp = cm[1, 1]\n",
    "    \n",
    "    # Calculate metrics\n",
    "    top_row = tn + fp\n",
    "    bot_row = fn + tp\n",
    "    \n",
    "    specificity_value = recall_score(y_test, y_pred, pos_label=0)\n",
    "    sensitivity_value = recall_score(y_test, y_pred, pos_label=1)\n",
    "    accuracy_value = accuracy_score(y_test, y_pred)\n",
    "    precision_value = precision_score(y_test, y_pred)\n",
    "    f1_value = f1_score(y_test, y_pred)\n",
    "    \n",
    "    # Print results\n",
    "    print(f'Specificity : {specificity_value:.4f}')\n",
    "    print(f'Sensitivity : {sensitivity_value:.4f}')\n",
    "    print(f'Accuracy : {accuracy_value:.4f}')\n",
    "    print(f'Precision : {precision_value:.4f}')\n",
    "    print(f'F1 score : {f1_value:.4f}')\n",
    "    \n",
    "    print(f'Of {top_row} people who did not have a prolonged LOS, {tn} ({specificity_value:.2%}) were correctly classified.')\n",
    "    print(f'Of {bot_row} people who did have a prolonged LOS, {tp} ({sensitivity_value:.2%}) were correctly classified.')\n",
    "\n"
   ]
  },
  {
   "cell_type": "code",
   "execution_count": 40,
   "id": "b0a3dc83-51e4-46e4-af0c-f88fef13f5f2",
   "metadata": {
    "execution": {
     "iopub.execute_input": "2024-07-25T19:37:08.473376Z",
     "iopub.status.busy": "2024-07-25T19:37:08.473110Z",
     "iopub.status.idle": "2024-07-25T19:37:08.564468Z",
     "shell.execute_reply": "2024-07-25T19:37:08.563940Z"
    },
    "papermill": {
     "duration": 0.101504,
     "end_time": "2024-07-25T19:37:08.565540",
     "exception": false,
     "start_time": "2024-07-25T19:37:08.464036",
     "status": "completed"
    },
    "tags": []
   },
   "outputs": [
    {
     "data": {
      "image/png": "[encoded data removed]",
      "text/plain": [
       "<Figure size 800x600 with 1 Axes>"
      ]
     },
     "metadata": {},
     "output_type": "display_data"
    },
    {
     "name": "stdout",
     "output_type": "stream",
     "text": [
      "Specificity : 0.9875\n",
      "Sensitivity : 0.1224\n",
      "Accuracy : 0.6150\n",
      "Precision : 0.8808\n",
      "F1 score : 0.2149\n",
      "Of 1438 people who did not have a prolonged LOS, 1420 (98.75%) were correctly classified.\n",
      "Of 1087 people who did have a prolonged LOS, 133 (12.24%) were correctly classified.\n"
     ]
    }
   ],
   "source": [
    "plot_cm(y_test, y_pred)"
   ]
  },
  {
   "cell_type": "markdown",
   "id": "fa0f0803-b461-4206-9508-a0d73a035a38",
   "metadata": {
    "papermill": {
     "duration": 0.009067,
     "end_time": "2024-07-25T19:37:08.583997",
     "exception": false,
     "start_time": "2024-07-25T19:37:08.574930",
     "status": "completed"
    },
    "tags": []
   },
   "source": [
    "### SHAP plots"
   ]
  },
  {
   "cell_type": "code",
   "execution_count": 41,
   "id": "1152517c-c2d9-4ee0-b707-deaa0b6f3c5d",
   "metadata": {
    "execution": {
     "iopub.execute_input": "2024-07-25T19:37:08.602865Z",
     "iopub.status.busy": "2024-07-25T19:37:08.602634Z",
     "iopub.status.idle": "2024-07-25T19:37:08.606854Z",
     "shell.execute_reply": "2024-07-25T19:37:08.606461Z"
    },
    "papermill": {
     "duration": 0.014648,
     "end_time": "2024-07-25T19:37:08.607962",
     "exception": false,
     "start_time": "2024-07-25T19:37:08.593314",
     "status": "completed"
    },
    "tags": []
   },
   "outputs": [
    {
     "data": {
      "text/plain": [
       "[('encoder',\n",
       "  TargetEncoder(cols=['medical_record_number', 'thro_boarding_yn',\n",
       "                      'summary_pt_consult_order_yn',\n",
       "                      'con_max_consult_order_to_sign_is_signer_ym_provider_yn',\n",
       "                      'con_max_consult_order_to_sign_is_signer_nemg_provider_yn',\n",
       "                      'con_max_consult_order_to_sign_is_signer_community_provider_yn',\n",
       "                      'icu_any_icu_yn'])),\n",
       " ('clf',\n",
       "  XGBClassifier(base_score=None, booster=None, callbacks=None,\n",
       "                colsample_bylevel=0.7098720980049984,\n",
       "                colsample_bynode=0.5395172405909037,\n",
       "                colsample_bytree=0.5048675793234745, device=None,\n",
       "                early_stopping_rounds=None, enable_categorical=False,\n",
       "                eval_metric=None, feature_types=None, gamma=3.4426412862156925,\n",
       "                grow_policy=None, importance_type=None,\n",
       "                interaction_constraints=None, learning_rate=0.0025661984688193844,\n",
       "                max_bin=None, max_cat_threshold=None, max_cat_to_onehot=None,\n",
       "                max_delta_step=None, max_depth=4, max_leaves=None,\n",
       "                min_child_weight=None, missing=nan, monotone_constraints=None,\n",
       "                multi_strategy=None, n_estimators=None, n_jobs=None,\n",
       "                num_parallel_tree=None, random_state=8, ...))]"
      ]
     },
     "execution_count": 41,
     "metadata": {},
     "output_type": "execute_result"
    }
   ],
   "source": [
    "model_xgb.best_estimator_.steps"
   ]
  },
  {
   "cell_type": "code",
   "execution_count": 42,
   "id": "9cf83bef-cee7-432c-9a02-fcbc3b26a4c1",
   "metadata": {
    "execution": {
     "iopub.execute_input": "2024-07-25T19:37:08.626909Z",
     "iopub.status.busy": "2024-07-25T19:37:08.626461Z",
     "iopub.status.idle": "2024-07-25T19:37:10.234201Z",
     "shell.execute_reply": "2024-07-25T19:37:10.233709Z"
    },
    "papermill": {
     "duration": 1.618763,
     "end_time": "2024-07-25T19:37:10.235729",
     "exception": false,
     "start_time": "2024-07-25T19:37:08.616966",
     "status": "completed"
    },
    "tags": []
   },
   "outputs": [],
   "source": [
    "train_fp = '/gpfs/milgram/project/rtaylor/imc33/LOS/data/pipeline/los_train_initial_selected.csv'\n",
    "val_fp = '/gpfs/milgram/project/rtaylor/imc33/LOS/data/pipeline/los_val_initial_selected.csv'\n",
    "\n",
    "X_train_selected.to_csv(train_fp)\n",
    "X_val_selected.to_csv(val_fp)\n",
    "\n",
    "X_train_selected = pd.read_csv(train_fp, index_col=[0])\n",
    "X_val_selected = pd.read_csv(val_fp, index_col=[0])"
   ]
  },
  {
   "cell_type": "code",
   "execution_count": 43,
   "id": "4ee74bcd-6a3d-4f8b-af75-359aefc664dc",
   "metadata": {
    "execution": {
     "iopub.execute_input": "2024-07-25T19:37:10.255168Z",
     "iopub.status.busy": "2024-07-25T19:37:10.254906Z",
     "iopub.status.idle": "2024-07-25T19:37:10.258290Z",
     "shell.execute_reply": "2024-07-25T19:37:10.257900Z"
    },
    "papermill": {
     "duration": 0.014129,
     "end_time": "2024-07-25T19:37:10.259389",
     "exception": false,
     "start_time": "2024-07-25T19:37:10.245260",
     "status": "completed"
    },
    "tags": []
   },
   "outputs": [
    {
     "data": {
      "text/plain": [
       "(2525, 616)"
      ]
     },
     "execution_count": 43,
     "metadata": {},
     "output_type": "execute_result"
    }
   ],
   "source": [
    "X_val_selected.shape"
   ]
  },
  {
   "cell_type": "code",
   "execution_count": 44,
   "id": "3458cbee-747b-4e63-889c-6f530fef3713",
   "metadata": {
    "execution": {
     "iopub.execute_input": "2024-07-25T19:37:10.278588Z",
     "iopub.status.busy": "2024-07-25T19:37:10.278305Z",
     "iopub.status.idle": "2024-07-25T19:37:10.280736Z",
     "shell.execute_reply": "2024-07-25T19:37:10.280324Z"
    },
    "papermill": {
     "duration": 0.013188,
     "end_time": "2024-07-25T19:37:10.281817",
     "exception": false,
     "start_time": "2024-07-25T19:37:10.268629",
     "status": "completed"
    },
    "tags": []
   },
   "outputs": [],
   "source": [
    "# Set seeds for reproducibility\n",
    "np.random.seed(42)"
   ]
  },
  {
   "cell_type": "markdown",
   "id": "ff8ad5b7",
   "metadata": {
    "tags": [
     "papermill-error-cell-tag"
    ]
   },
   "source": [
    "<span id=\"papermill-error-cell\" style=\"color:red; font-family:Helvetica Neue, Helvetica, Arial, sans-serif; font-size:2em;\">Execution using papermill encountered an exception here and stopped:</span>"
   ]
  },
  {
   "cell_type": "code",
   "execution_count": 45,
   "id": "95e052ba-7c75-4203-a167-948fcf0a81a6",
   "metadata": {
    "execution": {
     "iopub.execute_input": "2024-07-25T19:37:10.300937Z",
     "iopub.status.busy": "2024-07-25T19:37:10.300680Z",
     "iopub.status.idle": "2024-07-25T19:37:11.369617Z",
     "shell.execute_reply": "2024-07-25T19:37:11.368677Z"
    },
    "papermill": {
     "duration": 1.079889,
     "end_time": "2024-07-25T19:37:11.370649",
     "exception": true,
     "start_time": "2024-07-25T19:37:10.290760",
     "status": "failed"
    },
    "tags": []
   },
   "outputs": [
    {
     "ename": "ValueError",
     "evalue": "DataFrame.dtypes for data must be int, float, bool or category. When categorical type is supplied, The experimental DMatrix parameter`enable_categorical` must be set to `True`.  Invalid columns:medical_record_number: object",
     "output_type": "error",
     "traceback": [
      "\u001b[0;31m---------------------------------------------------------------------------\u001b[0m",
      "\u001b[0;31mValueError\u001b[0m                                Traceback (most recent call last)",
      "Cell \u001b[0;32mIn[45], line 2\u001b[0m\n\u001b[1;32m      1\u001b[0m clf_xgb \u001b[38;5;241m=\u001b[39m xgb\u001b[38;5;241m.\u001b[39mXGBClassifier(objective\u001b[38;5;241m=\u001b[39m\u001b[38;5;124m'\u001b[39m\u001b[38;5;124mbinary:logistic\u001b[39m\u001b[38;5;124m'\u001b[39m, missing\u001b[38;5;241m=\u001b[39m\u001b[38;5;28;01mNone\u001b[39;00m, seed\u001b[38;5;241m=\u001b[39m\u001b[38;5;241m42\u001b[39m)\n\u001b[0;32m----> 2\u001b[0m \u001b[43mclf_xgb\u001b[49m\u001b[38;5;241;43m.\u001b[39;49m\u001b[43mfit\u001b[49m\u001b[43m(\u001b[49m\u001b[43mX_train_selected\u001b[49m\u001b[43m,\u001b[49m\u001b[43m \u001b[49m\n\u001b[1;32m      3\u001b[0m \u001b[43m            \u001b[49m\u001b[43my_train\u001b[49m\u001b[43m[\u001b[49m\u001b[38;5;124;43m'\u001b[39;49m\u001b[38;5;124;43mviz_outcome_prolonged_los_yn\u001b[39;49m\u001b[38;5;124;43m'\u001b[39;49m\u001b[43m]\u001b[49m\u001b[43m,\u001b[49m\u001b[43m \u001b[49m\n\u001b[1;32m      4\u001b[0m \u001b[43m            \u001b[49m\u001b[43mverbose\u001b[49m\u001b[38;5;241;43m=\u001b[39;49m\u001b[38;5;28;43;01mTrue\u001b[39;49;00m\u001b[43m,\u001b[49m\n\u001b[1;32m      5\u001b[0m \u001b[43m            \u001b[49m\u001b[43mearly_stopping_rounds\u001b[49m\u001b[38;5;241;43m=\u001b[39;49m\u001b[38;5;241;43m10\u001b[39;49m\u001b[43m,\u001b[49m\n\u001b[1;32m      6\u001b[0m \u001b[43m            \u001b[49m\u001b[43meval_metric\u001b[49m\u001b[38;5;241;43m=\u001b[39;49m\u001b[38;5;124;43m'\u001b[39;49m\u001b[38;5;124;43maucpr\u001b[39;49m\u001b[38;5;124;43m'\u001b[39;49m\u001b[43m,\u001b[49m\n\u001b[1;32m      7\u001b[0m \u001b[43m            \u001b[49m\u001b[43meval_set\u001b[49m\u001b[38;5;241;43m=\u001b[39;49m\u001b[43m[\u001b[49m\u001b[43m(\u001b[49m\u001b[43mX_val_selected\u001b[49m\u001b[43m,\u001b[49m\u001b[43m \u001b[49m\u001b[43my_val\u001b[49m\u001b[43m[\u001b[49m\u001b[38;5;124;43m'\u001b[39;49m\u001b[38;5;124;43mviz_outcome_prolonged_los_yn\u001b[39;49m\u001b[38;5;124;43m'\u001b[39;49m\u001b[43m]\u001b[49m\u001b[43m)\u001b[49m\u001b[43m]\u001b[49m\u001b[43m)\u001b[49m\n",
      "File \u001b[0;32m/gpfs/milgram/project/hwang/imc33/conda_envs/aitc/lib/python3.8/site-packages/xgboost/core.py:730\u001b[0m, in \u001b[0;36mrequire_keyword_args.<locals>.throw_if.<locals>.inner_f\u001b[0;34m(*args, **kwargs)\u001b[0m\n\u001b[1;32m    728\u001b[0m \u001b[38;5;28;01mfor\u001b[39;00m k, arg \u001b[38;5;129;01min\u001b[39;00m \u001b[38;5;28mzip\u001b[39m(sig\u001b[38;5;241m.\u001b[39mparameters, args):\n\u001b[1;32m    729\u001b[0m     kwargs[k] \u001b[38;5;241m=\u001b[39m arg\n\u001b[0;32m--> 730\u001b[0m \u001b[38;5;28;01mreturn\u001b[39;00m \u001b[43mfunc\u001b[49m\u001b[43m(\u001b[49m\u001b[38;5;241;43m*\u001b[39;49m\u001b[38;5;241;43m*\u001b[39;49m\u001b[43mkwargs\u001b[49m\u001b[43m)\u001b[49m\n",
      "File \u001b[0;32m/gpfs/milgram/project/hwang/imc33/conda_envs/aitc/lib/python3.8/site-packages/xgboost/sklearn.py:1500\u001b[0m, in \u001b[0;36mXGBClassifier.fit\u001b[0;34m(self, X, y, sample_weight, base_margin, eval_set, eval_metric, early_stopping_rounds, verbose, xgb_model, sample_weight_eval_set, base_margin_eval_set, feature_weights, callbacks)\u001b[0m\n\u001b[1;32m   1489\u001b[0m     params[\u001b[38;5;124m\"\u001b[39m\u001b[38;5;124mnum_class\u001b[39m\u001b[38;5;124m\"\u001b[39m] \u001b[38;5;241m=\u001b[39m \u001b[38;5;28mself\u001b[39m\u001b[38;5;241m.\u001b[39mn_classes_\n\u001b[1;32m   1491\u001b[0m (\n\u001b[1;32m   1492\u001b[0m     model,\n\u001b[1;32m   1493\u001b[0m     metric,\n\u001b[0;32m   (...)\u001b[0m\n\u001b[1;32m   1498\u001b[0m     xgb_model, eval_metric, params, early_stopping_rounds, callbacks\n\u001b[1;32m   1499\u001b[0m )\n\u001b[0;32m-> 1500\u001b[0m train_dmatrix, evals \u001b[38;5;241m=\u001b[39m \u001b[43m_wrap_evaluation_matrices\u001b[49m\u001b[43m(\u001b[49m\n\u001b[1;32m   1501\u001b[0m \u001b[43m    \u001b[49m\u001b[43mmissing\u001b[49m\u001b[38;5;241;43m=\u001b[39;49m\u001b[38;5;28;43mself\u001b[39;49m\u001b[38;5;241;43m.\u001b[39;49m\u001b[43mmissing\u001b[49m\u001b[43m,\u001b[49m\n\u001b[1;32m   1502\u001b[0m \u001b[43m    \u001b[49m\u001b[43mX\u001b[49m\u001b[38;5;241;43m=\u001b[39;49m\u001b[43mX\u001b[49m\u001b[43m,\u001b[49m\n\u001b[1;32m   1503\u001b[0m \u001b[43m    \u001b[49m\u001b[43my\u001b[49m\u001b[38;5;241;43m=\u001b[39;49m\u001b[43my\u001b[49m\u001b[43m,\u001b[49m\n\u001b[1;32m   1504\u001b[0m \u001b[43m    \u001b[49m\u001b[43mgroup\u001b[49m\u001b[38;5;241;43m=\u001b[39;49m\u001b[38;5;28;43;01mNone\u001b[39;49;00m\u001b[43m,\u001b[49m\n\u001b[1;32m   1505\u001b[0m \u001b[43m    \u001b[49m\u001b[43mqid\u001b[49m\u001b[38;5;241;43m=\u001b[39;49m\u001b[38;5;28;43;01mNone\u001b[39;49;00m\u001b[43m,\u001b[49m\n\u001b[1;32m   1506\u001b[0m \u001b[43m    \u001b[49m\u001b[43msample_weight\u001b[49m\u001b[38;5;241;43m=\u001b[39;49m\u001b[43msample_weight\u001b[49m\u001b[43m,\u001b[49m\n\u001b[1;32m   1507\u001b[0m \u001b[43m    \u001b[49m\u001b[43mbase_margin\u001b[49m\u001b[38;5;241;43m=\u001b[39;49m\u001b[43mbase_margin\u001b[49m\u001b[43m,\u001b[49m\n\u001b[1;32m   1508\u001b[0m \u001b[43m    \u001b[49m\u001b[43mfeature_weights\u001b[49m\u001b[38;5;241;43m=\u001b[39;49m\u001b[43mfeature_weights\u001b[49m\u001b[43m,\u001b[49m\n\u001b[1;32m   1509\u001b[0m \u001b[43m    \u001b[49m\u001b[43meval_set\u001b[49m\u001b[38;5;241;43m=\u001b[39;49m\u001b[43meval_set\u001b[49m\u001b[43m,\u001b[49m\n\u001b[1;32m   1510\u001b[0m \u001b[43m    \u001b[49m\u001b[43msample_weight_eval_set\u001b[49m\u001b[38;5;241;43m=\u001b[39;49m\u001b[43msample_weight_eval_set\u001b[49m\u001b[43m,\u001b[49m\n\u001b[1;32m   1511\u001b[0m \u001b[43m    \u001b[49m\u001b[43mbase_margin_eval_set\u001b[49m\u001b[38;5;241;43m=\u001b[39;49m\u001b[43mbase_margin_eval_set\u001b[49m\u001b[43m,\u001b[49m\n\u001b[1;32m   1512\u001b[0m \u001b[43m    \u001b[49m\u001b[43meval_group\u001b[49m\u001b[38;5;241;43m=\u001b[39;49m\u001b[38;5;28;43;01mNone\u001b[39;49;00m\u001b[43m,\u001b[49m\n\u001b[1;32m   1513\u001b[0m \u001b[43m    \u001b[49m\u001b[43meval_qid\u001b[49m\u001b[38;5;241;43m=\u001b[39;49m\u001b[38;5;28;43;01mNone\u001b[39;49;00m\u001b[43m,\u001b[49m\n\u001b[1;32m   1514\u001b[0m \u001b[43m    \u001b[49m\u001b[43mcreate_dmatrix\u001b[49m\u001b[38;5;241;43m=\u001b[39;49m\u001b[38;5;28;43mself\u001b[39;49m\u001b[38;5;241;43m.\u001b[39;49m\u001b[43m_create_dmatrix\u001b[49m\u001b[43m,\u001b[49m\n\u001b[1;32m   1515\u001b[0m \u001b[43m    \u001b[49m\u001b[43menable_categorical\u001b[49m\u001b[38;5;241;43m=\u001b[39;49m\u001b[38;5;28;43mself\u001b[39;49m\u001b[38;5;241;43m.\u001b[39;49m\u001b[43menable_categorical\u001b[49m\u001b[43m,\u001b[49m\n\u001b[1;32m   1516\u001b[0m \u001b[43m    \u001b[49m\u001b[43mfeature_types\u001b[49m\u001b[38;5;241;43m=\u001b[39;49m\u001b[38;5;28;43mself\u001b[39;49m\u001b[38;5;241;43m.\u001b[39;49m\u001b[43mfeature_types\u001b[49m\u001b[43m,\u001b[49m\n\u001b[1;32m   1517\u001b[0m \u001b[43m\u001b[49m\u001b[43m)\u001b[49m\n\u001b[1;32m   1519\u001b[0m \u001b[38;5;28mself\u001b[39m\u001b[38;5;241m.\u001b[39m_Booster \u001b[38;5;241m=\u001b[39m train(\n\u001b[1;32m   1520\u001b[0m     params,\n\u001b[1;32m   1521\u001b[0m     train_dmatrix,\n\u001b[0;32m   (...)\u001b[0m\n\u001b[1;32m   1530\u001b[0m     callbacks\u001b[38;5;241m=\u001b[39mcallbacks,\n\u001b[1;32m   1531\u001b[0m )\n\u001b[1;32m   1533\u001b[0m \u001b[38;5;28;01mif\u001b[39;00m \u001b[38;5;129;01mnot\u001b[39;00m \u001b[38;5;28mcallable\u001b[39m(\u001b[38;5;28mself\u001b[39m\u001b[38;5;241m.\u001b[39mobjective):\n",
      "File \u001b[0;32m/gpfs/milgram/project/hwang/imc33/conda_envs/aitc/lib/python3.8/site-packages/xgboost/sklearn.py:521\u001b[0m, in \u001b[0;36m_wrap_evaluation_matrices\u001b[0;34m(missing, X, y, group, qid, sample_weight, base_margin, feature_weights, eval_set, sample_weight_eval_set, base_margin_eval_set, eval_group, eval_qid, create_dmatrix, enable_categorical, feature_types)\u001b[0m\n\u001b[1;32m    501\u001b[0m \u001b[38;5;28;01mdef\u001b[39;00m \u001b[38;5;21m_wrap_evaluation_matrices\u001b[39m(\n\u001b[1;32m    502\u001b[0m     missing: \u001b[38;5;28mfloat\u001b[39m,\n\u001b[1;32m    503\u001b[0m     X: Any,\n\u001b[0;32m   (...)\u001b[0m\n\u001b[1;32m    517\u001b[0m     feature_types: Optional[FeatureTypes],\n\u001b[1;32m    518\u001b[0m ) \u001b[38;5;241m-\u001b[39m\u001b[38;5;241m>\u001b[39m Tuple[Any, List[Tuple[Any, \u001b[38;5;28mstr\u001b[39m]]]:\n\u001b[1;32m    519\u001b[0m \u001b[38;5;250m    \u001b[39m\u001b[38;5;124;03m\"\"\"Convert array_like evaluation matrices into DMatrix.  Perform validation on the\u001b[39;00m\n\u001b[1;32m    520\u001b[0m \u001b[38;5;124;03m    way.\"\"\"\u001b[39;00m\n\u001b[0;32m--> 521\u001b[0m     train_dmatrix \u001b[38;5;241m=\u001b[39m \u001b[43mcreate_dmatrix\u001b[49m\u001b[43m(\u001b[49m\n\u001b[1;32m    522\u001b[0m \u001b[43m        \u001b[49m\u001b[43mdata\u001b[49m\u001b[38;5;241;43m=\u001b[39;49m\u001b[43mX\u001b[49m\u001b[43m,\u001b[49m\n\u001b[1;32m    523\u001b[0m \u001b[43m        \u001b[49m\u001b[43mlabel\u001b[49m\u001b[38;5;241;43m=\u001b[39;49m\u001b[43my\u001b[49m\u001b[43m,\u001b[49m\n\u001b[1;32m    524\u001b[0m \u001b[43m        \u001b[49m\u001b[43mgroup\u001b[49m\u001b[38;5;241;43m=\u001b[39;49m\u001b[43mgroup\u001b[49m\u001b[43m,\u001b[49m\n\u001b[1;32m    525\u001b[0m \u001b[43m        \u001b[49m\u001b[43mqid\u001b[49m\u001b[38;5;241;43m=\u001b[39;49m\u001b[43mqid\u001b[49m\u001b[43m,\u001b[49m\n\u001b[1;32m    526\u001b[0m \u001b[43m        \u001b[49m\u001b[43mweight\u001b[49m\u001b[38;5;241;43m=\u001b[39;49m\u001b[43msample_weight\u001b[49m\u001b[43m,\u001b[49m\n\u001b[1;32m    527\u001b[0m \u001b[43m        \u001b[49m\u001b[43mbase_margin\u001b[49m\u001b[38;5;241;43m=\u001b[39;49m\u001b[43mbase_margin\u001b[49m\u001b[43m,\u001b[49m\n\u001b[1;32m    528\u001b[0m \u001b[43m        \u001b[49m\u001b[43mfeature_weights\u001b[49m\u001b[38;5;241;43m=\u001b[39;49m\u001b[43mfeature_weights\u001b[49m\u001b[43m,\u001b[49m\n\u001b[1;32m    529\u001b[0m \u001b[43m        \u001b[49m\u001b[43mmissing\u001b[49m\u001b[38;5;241;43m=\u001b[39;49m\u001b[43mmissing\u001b[49m\u001b[43m,\u001b[49m\n\u001b[1;32m    530\u001b[0m \u001b[43m        \u001b[49m\u001b[43menable_categorical\u001b[49m\u001b[38;5;241;43m=\u001b[39;49m\u001b[43menable_categorical\u001b[49m\u001b[43m,\u001b[49m\n\u001b[1;32m    531\u001b[0m \u001b[43m        \u001b[49m\u001b[43mfeature_types\u001b[49m\u001b[38;5;241;43m=\u001b[39;49m\u001b[43mfeature_types\u001b[49m\u001b[43m,\u001b[49m\n\u001b[1;32m    532\u001b[0m \u001b[43m        \u001b[49m\u001b[43mref\u001b[49m\u001b[38;5;241;43m=\u001b[39;49m\u001b[38;5;28;43;01mNone\u001b[39;49;00m\u001b[43m,\u001b[49m\n\u001b[1;32m    533\u001b[0m \u001b[43m    \u001b[49m\u001b[43m)\u001b[49m\n\u001b[1;32m    535\u001b[0m     n_validation \u001b[38;5;241m=\u001b[39m \u001b[38;5;241m0\u001b[39m \u001b[38;5;28;01mif\u001b[39;00m eval_set \u001b[38;5;129;01mis\u001b[39;00m \u001b[38;5;28;01mNone\u001b[39;00m \u001b[38;5;28;01melse\u001b[39;00m \u001b[38;5;28mlen\u001b[39m(eval_set)\n\u001b[1;32m    537\u001b[0m     \u001b[38;5;28;01mdef\u001b[39;00m \u001b[38;5;21mvalidate_or_none\u001b[39m(meta: Optional[Sequence], name: \u001b[38;5;28mstr\u001b[39m) \u001b[38;5;241m-\u001b[39m\u001b[38;5;241m>\u001b[39m Sequence:\n",
      "File \u001b[0;32m/gpfs/milgram/project/hwang/imc33/conda_envs/aitc/lib/python3.8/site-packages/xgboost/sklearn.py:958\u001b[0m, in \u001b[0;36mXGBModel._create_dmatrix\u001b[0;34m(self, ref, **kwargs)\u001b[0m\n\u001b[1;32m    956\u001b[0m \u001b[38;5;28;01mif\u001b[39;00m _can_use_qdm(\u001b[38;5;28mself\u001b[39m\u001b[38;5;241m.\u001b[39mtree_method) \u001b[38;5;129;01mand\u001b[39;00m \u001b[38;5;28mself\u001b[39m\u001b[38;5;241m.\u001b[39mbooster \u001b[38;5;241m!=\u001b[39m \u001b[38;5;124m\"\u001b[39m\u001b[38;5;124mgblinear\u001b[39m\u001b[38;5;124m\"\u001b[39m:\n\u001b[1;32m    957\u001b[0m     \u001b[38;5;28;01mtry\u001b[39;00m:\n\u001b[0;32m--> 958\u001b[0m         \u001b[38;5;28;01mreturn\u001b[39;00m \u001b[43mQuantileDMatrix\u001b[49m\u001b[43m(\u001b[49m\n\u001b[1;32m    959\u001b[0m \u001b[43m            \u001b[49m\u001b[38;5;241;43m*\u001b[39;49m\u001b[38;5;241;43m*\u001b[39;49m\u001b[43mkwargs\u001b[49m\u001b[43m,\u001b[49m\u001b[43m \u001b[49m\u001b[43mref\u001b[49m\u001b[38;5;241;43m=\u001b[39;49m\u001b[43mref\u001b[49m\u001b[43m,\u001b[49m\u001b[43m \u001b[49m\u001b[43mnthread\u001b[49m\u001b[38;5;241;43m=\u001b[39;49m\u001b[38;5;28;43mself\u001b[39;49m\u001b[38;5;241;43m.\u001b[39;49m\u001b[43mn_jobs\u001b[49m\u001b[43m,\u001b[49m\u001b[43m \u001b[49m\u001b[43mmax_bin\u001b[49m\u001b[38;5;241;43m=\u001b[39;49m\u001b[38;5;28;43mself\u001b[39;49m\u001b[38;5;241;43m.\u001b[39;49m\u001b[43mmax_bin\u001b[49m\n\u001b[1;32m    960\u001b[0m \u001b[43m        \u001b[49m\u001b[43m)\u001b[49m\n\u001b[1;32m    961\u001b[0m     \u001b[38;5;28;01mexcept\u001b[39;00m \u001b[38;5;167;01mTypeError\u001b[39;00m:  \u001b[38;5;66;03m# `QuantileDMatrix` supports lesser types than DMatrix\u001b[39;00m\n\u001b[1;32m    962\u001b[0m         \u001b[38;5;28;01mpass\u001b[39;00m\n",
      "File \u001b[0;32m/gpfs/milgram/project/hwang/imc33/conda_envs/aitc/lib/python3.8/site-packages/xgboost/core.py:730\u001b[0m, in \u001b[0;36mrequire_keyword_args.<locals>.throw_if.<locals>.inner_f\u001b[0;34m(*args, **kwargs)\u001b[0m\n\u001b[1;32m    728\u001b[0m \u001b[38;5;28;01mfor\u001b[39;00m k, arg \u001b[38;5;129;01min\u001b[39;00m \u001b[38;5;28mzip\u001b[39m(sig\u001b[38;5;241m.\u001b[39mparameters, args):\n\u001b[1;32m    729\u001b[0m     kwargs[k] \u001b[38;5;241m=\u001b[39m arg\n\u001b[0;32m--> 730\u001b[0m \u001b[38;5;28;01mreturn\u001b[39;00m \u001b[43mfunc\u001b[49m\u001b[43m(\u001b[49m\u001b[38;5;241;43m*\u001b[39;49m\u001b[38;5;241;43m*\u001b[39;49m\u001b[43mkwargs\u001b[49m\u001b[43m)\u001b[49m\n",
      "File \u001b[0;32m/gpfs/milgram/project/hwang/imc33/conda_envs/aitc/lib/python3.8/site-packages/xgboost/core.py:1529\u001b[0m, in \u001b[0;36mQuantileDMatrix.__init__\u001b[0;34m(self, data, label, weight, base_margin, missing, silent, feature_names, feature_types, nthread, max_bin, ref, group, qid, label_lower_bound, label_upper_bound, feature_weights, enable_categorical, data_split_mode)\u001b[0m\n\u001b[1;32m   1509\u001b[0m     \u001b[38;5;28;01mif\u001b[39;00m \u001b[38;5;28many\u001b[39m(\n\u001b[1;32m   1510\u001b[0m         info \u001b[38;5;129;01mis\u001b[39;00m \u001b[38;5;129;01mnot\u001b[39;00m \u001b[38;5;28;01mNone\u001b[39;00m\n\u001b[1;32m   1511\u001b[0m         \u001b[38;5;28;01mfor\u001b[39;00m info \u001b[38;5;129;01min\u001b[39;00m (\n\u001b[0;32m   (...)\u001b[0m\n\u001b[1;32m   1522\u001b[0m         )\n\u001b[1;32m   1523\u001b[0m     ):\n\u001b[1;32m   1524\u001b[0m         \u001b[38;5;28;01mraise\u001b[39;00m \u001b[38;5;167;01mValueError\u001b[39;00m(\n\u001b[1;32m   1525\u001b[0m             \u001b[38;5;124m\"\u001b[39m\u001b[38;5;124mIf data iterator is used as input, data like label should be \u001b[39m\u001b[38;5;124m\"\u001b[39m\n\u001b[1;32m   1526\u001b[0m             \u001b[38;5;124m\"\u001b[39m\u001b[38;5;124mspecified as batch argument.\u001b[39m\u001b[38;5;124m\"\u001b[39m\n\u001b[1;32m   1527\u001b[0m         )\n\u001b[0;32m-> 1529\u001b[0m \u001b[38;5;28;43mself\u001b[39;49m\u001b[38;5;241;43m.\u001b[39;49m\u001b[43m_init\u001b[49m\u001b[43m(\u001b[49m\n\u001b[1;32m   1530\u001b[0m \u001b[43m    \u001b[49m\u001b[43mdata\u001b[49m\u001b[43m,\u001b[49m\n\u001b[1;32m   1531\u001b[0m \u001b[43m    \u001b[49m\u001b[43mref\u001b[49m\u001b[38;5;241;43m=\u001b[39;49m\u001b[43mref\u001b[49m\u001b[43m,\u001b[49m\n\u001b[1;32m   1532\u001b[0m \u001b[43m    \u001b[49m\u001b[43mlabel\u001b[49m\u001b[38;5;241;43m=\u001b[39;49m\u001b[43mlabel\u001b[49m\u001b[43m,\u001b[49m\n\u001b[1;32m   1533\u001b[0m \u001b[43m    \u001b[49m\u001b[43mweight\u001b[49m\u001b[38;5;241;43m=\u001b[39;49m\u001b[43mweight\u001b[49m\u001b[43m,\u001b[49m\n\u001b[1;32m   1534\u001b[0m \u001b[43m    \u001b[49m\u001b[43mbase_margin\u001b[49m\u001b[38;5;241;43m=\u001b[39;49m\u001b[43mbase_margin\u001b[49m\u001b[43m,\u001b[49m\n\u001b[1;32m   1535\u001b[0m \u001b[43m    \u001b[49m\u001b[43mgroup\u001b[49m\u001b[38;5;241;43m=\u001b[39;49m\u001b[43mgroup\u001b[49m\u001b[43m,\u001b[49m\n\u001b[1;32m   1536\u001b[0m \u001b[43m    \u001b[49m\u001b[43mqid\u001b[49m\u001b[38;5;241;43m=\u001b[39;49m\u001b[43mqid\u001b[49m\u001b[43m,\u001b[49m\n\u001b[1;32m   1537\u001b[0m \u001b[43m    \u001b[49m\u001b[43mlabel_lower_bound\u001b[49m\u001b[38;5;241;43m=\u001b[39;49m\u001b[43mlabel_lower_bound\u001b[49m\u001b[43m,\u001b[49m\n\u001b[1;32m   1538\u001b[0m \u001b[43m    \u001b[49m\u001b[43mlabel_upper_bound\u001b[49m\u001b[38;5;241;43m=\u001b[39;49m\u001b[43mlabel_upper_bound\u001b[49m\u001b[43m,\u001b[49m\n\u001b[1;32m   1539\u001b[0m \u001b[43m    \u001b[49m\u001b[43mfeature_weights\u001b[49m\u001b[38;5;241;43m=\u001b[39;49m\u001b[43mfeature_weights\u001b[49m\u001b[43m,\u001b[49m\n\u001b[1;32m   1540\u001b[0m \u001b[43m    \u001b[49m\u001b[43mfeature_names\u001b[49m\u001b[38;5;241;43m=\u001b[39;49m\u001b[43mfeature_names\u001b[49m\u001b[43m,\u001b[49m\n\u001b[1;32m   1541\u001b[0m \u001b[43m    \u001b[49m\u001b[43mfeature_types\u001b[49m\u001b[38;5;241;43m=\u001b[39;49m\u001b[43mfeature_types\u001b[49m\u001b[43m,\u001b[49m\n\u001b[1;32m   1542\u001b[0m \u001b[43m    \u001b[49m\u001b[43menable_categorical\u001b[49m\u001b[38;5;241;43m=\u001b[39;49m\u001b[43menable_categorical\u001b[49m\u001b[43m,\u001b[49m\n\u001b[1;32m   1543\u001b[0m \u001b[43m\u001b[49m\u001b[43m)\u001b[49m\n",
      "File \u001b[0;32m/gpfs/milgram/project/hwang/imc33/conda_envs/aitc/lib/python3.8/site-packages/xgboost/core.py:1588\u001b[0m, in \u001b[0;36mQuantileDMatrix._init\u001b[0;34m(self, data, ref, enable_categorical, **meta)\u001b[0m\n\u001b[1;32m   1576\u001b[0m config \u001b[38;5;241m=\u001b[39m make_jcargs(\n\u001b[1;32m   1577\u001b[0m     nthread\u001b[38;5;241m=\u001b[39m\u001b[38;5;28mself\u001b[39m\u001b[38;5;241m.\u001b[39mnthread, missing\u001b[38;5;241m=\u001b[39m\u001b[38;5;28mself\u001b[39m\u001b[38;5;241m.\u001b[39mmissing, max_bin\u001b[38;5;241m=\u001b[39m\u001b[38;5;28mself\u001b[39m\u001b[38;5;241m.\u001b[39mmax_bin\n\u001b[1;32m   1578\u001b[0m )\n\u001b[1;32m   1579\u001b[0m ret \u001b[38;5;241m=\u001b[39m _LIB\u001b[38;5;241m.\u001b[39mXGQuantileDMatrixCreateFromCallback(\n\u001b[1;32m   1580\u001b[0m     \u001b[38;5;28;01mNone\u001b[39;00m,\n\u001b[1;32m   1581\u001b[0m     it\u001b[38;5;241m.\u001b[39mproxy\u001b[38;5;241m.\u001b[39mhandle,\n\u001b[0;32m   (...)\u001b[0m\n\u001b[1;32m   1586\u001b[0m     ctypes\u001b[38;5;241m.\u001b[39mbyref(handle),\n\u001b[1;32m   1587\u001b[0m )\n\u001b[0;32m-> 1588\u001b[0m \u001b[43mit\u001b[49m\u001b[38;5;241;43m.\u001b[39;49m\u001b[43mreraise\u001b[49m\u001b[43m(\u001b[49m\u001b[43m)\u001b[49m\n\u001b[1;32m   1589\u001b[0m \u001b[38;5;66;03m# delay check_call to throw intermediate exception first\u001b[39;00m\n\u001b[1;32m   1590\u001b[0m _check_call(ret)\n",
      "File \u001b[0;32m/gpfs/milgram/project/hwang/imc33/conda_envs/aitc/lib/python3.8/site-packages/xgboost/core.py:576\u001b[0m, in \u001b[0;36mDataIter.reraise\u001b[0;34m(self)\u001b[0m\n\u001b[1;32m    574\u001b[0m exc \u001b[38;5;241m=\u001b[39m \u001b[38;5;28mself\u001b[39m\u001b[38;5;241m.\u001b[39m_exception\n\u001b[1;32m    575\u001b[0m \u001b[38;5;28mself\u001b[39m\u001b[38;5;241m.\u001b[39m_exception \u001b[38;5;241m=\u001b[39m \u001b[38;5;28;01mNone\u001b[39;00m\n\u001b[0;32m--> 576\u001b[0m \u001b[38;5;28;01mraise\u001b[39;00m exc\n",
      "File \u001b[0;32m/gpfs/milgram/project/hwang/imc33/conda_envs/aitc/lib/python3.8/site-packages/xgboost/core.py:557\u001b[0m, in \u001b[0;36mDataIter._handle_exception\u001b[0;34m(self, fn, dft_ret)\u001b[0m\n\u001b[1;32m    554\u001b[0m     \u001b[38;5;28;01mreturn\u001b[39;00m dft_ret\n\u001b[1;32m    556\u001b[0m \u001b[38;5;28;01mtry\u001b[39;00m:\n\u001b[0;32m--> 557\u001b[0m     \u001b[38;5;28;01mreturn\u001b[39;00m \u001b[43mfn\u001b[49m\u001b[43m(\u001b[49m\u001b[43m)\u001b[49m\n\u001b[1;32m    558\u001b[0m \u001b[38;5;28;01mexcept\u001b[39;00m \u001b[38;5;167;01mException\u001b[39;00m \u001b[38;5;28;01mas\u001b[39;00m e:  \u001b[38;5;66;03m# pylint: disable=broad-except\u001b[39;00m\n\u001b[1;32m    559\u001b[0m     \u001b[38;5;66;03m# Defer the exception in order to return 0 and stop the iteration.\u001b[39;00m\n\u001b[1;32m    560\u001b[0m     \u001b[38;5;66;03m# Exception inside a ctype callback function has no effect except\u001b[39;00m\n\u001b[1;32m    561\u001b[0m     \u001b[38;5;66;03m# for printing to stderr (doesn't stop the execution).\u001b[39;00m\n\u001b[1;32m    562\u001b[0m     tb \u001b[38;5;241m=\u001b[39m sys\u001b[38;5;241m.\u001b[39mexc_info()[\u001b[38;5;241m2\u001b[39m]\n",
      "File \u001b[0;32m/gpfs/milgram/project/hwang/imc33/conda_envs/aitc/lib/python3.8/site-packages/xgboost/core.py:641\u001b[0m, in \u001b[0;36mDataIter._next_wrapper.<locals>.<lambda>\u001b[0;34m()\u001b[0m\n\u001b[1;32m    638\u001b[0m     \u001b[38;5;28mself\u001b[39m\u001b[38;5;241m.\u001b[39m_data_ref \u001b[38;5;241m=\u001b[39m ref\n\u001b[1;32m    640\u001b[0m \u001b[38;5;66;03m# pylint: disable=not-callable\u001b[39;00m\n\u001b[0;32m--> 641\u001b[0m \u001b[38;5;28;01mreturn\u001b[39;00m \u001b[38;5;28mself\u001b[39m\u001b[38;5;241m.\u001b[39m_handle_exception(\u001b[38;5;28;01mlambda\u001b[39;00m: \u001b[38;5;28;43mself\u001b[39;49m\u001b[38;5;241;43m.\u001b[39;49m\u001b[43mnext\u001b[49m\u001b[43m(\u001b[49m\u001b[43minput_data\u001b[49m\u001b[43m)\u001b[49m, \u001b[38;5;241m0\u001b[39m)\n",
      "File \u001b[0;32m/gpfs/milgram/project/hwang/imc33/conda_envs/aitc/lib/python3.8/site-packages/xgboost/data.py:1280\u001b[0m, in \u001b[0;36mSingleBatchInternalIter.next\u001b[0;34m(self, input_data)\u001b[0m\n\u001b[1;32m   1278\u001b[0m     \u001b[38;5;28;01mreturn\u001b[39;00m \u001b[38;5;241m0\u001b[39m\n\u001b[1;32m   1279\u001b[0m \u001b[38;5;28mself\u001b[39m\u001b[38;5;241m.\u001b[39mit \u001b[38;5;241m+\u001b[39m\u001b[38;5;241m=\u001b[39m \u001b[38;5;241m1\u001b[39m\n\u001b[0;32m-> 1280\u001b[0m \u001b[43minput_data\u001b[49m\u001b[43m(\u001b[49m\u001b[38;5;241;43m*\u001b[39;49m\u001b[38;5;241;43m*\u001b[39;49m\u001b[38;5;28;43mself\u001b[39;49m\u001b[38;5;241;43m.\u001b[39;49m\u001b[43mkwargs\u001b[49m\u001b[43m)\u001b[49m\n\u001b[1;32m   1281\u001b[0m \u001b[38;5;28;01mreturn\u001b[39;00m \u001b[38;5;241m1\u001b[39m\n",
      "File \u001b[0;32m/gpfs/milgram/project/hwang/imc33/conda_envs/aitc/lib/python3.8/site-packages/xgboost/core.py:730\u001b[0m, in \u001b[0;36mrequire_keyword_args.<locals>.throw_if.<locals>.inner_f\u001b[0;34m(*args, **kwargs)\u001b[0m\n\u001b[1;32m    728\u001b[0m \u001b[38;5;28;01mfor\u001b[39;00m k, arg \u001b[38;5;129;01min\u001b[39;00m \u001b[38;5;28mzip\u001b[39m(sig\u001b[38;5;241m.\u001b[39mparameters, args):\n\u001b[1;32m    729\u001b[0m     kwargs[k] \u001b[38;5;241m=\u001b[39m arg\n\u001b[0;32m--> 730\u001b[0m \u001b[38;5;28;01mreturn\u001b[39;00m \u001b[43mfunc\u001b[49m\u001b[43m(\u001b[49m\u001b[38;5;241;43m*\u001b[39;49m\u001b[38;5;241;43m*\u001b[39;49m\u001b[43mkwargs\u001b[49m\u001b[43m)\u001b[49m\n",
      "File \u001b[0;32m/gpfs/milgram/project/hwang/imc33/conda_envs/aitc/lib/python3.8/site-packages/xgboost/core.py:624\u001b[0m, in \u001b[0;36mDataIter._next_wrapper.<locals>.input_data\u001b[0;34m(data, feature_names, feature_types, **kwargs)\u001b[0m\n\u001b[1;32m    622\u001b[0m     new, cat_codes, feature_names, feature_types \u001b[38;5;241m=\u001b[39m \u001b[38;5;28mself\u001b[39m\u001b[38;5;241m.\u001b[39m_temporary_data\n\u001b[1;32m    623\u001b[0m \u001b[38;5;28;01melse\u001b[39;00m:\n\u001b[0;32m--> 624\u001b[0m     new, cat_codes, feature_names, feature_types \u001b[38;5;241m=\u001b[39m \u001b[43m_proxy_transform\u001b[49m\u001b[43m(\u001b[49m\n\u001b[1;32m    625\u001b[0m \u001b[43m        \u001b[49m\u001b[43mdata\u001b[49m\u001b[43m,\u001b[49m\n\u001b[1;32m    626\u001b[0m \u001b[43m        \u001b[49m\u001b[43mfeature_names\u001b[49m\u001b[43m,\u001b[49m\n\u001b[1;32m    627\u001b[0m \u001b[43m        \u001b[49m\u001b[43mfeature_types\u001b[49m\u001b[43m,\u001b[49m\n\u001b[1;32m    628\u001b[0m \u001b[43m        \u001b[49m\u001b[38;5;28;43mself\u001b[39;49m\u001b[38;5;241;43m.\u001b[39;49m\u001b[43m_enable_categorical\u001b[49m\u001b[43m,\u001b[49m\n\u001b[1;32m    629\u001b[0m \u001b[43m    \u001b[49m\u001b[43m)\u001b[49m\n\u001b[1;32m    630\u001b[0m \u001b[38;5;66;03m# Stage the data, meta info are copied inside C++ MetaInfo.\u001b[39;00m\n\u001b[1;32m    631\u001b[0m \u001b[38;5;28mself\u001b[39m\u001b[38;5;241m.\u001b[39m_temporary_data \u001b[38;5;241m=\u001b[39m (new, cat_codes, feature_names, feature_types)\n",
      "File \u001b[0;32m/gpfs/milgram/project/hwang/imc33/conda_envs/aitc/lib/python3.8/site-packages/xgboost/data.py:1315\u001b[0m, in \u001b[0;36m_proxy_transform\u001b[0;34m(data, feature_names, feature_types, enable_categorical)\u001b[0m\n\u001b[1;32m   1313\u001b[0m     data \u001b[38;5;241m=\u001b[39m pd\u001b[38;5;241m.\u001b[39mDataFrame(data)\n\u001b[1;32m   1314\u001b[0m \u001b[38;5;28;01mif\u001b[39;00m _is_pandas_df(data):\n\u001b[0;32m-> 1315\u001b[0m     arr, feature_names, feature_types \u001b[38;5;241m=\u001b[39m \u001b[43m_transform_pandas_df\u001b[49m\u001b[43m(\u001b[49m\n\u001b[1;32m   1316\u001b[0m \u001b[43m        \u001b[49m\u001b[43mdata\u001b[49m\u001b[43m,\u001b[49m\u001b[43m \u001b[49m\u001b[43menable_categorical\u001b[49m\u001b[43m,\u001b[49m\u001b[43m \u001b[49m\u001b[43mfeature_names\u001b[49m\u001b[43m,\u001b[49m\u001b[43m \u001b[49m\u001b[43mfeature_types\u001b[49m\n\u001b[1;32m   1317\u001b[0m \u001b[43m    \u001b[49m\u001b[43m)\u001b[49m\n\u001b[1;32m   1318\u001b[0m     arr, _ \u001b[38;5;241m=\u001b[39m _ensure_np_dtype(arr, arr\u001b[38;5;241m.\u001b[39mdtype)\n\u001b[1;32m   1319\u001b[0m     \u001b[38;5;28;01mreturn\u001b[39;00m arr, \u001b[38;5;28;01mNone\u001b[39;00m, feature_names, feature_types\n",
      "File \u001b[0;32m/gpfs/milgram/project/hwang/imc33/conda_envs/aitc/lib/python3.8/site-packages/xgboost/data.py:490\u001b[0m, in \u001b[0;36m_transform_pandas_df\u001b[0;34m(data, enable_categorical, feature_names, feature_types, meta, meta_type)\u001b[0m\n\u001b[1;32m    483\u001b[0m \u001b[38;5;28;01mfor\u001b[39;00m dtype \u001b[38;5;129;01min\u001b[39;00m data\u001b[38;5;241m.\u001b[39mdtypes:\n\u001b[1;32m    484\u001b[0m     \u001b[38;5;28;01mif\u001b[39;00m \u001b[38;5;129;01mnot\u001b[39;00m (\n\u001b[1;32m    485\u001b[0m         (dtype\u001b[38;5;241m.\u001b[39mname \u001b[38;5;129;01min\u001b[39;00m _pandas_dtype_mapper)\n\u001b[1;32m    486\u001b[0m         \u001b[38;5;129;01mor\u001b[39;00m is_pd_sparse_dtype(dtype)\n\u001b[1;32m    487\u001b[0m         \u001b[38;5;129;01mor\u001b[39;00m (is_pd_cat_dtype(dtype) \u001b[38;5;129;01mand\u001b[39;00m enable_categorical)\n\u001b[1;32m    488\u001b[0m         \u001b[38;5;129;01mor\u001b[39;00m is_pa_ext_dtype(dtype)\n\u001b[1;32m    489\u001b[0m     ):\n\u001b[0;32m--> 490\u001b[0m         \u001b[43m_invalid_dataframe_dtype\u001b[49m\u001b[43m(\u001b[49m\u001b[43mdata\u001b[49m\u001b[43m)\u001b[49m\n\u001b[1;32m    491\u001b[0m     \u001b[38;5;28;01mif\u001b[39;00m is_pa_ext_dtype(dtype):\n\u001b[1;32m    492\u001b[0m         pyarrow_extension \u001b[38;5;241m=\u001b[39m \u001b[38;5;28;01mTrue\u001b[39;00m\n",
      "File \u001b[0;32m/gpfs/milgram/project/hwang/imc33/conda_envs/aitc/lib/python3.8/site-packages/xgboost/data.py:308\u001b[0m, in \u001b[0;36m_invalid_dataframe_dtype\u001b[0;34m(data)\u001b[0m\n\u001b[1;32m    306\u001b[0m type_err \u001b[38;5;241m=\u001b[39m \u001b[38;5;124m\"\u001b[39m\u001b[38;5;124mDataFrame.dtypes for data must be int, float, bool or category.\u001b[39m\u001b[38;5;124m\"\u001b[39m\n\u001b[1;32m    307\u001b[0m msg \u001b[38;5;241m=\u001b[39m \u001b[38;5;124mf\u001b[39m\u001b[38;5;124m\"\"\"\u001b[39m\u001b[38;5;132;01m{\u001b[39;00mtype_err\u001b[38;5;132;01m}\u001b[39;00m\u001b[38;5;124m \u001b[39m\u001b[38;5;132;01m{\u001b[39;00m_ENABLE_CAT_ERR\u001b[38;5;132;01m}\u001b[39;00m\u001b[38;5;124m \u001b[39m\u001b[38;5;132;01m{\u001b[39;00merr\u001b[38;5;132;01m}\u001b[39;00m\u001b[38;5;124m\"\"\"\u001b[39m\n\u001b[0;32m--> 308\u001b[0m \u001b[38;5;28;01mraise\u001b[39;00m \u001b[38;5;167;01mValueError\u001b[39;00m(msg)\n",
      "\u001b[0;31mValueError\u001b[0m: DataFrame.dtypes for data must be int, float, bool or category. When categorical type is supplied, The experimental DMatrix parameter`enable_categorical` must be set to `True`.  Invalid columns:medical_record_number: object"
     ]
    }
   ],
   "source": [
    "clf_xgb = xgb.XGBClassifier(objective='binary:logistic', missing=None, seed=42)\n",
    "clf_xgb.fit(X_train_selected, \n",
    "            y_train['viz_outcome_prolonged_los_yn'], \n",
    "            verbose=True,\n",
    "            early_stopping_rounds=10,\n",
    "            eval_metric='aucpr',\n",
    "            eval_set=[(X_val_selected, y_val['viz_outcome_prolonged_los_yn'])])"
   ]
  },
  {
   "cell_type": "code",
   "execution_count": null,
   "id": "cb17f324-67c0-48af-9062-e4827272a303",
   "metadata": {
    "papermill": {
     "duration": null,
     "end_time": null,
     "exception": null,
     "start_time": null,
     "status": "pending"
    },
    "tags": []
   },
   "outputs": [],
   "source": [
    "explainer = shap.Explainer(clf_xgb)\n",
    "shap_values = explainer(X_val_selected)"
   ]
  },
  {
   "cell_type": "code",
   "execution_count": null,
   "id": "597989bb-b5ec-49f7-830c-9d5df75f73c4",
   "metadata": {
    "papermill": {
     "duration": null,
     "end_time": null,
     "exception": null,
     "start_time": null,
     "status": "pending"
    },
    "tags": []
   },
   "outputs": [],
   "source": [
    "shap.plots.beeswarm(shap_values, max_display=30)"
   ]
  },
  {
   "cell_type": "code",
   "execution_count": null,
   "id": "2c837248-8d31-4ab5-9234-6c71659bb8b2",
   "metadata": {
    "papermill": {
     "duration": null,
     "end_time": null,
     "exception": null,
     "start_time": null,
     "status": "pending"
    },
    "tags": []
   },
   "outputs": [],
   "source": [
    "shap_df = pd.DataFrame(shap_values.values, columns=shap_values.feature_names)"
   ]
  },
  {
   "cell_type": "code",
   "execution_count": null,
   "id": "5f881dae-e0c2-4807-b8cc-e78364ffd6e8",
   "metadata": {
    "papermill": {
     "duration": null,
     "end_time": null,
     "exception": null,
     "start_time": null,
     "status": "pending"
    },
    "tags": []
   },
   "outputs": [],
   "source": [
    "mean_abs_shap = np.abs(shap_df).mean(axis=0)"
   ]
  },
  {
   "cell_type": "code",
   "execution_count": null,
   "id": "309596fe-c378-49de-a72f-a47e63b01751",
   "metadata": {
    "papermill": {
     "duration": null,
     "end_time": null,
     "exception": null,
     "start_time": null,
     "status": "pending"
    },
    "tags": []
   },
   "outputs": [],
   "source": [
    "top_30_features = mean_abs_shap.sort_values(ascending=False).head(30)\n"
   ]
  },
  {
   "cell_type": "code",
   "execution_count": null,
   "id": "af24ecdd-c956-4b45-a873-11a77b3a91f3",
   "metadata": {
    "papermill": {
     "duration": null,
     "end_time": null,
     "exception": null,
     "start_time": null,
     "status": "pending"
    },
    "tags": []
   },
   "outputs": [],
   "source": [
    "for feature in top_30_features.index.tolist():\n",
    "    print(feature)"
   ]
  },
  {
   "cell_type": "code",
   "execution_count": null,
   "id": "57278117-7bf8-4343-8714-3ae5bc239433",
   "metadata": {
    "papermill": {
     "duration": null,
     "end_time": null,
     "exception": null,
     "start_time": null,
     "status": "pending"
    },
    "tags": []
   },
   "outputs": [],
   "source": [
    "lab_df = pd.read_csv('/gpfs/milgram/project/rtaylor/imc33/LOS/data/new_label_names.csv')"
   ]
  },
  {
   "cell_type": "code",
   "execution_count": null,
   "id": "4ca81f0d-0de6-4400-ba42-d767134e1722",
   "metadata": {
    "papermill": {
     "duration": null,
     "end_time": null,
     "exception": null,
     "start_time": null,
     "status": "pending"
    },
    "tags": []
   },
   "outputs": [],
   "source": [
    "new_feature_names_dict = pd.Series(lab_df.new_name.values, index=lab_df.old_name).to_dict()"
   ]
  },
  {
   "cell_type": "code",
   "execution_count": null,
   "id": "bac89f7a-8554-4702-8da7-9d7991cfc966",
   "metadata": {
    "papermill": {
     "duration": null,
     "end_time": null,
     "exception": null,
     "start_time": null,
     "status": "pending"
    },
    "tags": []
   },
   "outputs": [],
   "source": [
    "lab_df = pd.read_csv('/gpfs/milgram/project/rtaylor/imc33/LOS/data/new_label_names.csv')\n",
    "\n",
    "new_feature_names_dict = pd.Series(lab_df.new_name.values, index=lab_df.old_name).to_dict()\n",
    "\n",
    "current_feature_names = shap_values.feature_names  # Current feature names\n",
    "\n",
    "# Update feature names in the SHAP values object\n",
    "new_feature_names = [new_feature_names_dict.get(name, name) for name in current_feature_names]\n",
    "shap_values.feature_names = new_feature_names\n",
    "\n",
    "# Generate the beeswarm plot with the updated feature names\n",
    "shap.plots.beeswarm(shap_values, max_display=30)"
   ]
  }
 ],
 "metadata": {
  "kernelspec": {
   "display_name": "Python 3 (ipykernel)",
   "language": "python",
   "name": "python3"
  },
  "language_info": {
   "codemirror_mode": {
    "name": "ipython",
    "version": 3
   },
   "file_extension": ".py",
   "mimetype": "text/x-python",
   "name": "python",
   "nbconvert_exporter": "python",
   "pygments_lexer": "ipython3",
   "version": "3.8.19"
  },
  "papermill": {
   "default_parameters": {},
   "duration": 155.690918,
   "end_time": "2024-07-25T19:37:11.998571",
   "environment_variables": {},
   "exception": true,
   "input_path": "los_features_all_with_quintiles_07-16-2024.ipynb",
   "output_path": "los_features_all_with_quintiles_07-25-2024.ipynb",
   "parameters": {},
   "start_time": "2024-07-25T19:34:36.307653",
   "version": "2.6.0"
  }
 },
 "nbformat": 4,
 "nbformat_minor": 5
}