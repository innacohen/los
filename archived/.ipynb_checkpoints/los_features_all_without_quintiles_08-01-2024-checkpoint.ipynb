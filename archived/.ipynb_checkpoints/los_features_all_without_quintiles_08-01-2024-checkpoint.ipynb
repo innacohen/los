{
 "cells": [
  {
   "cell_type": "code",
   "execution_count": null,
   "id": "fd3eb7b7-7360-48be-a80e-229b3b494171",
   "metadata": {
    "papermill": {
     "duration": 0.012019,
     "end_time": "2024-07-25T22:32:35.341236",
     "exception": false,
     "start_time": "2024-07-25T22:32:35.329217",
     "status": "completed"
    },
    "tags": []
   },
   "outputs": [],
   "source": [
    "## This version excludes CONTINUOUS Variables and the RFD variables AND _wHICH VARIABLES 3/27/2024 and con_max_consultorder_time/day and drg name\n",
    "## 4/4/2024 Added QUINTILE variables\n",
    "## 4/8/2024 Added QUINTILE varables by service\n",
    "## 4/9/2024 Added more consult and imaging variables (e.g. ad,it order to consult order, admit order to imaging read)\n",
    "## 4/11/2024 Added QUINTILE variables by service for the additional variables\n",
    "# 06/12/2024: Added gender, added imaging_order_before_consult_order and consult_order_before_imaging order variables, excluded 290 patients in 2022, dropped raw race/insurance categories\n",
    "# 06/14/2024: Removed quintiles\n",
    "# 06/20/2024: Set seed for reproducibility\n",
    "# 06/22/2024: Added sample size for validation\n",
    "# 07/05/2024: Collapsed Cardiology into Medicine\n",
    "# 07/08/2024: Added labels"
   ]
  },
  {
   "cell_type": "code",
   "execution_count": 1,
   "id": "1547941e-1e86-4e0b-b443-ae3e1c3e4f48",
   "metadata": {
    "papermill": {
     "duration": 1.516424,
     "end_time": "2024-07-25T22:32:36.864325",
     "exception": false,
     "start_time": "2024-07-25T22:32:35.347901",
     "status": "completed"
    },
    "tags": []
   },
   "outputs": [],
   "source": [
    "import pandas as pd\n",
    "import numpy as np\n",
    "\n",
    "#ML packages\n",
    "from sklearn.model_selection import train_test_split\n",
    "from sklearn.pipeline import Pipeline\n",
    "from sklearn.compose import ColumnTransformer\n",
    "from sklearn.preprocessing import MinMaxScaler\n",
    "from feature_engine.discretisation import DecisionTreeDiscretiser\n",
    "from sklearn.model_selection import GroupShuffleSplit\n",
    "from sklearn.impute import SimpleImputer\n",
    "from sklearn.metrics import accuracy_score, precision_score, recall_score, confusion_matrix, f1_score, roc_auc_score, classification_report, precision_recall_curve, roc_curve, auc\n",
    "from sklearn.calibration import calibration_curve\n",
    "\n",
    "#XGBo\n",
    "#https://github.com/liannewriting/YouTube-videos-public/blob/main/xgboost-python-tutorial-example/xgboost_python.ipynb\n",
    "import xgboost as xgb\n",
    "from category_encoders.target_encoder import TargetEncoder\n",
    "from xgboost import XGBClassifier\n",
    "#hyperparameter values\n",
    "from skopt import BayesSearchCV\n",
    "from skopt.space import Real, Categorical, Integer\n",
    "\n",
    "#Feature Selection\n",
    "from feature_engine.selection import DropConstantFeatures, DropDuplicateFeatures, SmartCorrelatedSelection\n",
    "from feature_engine.encoding import OneHotEncoder\n",
    "from feature_engine.selection import DropFeatures, DropConstantFeatures, DropDuplicateFeatures, SmartCorrelatedSelection\n",
    "from feature_engine.imputation import AddMissingIndicator\n",
    "from feature_engine.outliers import Winsorizer\n",
    "from feature_engine.wrappers import SklearnTransformerWrapper\n",
    "from feature_engine.imputation import ArbitraryNumberImputer\n",
    "from feature_engine.imputation import MeanMedianImputer\n",
    "from feature_engine.imputation import CategoricalImputer\n",
    "from feature_engine.encoding import RareLabelEncoder\n",
    "\n",
    "#Plotting Packages\n",
    "import shap\n",
    "import plotly.express as px\n",
    "import matplotlib.pyplot as plt\n",
    "import seaborn as sns\n",
    "\n",
    "import warnings\n",
    "warnings.filterwarnings('ignore')\n",
    "\n",
    "from hyperopt import tpe\n",
    "from hyperopt import fmin, tpe, Trials\n",
    "from hyperopt import STATUS_OK\n",
    "from hyperopt import hp\n"
   ]
  },
  {
   "cell_type": "code",
   "execution_count": 2,
   "id": "bf5e06bb-0891-4572-a80e-16f193c88a82",
   "metadata": {
    "papermill": {
     "duration": 0.011144,
     "end_time": "2024-07-25T22:32:36.882393",
     "exception": false,
     "start_time": "2024-07-25T22:32:36.871249",
     "status": "completed"
    },
    "tags": []
   },
   "outputs": [],
   "source": [
    "def map_med (value):\n",
    "    if value in [\"Cardiology\", \"Medicine\"]:\n",
    "        return \"Medicine\"\n",
    "    else:\n",
    "        return value"
   ]
  },
  {
   "cell_type": "markdown",
   "id": "158794c8-bc22-4ac4-bcde-0f3fc0d09650",
   "metadata": {
    "papermill": {
     "duration": 0.006238,
     "end_time": "2024-07-25T22:32:36.895179",
     "exception": false,
     "start_time": "2024-07-25T22:32:36.888941",
     "status": "completed"
    },
    "tags": []
   },
   "source": [
    "### Filtering for specific patients"
   ]
  },
  {
   "cell_type": "code",
   "execution_count": 3,
   "id": "a591fe07-bf34-497d-8ea2-e3292ef0fa1a",
   "metadata": {
    "papermill": {
     "duration": 0.863192,
     "end_time": "2024-07-25T22:32:37.764658",
     "exception": false,
     "start_time": "2024-07-25T22:32:36.901466",
     "status": "completed"
    },
    "tags": []
   },
   "outputs": [],
   "source": [
    "df_all = pd.read_csv('/gpfs/milgram/project/rtaylor/imc33/LOS/data/master_los.csv', index_col=[0])"
   ]
  },
  {
   "cell_type": "code",
   "execution_count": 4,
   "id": "e273e2dc-31dc-4479-a574-ef580710ab91",
   "metadata": {
    "papermill": {
     "duration": 0.010732,
     "end_time": "2024-07-25T22:32:37.781997",
     "exception": false,
     "start_time": "2024-07-25T22:32:37.771265",
     "status": "completed"
    },
    "tags": []
   },
   "outputs": [],
   "source": [
    "pd.set_option('display.max_columns', None)"
   ]
  },
  {
   "cell_type": "code",
   "execution_count": 5,
   "id": "4bb6ded2-a4f5-43fa-8018-933907ce4f1e",
   "metadata": {
    "papermill": {
     "duration": 0.012775,
     "end_time": "2024-07-25T22:32:37.801287",
     "exception": false,
     "start_time": "2024-07-25T22:32:37.788512",
     "status": "completed"
    },
    "tags": []
   },
   "outputs": [
    {
     "data": {
      "text/plain": [
       "(12771, 907)"
      ]
     },
     "execution_count": 5,
     "metadata": {},
     "output_type": "execute_result"
    }
   ],
   "source": [
    "df_all.shape"
   ]
  },
  {
   "cell_type": "code",
   "execution_count": 6,
   "id": "144cf57b-6cfd-4ec7-aa97-6f2d7492700b",
   "metadata": {
    "papermill": {
     "duration": 0.012555,
     "end_time": "2024-07-25T22:32:37.858655",
     "exception": false,
     "start_time": "2024-07-25T22:32:37.846100",
     "status": "completed"
    },
    "tags": []
   },
   "outputs": [],
   "source": [
    "df_all[\"viz_service_collapsed\"] = df_all[\"viz_service_collapsed\"].apply(map_med)"
   ]
  },
  {
   "cell_type": "code",
   "execution_count": 7,
   "id": "d0c19e30-374a-4f9b-94cb-a367ac08fb52",
   "metadata": {
    "papermill": {
     "duration": 0.012313,
     "end_time": "2024-07-25T22:32:37.877193",
     "exception": false,
     "start_time": "2024-07-25T22:32:37.864880",
     "status": "completed"
    },
    "tags": []
   },
   "outputs": [
    {
     "data": {
      "text/plain": [
       "viz_service_collapsed\n",
       "Medicine             11481\n",
       "Neurology              876\n",
       "Surgical Services      414\n",
       "Name: count, dtype: int64"
      ]
     },
     "execution_count": 7,
     "metadata": {},
     "output_type": "execute_result"
    }
   ],
   "source": [
    "df_all[\"viz_service_collapsed\"].value_counts()"
   ]
  },
  {
   "cell_type": "code",
   "execution_count": 8,
   "id": "b4ce19f1-6777-417c-b137-17f2dfa1e8e1",
   "metadata": {
    "papermill": {
     "duration": 0.052061,
     "end_time": "2024-07-25T22:32:37.954516",
     "exception": false,
     "start_time": "2024-07-25T22:32:37.902455",
     "status": "completed"
    },
    "tags": []
   },
   "outputs": [],
   "source": [
    "#Filter for home patients\n",
    "df_filt = df_all.copy()\n",
    "#df_filt = df_all[df_all[\"viz_disp_collapsed\"] == \"Home\"].copy()\n",
    "#df_filt = df_all[df_all[\"thro_boarding_yn\"] == 1].copy()"
   ]
  },
  {
   "cell_type": "code",
   "execution_count": 9,
   "id": "daf28fe8-5be5-4b6a-a188-38b5d1f5273c",
   "metadata": {
    "papermill": {
     "duration": 0.011783,
     "end_time": "2024-07-25T22:32:37.973094",
     "exception": false,
     "start_time": "2024-07-25T22:32:37.961311",
     "status": "completed"
    },
    "tags": []
   },
   "outputs": [
    {
     "data": {
      "text/plain": [
       "(12771, 907)"
      ]
     },
     "execution_count": 9,
     "metadata": {},
     "output_type": "execute_result"
    }
   ],
   "source": [
    "df_filt.shape"
   ]
  },
  {
   "cell_type": "code",
   "execution_count": 10,
   "id": "e1abd044-d08d-420c-8af7-95a7bc4d7982",
   "metadata": {
    "papermill": {
     "duration": 0.127622,
     "end_time": "2024-07-25T22:32:38.107578",
     "exception": false,
     "start_time": "2024-07-25T22:32:37.979956",
     "status": "completed"
    },
    "tags": []
   },
   "outputs": [],
   "source": [
    "features_los = pd.read_excel('/gpfs/milgram/project/rtaylor/imc33/LOS/data/features_los_simple.xlsx')\n",
    "\n",
    "# Features that are divided into 5 types to conduct data preprocessing\n",
    "# 1. drop: features that need to be dropped\n",
    "drop_list = features_los[features_los['type'] == 'drop']['col_name'].tolist()\n",
    "\n",
    "# 2. category: features that are already categorical and need to be OneHotEncoding (add missing value indicator, impute missing by adding 'missing' category)\n",
    "category_list = features_los[features_los['type'] == 'category']['col_name'].tolist()\n",
    "\n",
    "# 3. binary: features that are binary and need to be converted to categorical (add missing value indicator / prefer: fill missing with 0)\n",
    "binary_list = features_los[features_los['type'] == 'binary']['col_name'].tolist()\n",
    "\n",
    "# 4. continuous: features that are continous/numerical variables, need outlier handling and normalization (add missing value indicator, fill missing with median)\n",
    "continuous_list = features_los[features_los['type'] == 'continuous']['col_name'].tolist()\n",
    "\n",
    "# 5. discrete: features that are discrete/numerical variables, need to be discretized (fill missing with 0)\n",
    "discrete_list = features_los[features_los['type'] == 'discrete']['col_name'].tolist()"
   ]
  },
  {
   "cell_type": "code",
   "execution_count": 11,
   "id": "67af43fb-1659-41c0-8ee8-b8c2220dbed9",
   "metadata": {
    "papermill": {
     "duration": 0.039672,
     "end_time": "2024-07-25T22:32:38.154035",
     "exception": false,
     "start_time": "2024-07-25T22:32:38.114363",
     "status": "completed"
    },
    "tags": []
   },
   "outputs": [],
   "source": [
    "# Split into X, y\n",
    "X = df_filt.drop(['viz_outcome_prolonged_los_yn'], axis=1)\n",
    "y = df_filt['viz_outcome_prolonged_los_yn']"
   ]
  },
  {
   "cell_type": "code",
   "execution_count": 12,
   "id": "a17d4884-39fc-494c-aa1c-519f21e28a21",
   "metadata": {
    "papermill": {
     "duration": 0.068356,
     "end_time": "2024-07-25T22:32:38.229308",
     "exception": false,
     "start_time": "2024-07-25T22:32:38.160952",
     "status": "completed"
    },
    "tags": []
   },
   "outputs": [],
   "source": [
    "# Convert variables to categorical\n",
    "#X[binary_list] = X[binary_list].astype('category')\n",
    "X[category_list] = X[category_list].astype('category')"
   ]
  },
  {
   "cell_type": "code",
   "execution_count": 13,
   "id": "a3b33e19-a9f3-4849-93f9-ec1a1c269b10",
   "metadata": {
    "papermill": {
     "duration": 0.010273,
     "end_time": "2024-07-25T22:32:38.264233",
     "exception": false,
     "start_time": "2024-07-25T22:32:38.253960",
     "status": "completed"
    },
    "tags": []
   },
   "outputs": [],
   "source": [
    "continuous_list.remove(\"viz_age\")"
   ]
  },
  {
   "cell_type": "code",
   "execution_count": null,
   "id": "93ebdc82-7438-457f-885b-2541277defe9",
   "metadata": {
    "papermill": {
     "duration": 0.010511,
     "end_time": "2024-07-25T22:32:38.281583",
     "exception": false,
     "start_time": "2024-07-25T22:32:38.271072",
     "status": "completed"
    },
    "tags": []
   },
   "outputs": [],
   "source": [
    "#Check drop list\n",
    "#drop_list"
   ]
  },
  {
   "cell_type": "code",
   "execution_count": 14,
   "id": "7d66e29a-42e4-476b-88b6-ff2e22978964",
   "metadata": {
    "papermill": {
     "duration": 0.020494,
     "end_time": "2024-07-25T22:32:38.329973",
     "exception": false,
     "start_time": "2024-07-25T22:32:38.309479",
     "status": "completed"
    },
    "tags": []
   },
   "outputs": [],
   "source": [
    "X = X.drop(columns=drop_list+continuous_list)\n",
    "X = X.reset_index()\n",
    "y = y.reset_index()"
   ]
  },
  {
   "cell_type": "code",
   "execution_count": 15,
   "id": "7075a970-8bd9-42d6-bae9-1f1c380219f5",
   "metadata": {
    "papermill": {
     "duration": 0.032374,
     "end_time": "2024-07-25T22:32:38.369068",
     "exception": false,
     "start_time": "2024-07-25T22:32:38.336694",
     "status": "completed"
    },
    "tags": []
   },
   "outputs": [],
   "source": [
    "# Split the data by group shuffle split on 'PAT_MRN_ID' into train set and validation set\n",
    "gss = GroupShuffleSplit(n_splits=2, test_size=0.2, random_state=42)\n",
    "\n",
    "train_ix, val_ix = next(gss.split(X, y, groups=X['pat_mrn_id']))\n",
    "\n",
    "X_train = X.loc[train_ix]\n",
    "y_train = y.loc[train_ix]\n",
    "\n",
    "X_val = X.loc[val_ix]\n",
    "y_val = y.loc[val_ix]\n",
    "\n",
    "# Drop 'PAT_MRN_ID' and set 'PAT_ENC_CSN_ID' as index\n",
    "X_train = X_train.drop(['pat_mrn_id'], axis=1).set_index('pat_enc_csn_id')\n",
    "X_val = X_val.drop(['pat_mrn_id'], axis=1).set_index('pat_enc_csn_id')"
   ]
  },
  {
   "cell_type": "code",
   "execution_count": 16,
   "id": "85ba6bdd-5c88-4076-aaf1-e6c30c62de45",
   "metadata": {},
   "outputs": [],
   "source": [
    "y_train = y_train.set_index('pat_enc_csn_id')\n",
    "y_val = y_val.set_index('pat_enc_csn_id')"
   ]
  },
  {
   "cell_type": "code",
   "execution_count": 17,
   "id": "9faa8978-c9ba-4d67-88a7-76828d8f79ba",
   "metadata": {},
   "outputs": [
    {
     "data": {
      "text/plain": [
       "['viz_disp_collapsed',\n",
       " 'viz_ethnicity',\n",
       " 'viz_race_collapsed',\n",
       " 'viz_language',\n",
       " 'viz_insurance',\n",
       " 'viz_service_collapsed',\n",
       " 'viz_ynhhs_sg2_service',\n",
       " 'viz_drg',\n",
       " 'viz_admission_day',\n",
       " 'viz_discharged_day',\n",
       " 'thro_ed_arrival_time',\n",
       " 'thro_ed_arrival_day',\n",
       " 'thro_admit_or_obs_order_time',\n",
       " 'thro_admit_or_obs_order_day',\n",
       " 'thro_first_bed_assigned_time',\n",
       " 'thro_first_bed_assigned_day',\n",
       " 'thro_last_bed_assigned_time',\n",
       " 'thro_last_bed_assigned_day',\n",
       " 'thro_ed_departure_time',\n",
       " 'thro_ed_departure_day',\n",
       " 'summary_pt_consult_order_time',\n",
       " 'summary_pt_consult_order_day',\n",
       " 'summary_sw_consult_order_time',\n",
       " 'summary_sw_consult_order_day',\n",
       " 'summary_first_edd_time',\n",
       " 'summary_first_edd_day',\n",
       " 'summary_first_edd_doc_time',\n",
       " 'summary_first_edd_doc_day',\n",
       " 'summary_last_edd_time',\n",
       " 'summary_last_edd_day',\n",
       " 'summary_last_edd_doc_time',\n",
       " 'summary_last_edd_doc_day',\n",
       " 'summary_first_rfd_status',\n",
       " 'summary_first_rfd_time',\n",
       " 'summary_first_rfd_day',\n",
       " 'summary_last_rfd_status',\n",
       " 'summary_last_rfd_time',\n",
       " 'summary_last_rfd_day',\n",
       " 'con_max_consult_note_creation_time',\n",
       " 'con_max_consult_note_creation_day',\n",
       " 'con_max_date_note_signed_time2',\n",
       " 'con_max_date_note_signed_day2',\n",
       " 'viz_gender']"
      ]
     },
     "execution_count": 17,
     "metadata": {},
     "output_type": "execute_result"
    }
   ],
   "source": [
    "category_list"
   ]
  },
  {
   "cell_type": "code",
   "execution_count": 18,
   "id": "3903814a-6155-43da-ae19-b828c71da820",
   "metadata": {
    "papermill": {
     "duration": 0.012376,
     "end_time": "2024-07-25T22:32:38.388375",
     "exception": false,
     "start_time": "2024-07-25T22:32:38.375999",
     "status": "completed"
    },
    "tags": []
   },
   "outputs": [],
   "source": [
    "# Update feature preprocessing pipeline\n",
    "feature_preprocess_pipeline = Pipeline(steps=[\n",
    "\n",
    "    # Missing value imputation\n",
    "    # Impute missing values with 0 for discrete variables\n",
    "    ('arbitrary_number_imputer', ArbitraryNumberImputer(arbitrary_number=0, variables=discrete_list)),\n",
    "\n",
    "    #Update 08/01/2024. Replaced CategoricalImputer with ArbitraryNumberInputer for Binary variables (1/0)\n",
    "    # Impute missing values with 0 for binary variables \n",
    "    ('binary_imputer', ArbitraryNumberImputer(arbitrary_number=0, variables=binary_list)),\n",
    "    \n",
    "    # Impute missing values with adding 'missing' category for categorical variables \n",
    "   ('categorical_imputer', CategoricalImputer(variables=category_list)),\n",
    "    \n",
    "    # Rare encoding for categorical variables\n",
    "    ('rare_label_encoder', RareLabelEncoder(tol=0.01, n_categories=5, max_n_categories=10, variables=category_list)),\n",
    "\n",
    "    # OneHotEncoding for categoricals\n",
    "    ('one_hot_category', OneHotEncoder(variables=category_list)),\n",
    "    \n",
    "])  # Apply the pipeline"
   ]
  },
  {
   "cell_type": "code",
   "execution_count": 19,
   "id": "efb20567-e6ba-4a32-8fac-cdc7b774621c",
   "metadata": {
    "papermill": {
     "duration": 1.204234,
     "end_time": "2024-07-25T22:32:39.599415",
     "exception": false,
     "start_time": "2024-07-25T22:32:38.395181",
     "status": "completed"
    },
    "tags": []
   },
   "outputs": [],
   "source": [
    "# Apply the pipeline\n",
    "X_train_preprocessed = feature_preprocess_pipeline.fit_transform(X_train, y_train)\n",
    "X_val_preprocessed = feature_preprocess_pipeline.transform(X_val)"
   ]
  },
  {
   "cell_type": "code",
   "execution_count": 23,
   "id": "deaa9f6e-7b52-43f9-afcd-54aa509eae5d",
   "metadata": {},
   "outputs": [
    {
     "name": "stdout",
     "output_type": "stream",
     "text": [
      "viz_primary_payer_name\n",
      "thro_door_to_admit_order_hrs\n",
      "thro_admit_order_to_first_bed_hrs\n",
      "thro_last_bed_to_ed_dept_hrs\n",
      "thro_admit_order_to_ed_dept_hrs\n",
      "summary_first_edd_to_discharge_hrs\n",
      "summary_first_edd_doc_to_discharge_hrs\n",
      "summary_last_edd_to_discharge_hrs\n",
      "summary_last_edd_doc_to_discharge_hrs\n",
      "summary_first_rfd_to_discharge_hrs\n",
      "summary_last_rfd_to_discharge_hrs\n",
      "rfd_first_nmr_start_day\n",
      "rfd_first_nmr_start_time\n",
      "rfd_first_mrnb_start_day\n",
      "rfd_first_mrnb_start_time\n",
      "rfd_first_mrwb_start_day\n",
      "rfd_first_mrwb_start_time\n",
      "rfd_first_nmr_to_discharge_hrs\n",
      "rfd_first_mrnb_to_discharge_hrs\n",
      "rfd_first_mrwb_to_discharge_hrs\n",
      "rfd_last_nmr_effective_end_day\n",
      "rfd_last_nmr_effective_end_time\n",
      "rfd_last_mrnb_effective_end_day\n",
      "rfd_last_mrnb_effective_end_time\n",
      "rfd_last_mrwb_effective_end_day\n",
      "rfd_last_mrwb_effective_end_time\n",
      "rfd_last_nmr_to_discharge_hrs\n",
      "rfd_last_mrnb_to_discharge_hrs\n",
      "rfd_last_mrwb_to_discharge_hrs\n",
      "con_max_consult_order_to_sign_any_hrs\n",
      "con_avg_consult_order_to_sign_any_hrs\n",
      "con_max_consult_order_to_sign_any_quintile\n",
      "con_avg_consult_order_to_sign_any_quintile\n",
      "con_max_consult_note_to_sign_any_hrs\n",
      "con_avg_consult_note_to_sign_any_hrs\n",
      "con_max_consult_note_to_sign_any_quintile\n",
      "con_avg_consult_note_to_sign_any_quintile\n",
      "con_max_consult_order_to_sign_colon_and_rectal_hrs\n",
      "con_max_consult_order_to_sign_diabetes_hrs\n",
      "con_max_consult_order_to_sign_hematology_hrs\n",
      "con_max_consult_order_to_sign_infectious_disease_hrs\n",
      "con_max_consult_order_to_sign_lab_medicine_hrs\n",
      "con_max_consult_order_to_sign_nephrology_hrs\n",
      "con_max_consult_order_to_sign_oncology_hrs\n",
      "con_max_consult_order_to_sign_picc_hrs\n",
      "con_max_consult_order_to_sign_palliative_hrs\n",
      "con_max_consult_order_to_sign_pulmonology_hrs\n",
      "con_max_consult_order_to_sign_radiation_oncology_hrs\n",
      "con_max_consult_order_to_sign_radiology_hrs\n",
      "con_max_consult_order_to_sign_urology_hrs\n",
      "con_max_consult_order_to_sign_cardiology_hrs\n",
      "con_max_consult_order_to_sign_gastroenterology_hrs\n",
      "con_max_consult_order_to_sign_hepatology_hrs\n",
      "con_max_consult_order_to_sign_other_hrs\n",
      "con_max_consult_order_to_sign_pharmacy_hrs\n",
      "con_max_consult_order_to_sign_plastic_surgery_hrs\n",
      "con_max_consult_order_to_sign_surgery_hrs\n",
      "con_max_consult_order_to_sign_vascular_surgery_hrs\n",
      "con_max_consult_order_to_sign_neurology_hrs\n",
      "con_max_consult_order_to_sign_hospitalist_service_hrs\n",
      "con_max_consult_order_to_sign_psychiatry_hrs\n",
      "con_max_consult_order_to_sign_internal_medicine_hrs\n",
      "con_max_consult_order_to_sign_neuro_oncology_hrs\n",
      "con_max_consult_order_to_sign_neurosurgery_hrs\n",
      "con_max_consult_order_to_sign_ophthalmology_hrs\n",
      "con_max_consult_order_to_sign_orthopedics_hrs\n",
      "con_max_consult_order_to_sign_physical_medicine_and_rehabilitation_hrs\n",
      "con_max_consult_order_to_sign_podiatry_hrs\n",
      "con_max_consult_order_to_sign_dermatology_hrs\n",
      "con_max_consult_order_to_sign_geriatrics_hrs\n",
      "con_max_consult_order_to_sign_addiction_medicine_hrs\n",
      "con_max_consult_order_to_sign_otolaryngology_ent_hrs\n",
      "con_max_consult_order_to_sign_icu_sdu_hrs\n",
      "con_max_consult_order_to_sign_trauma_hrs\n",
      "con_max_consult_order_to_sign_cardiothoracic_surgery_hrs\n",
      "con_max_consult_order_to_sign_rheumatology_hrs\n",
      "con_max_consult_order_to_sign_sw_hrs\n",
      "con_max_consult_note_to_sign_colon_and_rectal_hrs\n",
      "con_max_consult_note_to_sign_diabetes_hrs\n",
      "con_max_consult_note_to_sign_hematology_hrs\n",
      "con_max_consult_note_to_sign_infectious_disease_hrs\n",
      "con_max_consult_note_to_sign_lab_medicine_hrs\n",
      "con_max_consult_note_to_sign_nephrology_hrs\n",
      "con_max_consult_note_to_sign_oncology_hrs\n",
      "con_max_consult_note_to_sign_picc_hrs\n",
      "con_max_consult_note_to_sign_palliative_hrs\n",
      "con_max_consult_note_to_sign_pulmonology_hrs\n",
      "con_max_consult_note_to_sign_radiation_oncology_hrs\n",
      "con_max_consult_note_to_sign_radiology_hrs\n",
      "con_max_consult_note_to_sign_urology_hrs\n",
      "con_max_consult_note_to_sign_cardiology_hrs\n",
      "con_max_consult_note_to_sign_gastroenterology_hrs\n",
      "con_max_consult_note_to_sign_hepatology_hrs\n",
      "con_max_consult_note_to_sign_other_hrs\n",
      "con_max_consult_note_to_sign_pharmacy_hrs\n",
      "con_max_consult_note_to_sign_plastic_surgery_hrs\n",
      "con_max_consult_note_to_sign_surgery_hrs\n",
      "con_max_consult_note_to_sign_vascular_surgery_hrs\n",
      "con_max_consult_note_to_sign_neurology_hrs\n",
      "con_max_consult_note_to_sign_hospitalist_service_hrs\n",
      "con_max_consult_note_to_sign_psychiatry_hrs\n",
      "con_max_consult_note_to_sign_internal_medicine_hrs\n",
      "con_max_consult_note_to_sign_neuro_oncology_hrs\n",
      "con_max_consult_note_to_sign_neurosurgery_hrs\n",
      "con_max_consult_note_to_sign_ophthalmology_hrs\n",
      "con_max_consult_note_to_sign_orthopedics_hrs\n",
      "con_max_consult_note_to_sign_physical_medicine_and_rehabilitation_hrs\n",
      "con_max_consult_note_to_sign_podiatry_hrs\n",
      "con_max_consult_note_to_sign_dermatology_hrs\n",
      "con_max_consult_note_to_sign_geriatrics_hrs\n",
      "con_max_consult_note_to_sign_addiction_medicine_hrs\n",
      "con_max_consult_note_to_sign_otolaryngology_ent_hrs\n",
      "con_max_consult_note_to_sign_icu_sdu_hrs\n",
      "con_max_consult_note_to_sign_trauma_hrs\n",
      "con_max_consult_note_to_sign_cardiothoracic_surgery_hrs\n",
      "con_max_consult_note_to_sign_rheumatology_hrs\n",
      "con_max_consult_note_to_sign_sw_hrs\n",
      "con_avg_consult_order_to_sign_colon_and_rectal_hrs\n",
      "con_avg_consult_order_to_sign_diabetes_hrs\n",
      "con_avg_consult_order_to_sign_hematology_hrs\n",
      "con_avg_consult_order_to_sign_infectious_disease_hrs\n",
      "con_avg_consult_order_to_sign_lab_medicine_hrs\n",
      "con_avg_consult_order_to_sign_nephrology_hrs\n",
      "con_avg_consult_order_to_sign_oncology_hrs\n",
      "con_avg_consult_order_to_sign_picc_hrs\n",
      "con_avg_consult_order_to_sign_palliative_hrs\n",
      "con_avg_consult_order_to_sign_pulmonology_hrs\n",
      "con_avg_consult_order_to_sign_radiation_oncology_hrs\n",
      "con_avg_consult_order_to_sign_radiology_hrs\n",
      "con_avg_consult_order_to_sign_urology_hrs\n",
      "con_avg_consult_order_to_sign_cardiology_hrs\n",
      "con_avg_consult_order_to_sign_gastroenterology_hrs\n",
      "con_avg_consult_order_to_sign_hepatology_hrs\n",
      "con_avg_consult_order_to_sign_other_hrs\n",
      "con_avg_consult_order_to_sign_pharmacy_hrs\n",
      "con_avg_consult_order_to_sign_plastic_surgery_hrs\n",
      "con_avg_consult_order_to_sign_surgery_hrs\n",
      "con_avg_consult_order_to_sign_vascular_surgery_hrs\n",
      "con_avg_consult_order_to_sign_neurology_hrs\n",
      "con_avg_consult_order_to_sign_hospitalist_service_hrs\n",
      "con_avg_consult_order_to_sign_psychiatry_hrs\n",
      "con_avg_consult_order_to_sign_internal_medicine_hrs\n",
      "con_avg_consult_order_to_sign_neuro_oncology_hrs\n",
      "con_avg_consult_order_to_sign_neurosurgery_hrs\n",
      "con_avg_consult_order_to_sign_ophthalmology_hrs\n",
      "con_avg_consult_order_to_sign_orthopedics_hrs\n",
      "con_avg_consult_order_to_sign_physical_medicine_and_rehabilitation_hrs\n",
      "con_avg_consult_order_to_sign_podiatry_hrs\n",
      "con_avg_consult_order_to_sign_dermatology_hrs\n",
      "con_avg_consult_order_to_sign_geriatrics_hrs\n",
      "con_avg_consult_order_to_sign_addiction_medicine_hrs\n",
      "con_avg_consult_order_to_sign_otolaryngology_ent_hrs\n",
      "con_avg_consult_order_to_sign_icu_sdu_hrs\n",
      "con_avg_consult_order_to_sign_trauma_hrs\n",
      "con_avg_consult_order_to_sign_cardiothoracic_surgery_hrs\n",
      "con_avg_consult_order_to_sign_rheumatology_hrs\n",
      "con_avg_consult_order_to_sign_sw_hrs\n",
      "con_avg_consult_note_to_sign_colon_and_rectal_hrs\n",
      "con_avg_consult_note_to_sign_diabetes_hrs\n",
      "con_avg_consult_note_to_sign_hematology_hrs\n",
      "con_avg_consult_note_to_sign_infectious_disease_hrs\n",
      "con_avg_consult_note_to_sign_lab_medicine_hrs\n",
      "con_avg_consult_note_to_sign_nephrology_hrs\n",
      "con_avg_consult_note_to_sign_oncology_hrs\n",
      "con_avg_consult_note_to_sign_picc_hrs\n",
      "con_avg_consult_note_to_sign_palliative_hrs\n",
      "con_avg_consult_note_to_sign_pulmonology_hrs\n",
      "con_avg_consult_note_to_sign_radiation_oncology_hrs\n",
      "con_avg_consult_note_to_sign_radiology_hrs\n",
      "con_avg_consult_note_to_sign_urology_hrs\n",
      "con_avg_consult_note_to_sign_cardiology_hrs\n",
      "con_avg_consult_note_to_sign_gastroenterology_hrs\n",
      "con_avg_consult_note_to_sign_hepatology_hrs\n",
      "con_avg_consult_note_to_sign_other_hrs\n",
      "con_avg_consult_note_to_sign_pharmacy_hrs\n",
      "con_avg_consult_note_to_sign_plastic_surgery_hrs\n",
      "con_avg_consult_note_to_sign_surgery_hrs\n",
      "con_avg_consult_note_to_sign_vascular_surgery_hrs\n",
      "con_avg_consult_note_to_sign_neurology_hrs\n",
      "con_avg_consult_note_to_sign_hospitalist_service_hrs\n",
      "con_avg_consult_note_to_sign_psychiatry_hrs\n",
      "con_avg_consult_note_to_sign_internal_medicine_hrs\n",
      "con_avg_consult_note_to_sign_neuro_oncology_hrs\n",
      "con_avg_consult_note_to_sign_neurosurgery_hrs\n",
      "con_avg_consult_note_to_sign_ophthalmology_hrs\n",
      "con_avg_consult_note_to_sign_orthopedics_hrs\n",
      "con_avg_consult_note_to_sign_physical_medicine_and_rehabilitation_hrs\n",
      "con_avg_consult_note_to_sign_podiatry_hrs\n",
      "con_avg_consult_note_to_sign_dermatology_hrs\n",
      "con_avg_consult_note_to_sign_geriatrics_hrs\n",
      "con_avg_consult_note_to_sign_addiction_medicine_hrs\n",
      "con_avg_consult_note_to_sign_otolaryngology_ent_hrs\n",
      "con_avg_consult_note_to_sign_icu_sdu_hrs\n",
      "con_avg_consult_note_to_sign_trauma_hrs\n",
      "con_avg_consult_note_to_sign_cardiothoracic_surgery_hrs\n",
      "con_avg_consult_note_to_sign_rheumatology_hrs\n",
      "con_avg_consult_note_to_sign_sw_hrs\n",
      "con_max_consult_order_to_sign_colon_and_rectal_quintile\n",
      "con_max_consult_order_to_sign_diabetes_quintile\n",
      "con_max_consult_order_to_sign_hematology_quintile\n",
      "con_max_consult_order_to_sign_infectious_disease_quintile\n",
      "con_max_consult_order_to_sign_lab_medicine_quintile\n",
      "con_max_consult_order_to_sign_nephrology_quintile\n",
      "con_max_consult_order_to_sign_oncology_quintile\n",
      "con_max_consult_order_to_sign_picc_quintile\n",
      "con_max_consult_order_to_sign_palliative_quintile\n",
      "con_max_consult_order_to_sign_pulmonology_quintile\n",
      "con_max_consult_order_to_sign_radiation_oncology_quintile\n",
      "con_max_consult_order_to_sign_radiology_quintile\n",
      "con_max_consult_order_to_sign_urology_quintile\n",
      "con_max_consult_order_to_sign_cardiology_quintile\n",
      "con_max_consult_order_to_sign_gastroenterology_quintile\n",
      "con_max_consult_order_to_sign_hepatology_quintile\n",
      "con_max_consult_order_to_sign_other_quintile\n",
      "con_max_consult_order_to_sign_pharmacy_quintile\n",
      "con_max_consult_order_to_sign_plastic_surgery_quintile\n",
      "con_max_consult_order_to_sign_surgery_quintile\n",
      "con_max_consult_order_to_sign_vascular_surgery_quintile\n",
      "con_max_consult_order_to_sign_neurology_quintile\n",
      "con_max_consult_order_to_sign_hospitalist_service_quintile\n",
      "con_max_consult_order_to_sign_psychiatry_quintile\n",
      "con_max_consult_order_to_sign_internal_medicine_quintile\n",
      "con_max_consult_order_to_sign_neuro_oncology_quintile\n",
      "con_max_consult_order_to_sign_neurosurgery_quintile\n",
      "con_max_consult_order_to_sign_ophthalmology_quintile\n",
      "con_max_consult_order_to_sign_orthopedics_quintile\n",
      "con_max_consult_order_to_sign_physical_medicine_and_rehabilitation_quintile\n",
      "con_max_consult_order_to_sign_podiatry_quintile\n",
      "con_max_consult_order_to_sign_dermatology_quintile\n",
      "con_max_consult_order_to_sign_geriatrics_quintile\n",
      "con_max_consult_order_to_sign_addiction_medicine_quintile\n",
      "con_max_consult_order_to_sign_otolaryngology_ent_quintile\n",
      "con_max_consult_order_to_sign_icu_sdu_quintile\n",
      "con_max_consult_order_to_sign_trauma_quintile\n",
      "con_max_consult_order_to_sign_cardiothoracic_surgery_quintile\n",
      "con_max_consult_order_to_sign_rheumatology_quintile\n",
      "con_max_consult_order_to_sign_sw_quintile\n",
      "con_max_consult_note_to_sign_colon_and_rectal_quintile\n",
      "con_max_consult_note_to_sign_diabetes_quintile\n",
      "con_max_consult_note_to_sign_hematology_quintile\n",
      "con_max_consult_note_to_sign_infectious_disease_quintile\n",
      "con_max_consult_note_to_sign_lab_medicine_quintile\n",
      "con_max_consult_note_to_sign_nephrology_quintile\n",
      "con_max_consult_note_to_sign_oncology_quintile\n",
      "con_max_consult_note_to_sign_picc_quintile\n",
      "con_max_consult_note_to_sign_palliative_quintile\n",
      "con_max_consult_note_to_sign_pulmonology_quintile\n",
      "con_max_consult_note_to_sign_radiation_oncology_quintile\n",
      "con_max_consult_note_to_sign_radiology_quintile\n",
      "con_max_consult_note_to_sign_urology_quintile\n",
      "con_max_consult_note_to_sign_cardiology_quintile\n",
      "con_max_consult_note_to_sign_gastroenterology_quintile\n",
      "con_max_consult_note_to_sign_hepatology_quintile\n",
      "con_max_consult_note_to_sign_other_quintile\n",
      "con_max_consult_note_to_sign_pharmacy_quintile\n",
      "con_max_consult_note_to_sign_plastic_surgery_quintile\n",
      "con_max_consult_note_to_sign_surgery_quintile\n",
      "con_max_consult_note_to_sign_vascular_surgery_quintile\n",
      "con_max_consult_note_to_sign_neurology_quintile\n",
      "con_max_consult_note_to_sign_hospitalist_service_quintile\n",
      "con_max_consult_note_to_sign_psychiatry_quintile\n",
      "con_max_consult_note_to_sign_internal_medicine_quintile\n",
      "con_max_consult_note_to_sign_neuro_oncology_quintile\n",
      "con_max_consult_note_to_sign_neurosurgery_quintile\n",
      "con_max_consult_note_to_sign_ophthalmology_quintile\n",
      "con_max_consult_note_to_sign_orthopedics_quintile\n",
      "con_max_consult_note_to_sign_physical_medicine_and_rehabilitation_quintile\n",
      "con_max_consult_note_to_sign_podiatry_quintile\n",
      "con_max_consult_note_to_sign_dermatology_quintile\n",
      "con_max_consult_note_to_sign_geriatrics_quintile\n",
      "con_max_consult_note_to_sign_addiction_medicine_quintile\n",
      "con_max_consult_note_to_sign_otolaryngology_ent_quintile\n",
      "con_max_consult_note_to_sign_icu_sdu_quintile\n",
      "con_max_consult_note_to_sign_trauma_quintile\n",
      "con_max_consult_note_to_sign_cardiothoracic_surgery_quintile\n",
      "con_max_consult_note_to_sign_rheumatology_quintile\n",
      "con_max_consult_note_to_sign_sw_quintile\n",
      "con_avg_consult_order_to_sign_colon_and_rectal_quintile\n",
      "con_avg_consult_order_to_sign_diabetes_quintile\n",
      "con_avg_consult_order_to_sign_hematology_quintile\n",
      "con_avg_consult_order_to_sign_infectious_disease_quintile\n",
      "con_avg_consult_order_to_sign_lab_medicine_quintile\n",
      "con_avg_consult_order_to_sign_nephrology_quintile\n",
      "con_avg_consult_order_to_sign_oncology_quintile\n",
      "con_avg_consult_order_to_sign_picc_quintile\n",
      "con_avg_consult_order_to_sign_palliative_quintile\n",
      "con_avg_consult_order_to_sign_pulmonology_quintile\n",
      "con_avg_consult_order_to_sign_radiation_oncology_quintile\n",
      "con_avg_consult_order_to_sign_radiology_quintile\n",
      "con_avg_consult_order_to_sign_urology_quintile\n",
      "con_avg_consult_order_to_sign_cardiology_quintile\n",
      "con_avg_consult_order_to_sign_gastroenterology_quintile\n",
      "con_avg_consult_order_to_sign_hepatology_quintile\n",
      "con_avg_consult_order_to_sign_other_quintile\n",
      "con_avg_consult_order_to_sign_pharmacy_quintile\n",
      "con_avg_consult_order_to_sign_plastic_surgery_quintile\n",
      "con_avg_consult_order_to_sign_surgery_quintile\n",
      "con_avg_consult_order_to_sign_vascular_surgery_quintile\n",
      "con_avg_consult_order_to_sign_neurology_quintile\n",
      "con_avg_consult_order_to_sign_hospitalist_service_quintile\n",
      "con_avg_consult_order_to_sign_psychiatry_quintile\n",
      "con_avg_consult_order_to_sign_internal_medicine_quintile\n",
      "con_avg_consult_order_to_sign_neuro_oncology_quintile\n",
      "con_avg_consult_order_to_sign_neurosurgery_quintile\n",
      "con_avg_consult_order_to_sign_ophthalmology_quintile\n",
      "con_avg_consult_order_to_sign_orthopedics_quintile\n",
      "con_avg_consult_order_to_sign_physical_medicine_and_rehabilitation_quintile\n",
      "con_avg_consult_order_to_sign_podiatry_quintile\n",
      "con_avg_consult_order_to_sign_dermatology_quintile\n",
      "con_avg_consult_order_to_sign_geriatrics_quintile\n",
      "con_avg_consult_order_to_sign_addiction_medicine_quintile\n",
      "con_avg_consult_order_to_sign_otolaryngology_ent_quintile\n",
      "con_avg_consult_order_to_sign_icu_sdu_quintile\n",
      "con_avg_consult_order_to_sign_trauma_quintile\n",
      "con_avg_consult_order_to_sign_cardiothoracic_surgery_quintile\n",
      "con_avg_consult_order_to_sign_rheumatology_quintile\n",
      "con_avg_consult_order_to_sign_sw_quintile\n",
      "con_avg_consult_note_to_sign_colon_and_rectal_quintile\n",
      "con_avg_consult_note_to_sign_diabetes_quintile\n",
      "con_avg_consult_note_to_sign_hematology_quintile\n",
      "con_avg_consult_note_to_sign_infectious_disease_quintile\n",
      "con_avg_consult_note_to_sign_lab_medicine_quintile\n",
      "con_avg_consult_note_to_sign_nephrology_quintile\n",
      "con_avg_consult_note_to_sign_oncology_quintile\n",
      "con_avg_consult_note_to_sign_picc_quintile\n",
      "con_avg_consult_note_to_sign_palliative_quintile\n",
      "con_avg_consult_note_to_sign_pulmonology_quintile\n",
      "con_avg_consult_note_to_sign_radiation_oncology_quintile\n",
      "con_avg_consult_note_to_sign_radiology_quintile\n",
      "con_avg_consult_note_to_sign_urology_quintile\n",
      "con_avg_consult_note_to_sign_cardiology_quintile\n",
      "con_avg_consult_note_to_sign_gastroenterology_quintile\n",
      "con_avg_consult_note_to_sign_hepatology_quintile\n",
      "con_avg_consult_note_to_sign_other_quintile\n",
      "con_avg_consult_note_to_sign_pharmacy_quintile\n",
      "con_avg_consult_note_to_sign_plastic_surgery_quintile\n",
      "con_avg_consult_note_to_sign_surgery_quintile\n",
      "con_avg_consult_note_to_sign_vascular_surgery_quintile\n",
      "con_avg_consult_note_to_sign_neurology_quintile\n",
      "con_avg_consult_note_to_sign_hospitalist_service_quintile\n",
      "con_avg_consult_note_to_sign_psychiatry_quintile\n",
      "con_avg_consult_note_to_sign_internal_medicine_quintile\n",
      "con_avg_consult_note_to_sign_neuro_oncology_quintile\n",
      "con_avg_consult_note_to_sign_neurosurgery_quintile\n",
      "con_avg_consult_note_to_sign_ophthalmology_quintile\n",
      "con_avg_consult_note_to_sign_orthopedics_quintile\n",
      "con_avg_consult_note_to_sign_physical_medicine_and_rehabilitation_quintile\n",
      "con_avg_consult_note_to_sign_podiatry_quintile\n",
      "con_avg_consult_note_to_sign_dermatology_quintile\n",
      "con_avg_consult_note_to_sign_geriatrics_quintile\n",
      "con_avg_consult_note_to_sign_addiction_medicine_quintile\n",
      "con_avg_consult_note_to_sign_otolaryngology_ent_quintile\n",
      "con_avg_consult_note_to_sign_icu_sdu_quintile\n",
      "con_avg_consult_note_to_sign_trauma_quintile\n",
      "con_avg_consult_note_to_sign_cardiothoracic_surgery_quintile\n",
      "con_avg_consult_note_to_sign_rheumatology_quintile\n",
      "con_avg_consult_note_to_sign_sw_quintile\n",
      "con_max_consult_order_to_sign_which\n",
      "con_max_consult_order_time\n",
      "con_max_consult_order_day\n",
      "con_max_date_note_signed_time1\n",
      "con_max_date_note_signed_day1\n",
      "con_max_consult_note_to_sign_which\n",
      "con_max_admit_order_to_consult_order_any_hrs\n",
      "con_avg_admit_order_to_consult_order_any_hrs\n",
      "con_max_admit_order_to_consult_order_any_quintile\n",
      "con_avg_admit_order_to_consult_order_any_quintile\n",
      "con_max_admit_order_to_consult_completion_any_hrs\n",
      "con_avg_admit_order_to_consult_completion_any_hrs\n",
      "con_max_admit_order_to_consult_completion_any_quintile\n",
      "con_avg_admit_order_to_consult_completion_any_quintile\n",
      "con_max_admit_order_to_consult_order_colon_and_rectal_hrs\n",
      "con_max_admit_order_to_consult_order_diabetes_hrs\n",
      "con_max_admit_order_to_consult_order_hematology_hrs\n",
      "con_max_admit_order_to_consult_order_infectious_disease_hrs\n",
      "con_max_admit_order_to_consult_order_lab_medicine_hrs\n",
      "con_max_admit_order_to_consult_order_nephrology_hrs\n",
      "con_max_admit_order_to_consult_order_oncology_hrs\n",
      "con_max_admit_order_to_consult_order_picc_hrs\n",
      "con_max_admit_order_to_consult_order_palliative_hrs\n",
      "con_max_admit_order_to_consult_order_pulmonology_hrs\n",
      "con_max_admit_order_to_consult_order_radiation_oncology_hrs\n",
      "con_max_admit_order_to_consult_order_radiology_hrs\n",
      "con_max_admit_order_to_consult_order_urology_hrs\n",
      "con_max_admit_order_to_consult_order_cardiology_hrs\n",
      "con_max_admit_order_to_consult_order_gastroenterology_hrs\n",
      "con_max_admit_order_to_consult_order_hepatology_hrs\n",
      "con_max_admit_order_to_consult_order_other_hrs\n",
      "con_max_admit_order_to_consult_order_pharmacy_hrs\n",
      "con_max_admit_order_to_consult_order_plastic_surgery_hrs\n",
      "con_max_admit_order_to_consult_order_surgery_hrs\n",
      "con_max_admit_order_to_consult_order_vascular_surgery_hrs\n",
      "con_max_admit_order_to_consult_order_neurology_hrs\n",
      "con_max_admit_order_to_consult_order_hospitalist_service_hrs\n",
      "con_max_admit_order_to_consult_order_psychiatry_hrs\n",
      "con_max_admit_order_to_consult_order_internal_medicine_hrs\n",
      "con_max_admit_order_to_consult_order_neuro_oncology_hrs\n",
      "con_max_admit_order_to_consult_order_neurosurgery_hrs\n",
      "con_max_admit_order_to_consult_order_ophthalmology_hrs\n",
      "con_max_admit_order_to_consult_order_orthopedics_hrs\n",
      "con_max_admit_order_to_consult_order_physical_medicine_and_rehabilitation_hrs\n",
      "con_max_admit_order_to_consult_order_podiatry_hrs\n",
      "con_max_admit_order_to_consult_order_dermatology_hrs\n",
      "con_max_admit_order_to_consult_order_geriatrics_hrs\n",
      "con_max_admit_order_to_consult_order_addiction_medicine_hrs\n",
      "con_max_admit_order_to_consult_order_otolaryngology_ent_hrs\n",
      "con_max_admit_order_to_consult_order_icu_sdu_hrs\n",
      "con_max_admit_order_to_consult_order_trauma_hrs\n",
      "con_max_admit_order_to_consult_order_cardiothoracic_surgery_hrs\n",
      "con_max_admit_order_to_consult_order_rheumatology_hrs\n",
      "con_max_admit_order_to_consult_order_sw_hrs\n",
      "con_max_admit_order_to_consult_order_colon_and_rectal_quintile\n",
      "con_max_admit_order_to_consult_order_diabetes_quintile\n",
      "con_max_admit_order_to_consult_order_hematology_quintile\n",
      "con_max_admit_order_to_consult_order_infectious_disease_quintile\n",
      "con_max_admit_order_to_consult_order_lab_medicine_quintile\n",
      "con_max_admit_order_to_consult_order_nephrology_quintile\n",
      "con_max_admit_order_to_consult_order_oncology_quintile\n",
      "con_max_admit_order_to_consult_order_picc_quintile\n",
      "con_max_admit_order_to_consult_order_palliative_quintile\n",
      "con_max_admit_order_to_consult_order_pulmonology_quintile\n",
      "con_max_admit_order_to_consult_order_radiation_oncology_quintile\n",
      "con_max_admit_order_to_consult_order_radiology_quintile\n",
      "con_max_admit_order_to_consult_order_urology_quintile\n",
      "con_max_admit_order_to_consult_order_cardiology_quintile\n",
      "con_max_admit_order_to_consult_order_gastroenterology_quintile\n",
      "con_max_admit_order_to_consult_order_hepatology_quintile\n",
      "con_max_admit_order_to_consult_order_other_quintile\n",
      "con_max_admit_order_to_consult_order_pharmacy_quintile\n",
      "con_max_admit_order_to_consult_order_plastic_surgery_quintile\n",
      "con_max_admit_order_to_consult_order_surgery_quintile\n",
      "con_max_admit_order_to_consult_order_vascular_surgery_quintile\n",
      "con_max_admit_order_to_consult_order_neurology_quintile\n",
      "con_max_admit_order_to_consult_order_hospitalist_service_quintile\n",
      "con_max_admit_order_to_consult_order_psychiatry_quintile\n",
      "con_max_admit_order_to_consult_order_internal_medicine_quintile\n",
      "con_max_admit_order_to_consult_order_neuro_oncology_quintile\n",
      "con_max_admit_order_to_consult_order_neurosurgery_quintile\n",
      "con_max_admit_order_to_consult_order_ophthalmology_quintile\n",
      "con_max_admit_order_to_consult_order_orthopedics_quintile\n",
      "con_max_admit_order_to_consult_order_physical_medicine_and_rehabilitation_quintile\n",
      "con_max_admit_order_to_consult_order_podiatry_quintile\n",
      "con_max_admit_order_to_consult_order_dermatology_quintile\n",
      "con_max_admit_order_to_consult_order_geriatrics_quintile\n",
      "con_max_admit_order_to_consult_order_addiction_medicine_quintile\n",
      "con_max_admit_order_to_consult_order_otolaryngology_ent_quintile\n",
      "con_max_admit_order_to_consult_order_icu_sdu_quintile\n",
      "con_max_admit_order_to_consult_order_trauma_quintile\n",
      "con_max_admit_order_to_consult_order_cardiothoracic_surgery_quintile\n",
      "con_max_admit_order_to_consult_order_rheumatology_quintile\n",
      "con_max_admit_order_to_consult_order_sw_quintile\n",
      "con_max_admit_order_to_consult_completion_colon_and_rectal_hrs\n",
      "con_max_admit_order_to_consult_completion_diabetes_hrs\n",
      "con_max_admit_order_to_consult_completion_hematology_hrs\n",
      "con_max_admit_order_to_consult_completion_infectious_disease_hrs\n",
      "con_max_admit_order_to_consult_completion_lab_medicine_hrs\n",
      "con_max_admit_order_to_consult_completion_nephrology_hrs\n",
      "con_max_admit_order_to_consult_completion_oncology_hrs\n",
      "con_max_admit_order_to_consult_completion_picc_hrs\n",
      "con_max_admit_order_to_consult_completion_palliative_hrs\n",
      "con_max_admit_order_to_consult_completion_pulmonology_hrs\n",
      "con_max_admit_order_to_consult_completion_radiation_oncology_hrs\n",
      "con_max_admit_order_to_consult_completion_radiology_hrs\n",
      "con_max_admit_order_to_consult_completion_urology_hrs\n",
      "con_max_admit_order_to_consult_completion_cardiology_hrs\n",
      "con_max_admit_order_to_consult_completion_gastroenterology_hrs\n",
      "con_max_admit_order_to_consult_completion_hepatology_hrs\n",
      "con_max_admit_order_to_consult_completion_other_hrs\n",
      "con_max_admit_order_to_consult_completion_pharmacy_hrs\n",
      "con_max_admit_order_to_consult_completion_plastic_surgery_hrs\n",
      "con_max_admit_order_to_consult_completion_surgery_hrs\n",
      "con_max_admit_order_to_consult_completion_vascular_surgery_hrs\n",
      "con_max_admit_order_to_consult_completion_neurology_hrs\n",
      "con_max_admit_order_to_consult_completion_hospitalist_service_hrs\n",
      "con_max_admit_order_to_consult_completion_psychiatry_hrs\n",
      "con_max_admit_order_to_consult_completion_internal_medicine_hrs\n",
      "con_max_admit_order_to_consult_completion_neuro_oncology_hrs\n",
      "con_max_admit_order_to_consult_completion_neurosurgery_hrs\n",
      "con_max_admit_order_to_consult_completion_ophthalmology_hrs\n",
      "con_max_admit_order_to_consult_completion_orthopedics_hrs\n",
      "con_max_admit_order_to_consult_completion_physical_medicine_and_rehabilitation_hrs\n",
      "con_max_admit_order_to_consult_completion_podiatry_hrs\n",
      "con_max_admit_order_to_consult_completion_dermatology_hrs\n",
      "con_max_admit_order_to_consult_completion_geriatrics_hrs\n",
      "con_max_admit_order_to_consult_completion_addiction_medicine_hrs\n",
      "con_max_admit_order_to_consult_completion_otolaryngology_ent_hrs\n",
      "con_max_admit_order_to_consult_completion_icu_sdu_hrs\n",
      "con_max_admit_order_to_consult_completion_trauma_hrs\n",
      "con_max_admit_order_to_consult_completion_cardiothoracic_surgery_hrs\n",
      "con_max_admit_order_to_consult_completion_rheumatology_hrs\n",
      "con_max_admit_order_to_consult_completion_sw_hrs\n",
      "con_max_admit_order_to_consult_completion_colon_and_rectal_quintile\n",
      "con_max_admit_order_to_consult_completion_diabetes_quintile\n",
      "con_max_admit_order_to_consult_completion_hematology_quintile\n",
      "con_max_admit_order_to_consult_completion_infectious_disease_quintile\n",
      "con_max_admit_order_to_consult_completion_lab_medicine_quintile\n",
      "con_max_admit_order_to_consult_completion_nephrology_quintile\n",
      "con_max_admit_order_to_consult_completion_oncology_quintile\n",
      "con_max_admit_order_to_consult_completion_picc_quintile\n",
      "con_max_admit_order_to_consult_completion_palliative_quintile\n",
      "con_max_admit_order_to_consult_completion_pulmonology_quintile\n",
      "con_max_admit_order_to_consult_completion_radiation_oncology_quintile\n",
      "con_max_admit_order_to_consult_completion_radiology_quintile\n",
      "con_max_admit_order_to_consult_completion_urology_quintile\n",
      "con_max_admit_order_to_consult_completion_cardiology_quintile\n",
      "con_max_admit_order_to_consult_completion_gastroenterology_quintile\n",
      "con_max_admit_order_to_consult_completion_hepatology_quintile\n",
      "con_max_admit_order_to_consult_completion_other_quintile\n",
      "con_max_admit_order_to_consult_completion_pharmacy_quintile\n",
      "con_max_admit_order_to_consult_completion_plastic_surgery_quintile\n",
      "con_max_admit_order_to_consult_completion_surgery_quintile\n",
      "con_max_admit_order_to_consult_completion_vascular_surgery_quintile\n",
      "con_max_admit_order_to_consult_completion_neurology_quintile\n",
      "con_max_admit_order_to_consult_completion_hospitalist_service_quintile\n",
      "con_max_admit_order_to_consult_completion_psychiatry_quintile\n",
      "con_max_admit_order_to_consult_completion_internal_medicine_quintile\n",
      "con_max_admit_order_to_consult_completion_neuro_oncology_quintile\n",
      "con_max_admit_order_to_consult_completion_neurosurgery_quintile\n",
      "con_max_admit_order_to_consult_completion_ophthalmology_quintile\n",
      "con_max_admit_order_to_consult_completion_orthopedics_quintile\n",
      "con_max_admit_order_to_consult_completion_physical_medicine_and_rehabilitation_quintile\n",
      "con_max_admit_order_to_consult_completion_podiatry_quintile\n",
      "con_max_admit_order_to_consult_completion_dermatology_quintile\n",
      "con_max_admit_order_to_consult_completion_geriatrics_quintile\n",
      "con_max_admit_order_to_consult_completion_addiction_medicine_quintile\n",
      "con_max_admit_order_to_consult_completion_otolaryngology_ent_quintile\n",
      "con_max_admit_order_to_consult_completion_icu_sdu_quintile\n",
      "con_max_admit_order_to_consult_completion_trauma_quintile\n",
      "con_max_admit_order_to_consult_completion_cardiothoracic_surgery_quintile\n",
      "con_max_admit_order_to_consult_completion_rheumatology_quintile\n",
      "con_max_admit_order_to_consult_completion_sw_quintile\n",
      "con_avg_admit_order_to_consult_order_colon_and_rectal_hrs\n",
      "con_avg_admit_order_to_consult_order_diabetes_hrs\n",
      "con_avg_admit_order_to_consult_order_hematology_hrs\n",
      "con_avg_admit_order_to_consult_order_infectious_disease_hrs\n",
      "con_avg_admit_order_to_consult_order_lab_medicine_hrs\n",
      "con_avg_admit_order_to_consult_order_nephrology_hrs\n",
      "con_avg_admit_order_to_consult_order_oncology_hrs\n",
      "con_avg_admit_order_to_consult_order_picc_hrs\n",
      "con_avg_admit_order_to_consult_order_palliative_hrs\n",
      "con_avg_admit_order_to_consult_order_pulmonology_hrs\n",
      "con_avg_admit_order_to_consult_order_radiation_oncology_hrs\n",
      "con_avg_admit_order_to_consult_order_radiology_hrs\n",
      "con_avg_admit_order_to_consult_order_urology_hrs\n",
      "con_avg_admit_order_to_consult_order_cardiology_hrs\n",
      "con_avg_admit_order_to_consult_order_gastroenterology_hrs\n",
      "con_avg_admit_order_to_consult_order_hepatology_hrs\n",
      "con_avg_admit_order_to_consult_order_other_hrs\n",
      "con_avg_admit_order_to_consult_order_pharmacy_hrs\n",
      "con_avg_admit_order_to_consult_order_plastic_surgery_hrs\n",
      "con_avg_admit_order_to_consult_order_surgery_hrs\n",
      "con_avg_admit_order_to_consult_order_vascular_surgery_hrs\n",
      "con_avg_admit_order_to_consult_order_neurology_hrs\n",
      "con_avg_admit_order_to_consult_order_hospitalist_service_hrs\n",
      "con_avg_admit_order_to_consult_order_psychiatry_hrs\n",
      "con_avg_admit_order_to_consult_order_internal_medicine_hrs\n",
      "con_avg_admit_order_to_consult_order_neuro_oncology_hrs\n",
      "con_avg_admit_order_to_consult_order_neurosurgery_hrs\n",
      "con_avg_admit_order_to_consult_order_ophthalmology_hrs\n",
      "con_avg_admit_order_to_consult_order_orthopedics_hrs\n",
      "con_avg_admit_order_to_consult_order_physical_medicine_and_rehabilitation_hrs\n",
      "con_avg_admit_order_to_consult_order_podiatry_hrs\n",
      "con_avg_admit_order_to_consult_order_dermatology_hrs\n",
      "con_avg_admit_order_to_consult_order_geriatrics_hrs\n",
      "con_avg_admit_order_to_consult_order_addiction_medicine_hrs\n",
      "con_avg_admit_order_to_consult_order_otolaryngology_ent_hrs\n",
      "con_avg_admit_order_to_consult_order_icu_sdu_hrs\n",
      "con_avg_admit_order_to_consult_order_trauma_hrs\n",
      "con_avg_admit_order_to_consult_order_cardiothoracic_surgery_hrs\n",
      "con_avg_admit_order_to_consult_order_rheumatology_hrs\n",
      "con_avg_admit_order_to_consult_order_sw_hrs\n",
      "con_avg_admit_order_to_consult_order_colon_and_rectal_quintile\n",
      "con_avg_admit_order_to_consult_order_diabetes_quintile\n",
      "con_avg_admit_order_to_consult_order_hematology_quintile\n",
      "con_avg_admit_order_to_consult_order_infectious_disease_quintile\n",
      "con_avg_admit_order_to_consult_order_lab_medicine_quintile\n",
      "con_avg_admit_order_to_consult_order_nephrology_quintile\n",
      "con_avg_admit_order_to_consult_order_oncology_quintile\n",
      "con_avg_admit_order_to_consult_order_picc_quintile\n",
      "con_avg_admit_order_to_consult_order_palliative_quintile\n",
      "con_avg_admit_order_to_consult_order_pulmonology_quintile\n",
      "con_avg_admit_order_to_consult_order_radiation_oncology_quintile\n",
      "con_avg_admit_order_to_consult_order_radiology_quintile\n",
      "con_avg_admit_order_to_consult_order_urology_quintile\n",
      "con_avg_admit_order_to_consult_order_cardiology_quintile\n",
      "con_avg_admit_order_to_consult_order_gastroenterology_quintile\n",
      "con_avg_admit_order_to_consult_order_hepatology_quintile\n",
      "con_avg_admit_order_to_consult_order_other_quintile\n",
      "con_avg_admit_order_to_consult_order_pharmacy_quintile\n",
      "con_avg_admit_order_to_consult_order_plastic_surgery_quintile\n",
      "con_avg_admit_order_to_consult_order_surgery_quintile\n",
      "con_avg_admit_order_to_consult_order_vascular_surgery_quintile\n",
      "con_avg_admit_order_to_consult_order_neurology_quintile\n",
      "con_avg_admit_order_to_consult_order_hospitalist_service_quintile\n",
      "con_avg_admit_order_to_consult_order_psychiatry_quintile\n",
      "con_avg_admit_order_to_consult_order_internal_medicine_quintile\n",
      "con_avg_admit_order_to_consult_order_neuro_oncology_quintile\n",
      "con_avg_admit_order_to_consult_order_neurosurgery_quintile\n",
      "con_avg_admit_order_to_consult_order_ophthalmology_quintile\n",
      "con_avg_admit_order_to_consult_order_orthopedics_quintile\n",
      "con_avg_admit_order_to_consult_order_physical_medicine_and_rehabilitation_quintile\n",
      "con_avg_admit_order_to_consult_order_podiatry_quintile\n",
      "con_avg_admit_order_to_consult_order_dermatology_quintile\n",
      "con_avg_admit_order_to_consult_order_geriatrics_quintile\n",
      "con_avg_admit_order_to_consult_order_addiction_medicine_quintile\n",
      "con_avg_admit_order_to_consult_order_otolaryngology_ent_quintile\n",
      "con_avg_admit_order_to_consult_order_icu_sdu_quintile\n",
      "con_avg_admit_order_to_consult_order_trauma_quintile\n",
      "con_avg_admit_order_to_consult_order_cardiothoracic_surgery_quintile\n",
      "con_avg_admit_order_to_consult_order_rheumatology_quintile\n",
      "con_avg_admit_order_to_consult_order_sw_quintile\n",
      "con_avg_admit_order_to_consult_completion_colon_and_rectal_hrs\n",
      "con_avg_admit_order_to_consult_completion_diabetes_hrs\n",
      "con_avg_admit_order_to_consult_completion_hematology_hrs\n",
      "con_avg_admit_order_to_consult_completion_infectious_disease_hrs\n",
      "con_avg_admit_order_to_consult_completion_lab_medicine_hrs\n",
      "con_avg_admit_order_to_consult_completion_nephrology_hrs\n",
      "con_avg_admit_order_to_consult_completion_oncology_hrs\n",
      "con_avg_admit_order_to_consult_completion_picc_hrs\n",
      "con_avg_admit_order_to_consult_completion_palliative_hrs\n",
      "con_avg_admit_order_to_consult_completion_pulmonology_hrs\n",
      "con_avg_admit_order_to_consult_completion_radiation_oncology_hrs\n",
      "con_avg_admit_order_to_consult_completion_radiology_hrs\n",
      "con_avg_admit_order_to_consult_completion_urology_hrs\n",
      "con_avg_admit_order_to_consult_completion_cardiology_hrs\n",
      "con_avg_admit_order_to_consult_completion_gastroenterology_hrs\n",
      "con_avg_admit_order_to_consult_completion_hepatology_hrs\n",
      "con_avg_admit_order_to_consult_completion_other_hrs\n",
      "con_avg_admit_order_to_consult_completion_pharmacy_hrs\n",
      "con_avg_admit_order_to_consult_completion_plastic_surgery_hrs\n",
      "con_avg_admit_order_to_consult_completion_surgery_hrs\n",
      "con_avg_admit_order_to_consult_completion_vascular_surgery_hrs\n",
      "con_avg_admit_order_to_consult_completion_neurology_hrs\n",
      "con_avg_admit_order_to_consult_completion_hospitalist_service_hrs\n",
      "con_avg_admit_order_to_consult_completion_psychiatry_hrs\n",
      "con_avg_admit_order_to_consult_completion_internal_medicine_hrs\n",
      "con_avg_admit_order_to_consult_completion_neuro_oncology_hrs\n",
      "con_avg_admit_order_to_consult_completion_neurosurgery_hrs\n",
      "con_avg_admit_order_to_consult_completion_ophthalmology_hrs\n",
      "con_avg_admit_order_to_consult_completion_orthopedics_hrs\n",
      "con_avg_admit_order_to_consult_completion_physical_medicine_and_rehabilitation_hrs\n",
      "con_avg_admit_order_to_consult_completion_podiatry_hrs\n",
      "con_avg_admit_order_to_consult_completion_dermatology_hrs\n",
      "con_avg_admit_order_to_consult_completion_geriatrics_hrs\n",
      "con_avg_admit_order_to_consult_completion_addiction_medicine_hrs\n",
      "con_avg_admit_order_to_consult_completion_otolaryngology_ent_hrs\n",
      "con_avg_admit_order_to_consult_completion_icu_sdu_hrs\n",
      "con_avg_admit_order_to_consult_completion_trauma_hrs\n",
      "con_avg_admit_order_to_consult_completion_cardiothoracic_surgery_hrs\n",
      "con_avg_admit_order_to_consult_completion_rheumatology_hrs\n",
      "con_avg_admit_order_to_consult_completion_sw_hrs\n",
      "con_avg_admit_order_to_consult_completion_colon_and_rectal_quintile\n",
      "con_avg_admit_order_to_consult_completion_diabetes_quintile\n",
      "con_avg_admit_order_to_consult_completion_hematology_quintile\n",
      "con_avg_admit_order_to_consult_completion_infectious_disease_quintile\n",
      "con_avg_admit_order_to_consult_completion_lab_medicine_quintile\n",
      "con_avg_admit_order_to_consult_completion_nephrology_quintile\n",
      "con_avg_admit_order_to_consult_completion_oncology_quintile\n",
      "con_avg_admit_order_to_consult_completion_picc_quintile\n",
      "con_avg_admit_order_to_consult_completion_palliative_quintile\n",
      "con_avg_admit_order_to_consult_completion_pulmonology_quintile\n",
      "con_avg_admit_order_to_consult_completion_radiation_oncology_quintile\n",
      "con_avg_admit_order_to_consult_completion_radiology_quintile\n",
      "con_avg_admit_order_to_consult_completion_urology_quintile\n",
      "con_avg_admit_order_to_consult_completion_cardiology_quintile\n",
      "con_avg_admit_order_to_consult_completion_gastroenterology_quintile\n",
      "con_avg_admit_order_to_consult_completion_hepatology_quintile\n",
      "con_avg_admit_order_to_consult_completion_other_quintile\n",
      "con_avg_admit_order_to_consult_completion_pharmacy_quintile\n",
      "con_avg_admit_order_to_consult_completion_plastic_surgery_quintile\n",
      "con_avg_admit_order_to_consult_completion_surgery_quintile\n",
      "con_avg_admit_order_to_consult_completion_vascular_surgery_quintile\n",
      "con_avg_admit_order_to_consult_completion_neurology_quintile\n",
      "con_avg_admit_order_to_consult_completion_hospitalist_service_quintile\n",
      "con_avg_admit_order_to_consult_completion_psychiatry_quintile\n",
      "con_avg_admit_order_to_consult_completion_internal_medicine_quintile\n",
      "con_avg_admit_order_to_consult_completion_neuro_oncology_quintile\n",
      "con_avg_admit_order_to_consult_completion_neurosurgery_quintile\n",
      "con_avg_admit_order_to_consult_completion_ophthalmology_quintile\n",
      "con_avg_admit_order_to_consult_completion_orthopedics_quintile\n",
      "con_avg_admit_order_to_consult_completion_physical_medicine_and_rehabilitation_quintile\n",
      "con_avg_admit_order_to_consult_completion_podiatry_quintile\n",
      "con_avg_admit_order_to_consult_completion_dermatology_quintile\n",
      "con_avg_admit_order_to_consult_completion_geriatrics_quintile\n",
      "con_avg_admit_order_to_consult_completion_addiction_medicine_quintile\n",
      "con_avg_admit_order_to_consult_completion_otolaryngology_ent_quintile\n",
      "con_avg_admit_order_to_consult_completion_icu_sdu_quintile\n",
      "con_avg_admit_order_to_consult_completion_trauma_quintile\n",
      "con_avg_admit_order_to_consult_completion_cardiothoracic_surgery_quintile\n",
      "con_avg_admit_order_to_consult_completion_rheumatology_quintile\n",
      "con_avg_admit_order_to_consult_completion_sw_quintile\n",
      "con_unique_services_which\n",
      "con_unique_services_which2\n",
      "img_max_order_to_completion_any_hrs\n",
      "img_max_order_to_read_any_hrs\n",
      "img_avg_order_to_completion_any_hrs\n",
      "img_avg_order_to_read_any_hrs\n",
      "img_max_order_to_completion_any_quintile\n",
      "img_max_order_to_read_any_quintile\n",
      "img_avg_order_to_completion_any_quintile\n",
      "img_avg_order_to_read_any_quintile\n",
      "img_max_order_to_completion_ct_hrs\n",
      "img_max_order_to_completion_mr_hrs\n",
      "img_max_order_to_completion_us_hrs\n",
      "img_max_order_to_read_ct_hrs\n",
      "img_max_order_to_read_mr_hrs\n",
      "img_max_order_to_read_us_hrs\n",
      "img_avg_order_to_completion_ct_hrs\n",
      "img_avg_order_to_completion_mr_hrs\n",
      "img_avg_order_to_completion_us_hrs\n",
      "img_avg_order_to_read_ct_hrs\n",
      "img_avg_order_to_read_mr_hrs\n",
      "img_avg_order_to_read_us_hrs\n",
      "img_max_order_to_completion_ct_quintile2\n",
      "img_max_order_to_completion_mr_quintile3\n",
      "img_max_order_to_completion_us_quintile5\n",
      "img_max_order_to_completion_ct_quintile1\n",
      "img_max_order_to_completion_us_quintile2\n",
      "img_max_order_to_completion_ct_quintile5\n",
      "img_max_order_to_completion_us_quintile4\n",
      "img_max_order_to_completion_ct_quintile3\n",
      "img_max_order_to_completion_us_quintile1\n",
      "img_max_order_to_completion_mr_quintile5\n",
      "img_max_order_to_completion_ct_quintile4\n",
      "img_max_order_to_completion_us_quintile3\n",
      "img_max_order_to_completion_mr_quintile2\n",
      "img_max_order_to_completion_mr_quintile4\n",
      "img_max_order_to_completion_mr_quintile1\n",
      "img_max_order_to_read_ct_quintile\n",
      "img_max_order_to_read_mr_quintile\n",
      "img_max_order_to_read_us_quintile\n",
      "img_avg_order_to_completion_ct_quintile\n",
      "img_avg_order_to_completion_mr_quintile\n",
      "img_avg_order_to_completion_us_quintile\n",
      "img_avg_order_to_read_ct_quintile\n",
      "img_avg_order_to_read_mr_quintile\n",
      "img_avg_order_to_read_us_quintile\n",
      "img_max_admit_order_to_imaging_order_any_hrs\n",
      "img_max_admit_order_to_imaging_read_any_hrs\n",
      "img_avg_admit_order_to_imaging_order_any_hrs\n",
      "img_avg_admit_order_to_imaging_read_any_hrs\n",
      "img_max_admit_order_to_imaging_order_any_quintile\n",
      "img_max_admit_order_to_imaging_read_any_quintile\n",
      "img_avg_admit_order_to_imaging_order_any_quintile\n",
      "img_avg_admit_order_to_imaging_read_any_quintile\n",
      "img_max_admit_order_to_imaging_order_ct_hrs\n",
      "img_max_admit_order_to_imaging_order_mr_hrs\n",
      "img_max_admit_order_to_imaging_order_us_hrs\n",
      "img_max_admit_order_to_imaging_order_ct_quintile5\n",
      "img_max_admit_order_to_imaging_order_mr_quintile5\n",
      "img_max_admit_order_to_imaging_order_us_quintile5\n",
      "img_max_admit_order_to_imaging_order_ct_quintile2\n",
      "img_max_admit_order_to_imaging_order_us_quintile4\n",
      "img_max_admit_order_to_imaging_order_ct_quintile3\n",
      "img_max_admit_order_to_imaging_order_ct_quintile4\n",
      "img_max_admit_order_to_imaging_order_us_quintile3\n",
      "img_max_admit_order_to_imaging_order_ct_quintile1\n",
      "img_max_admit_order_to_imaging_order_us_quintile1\n",
      "img_max_admit_order_to_imaging_order_mr_quintile3\n",
      "img_max_admit_order_to_imaging_order_mr_quintile1\n",
      "img_max_admit_order_to_imaging_order_us_quintile2\n",
      "img_max_admit_order_to_imaging_order_mr_quintile4\n",
      "img_max_admit_order_to_imaging_order_us_quintileNA\n",
      "img_max_admit_order_to_imaging_order_ct_quintileNA\n",
      "img_max_admit_order_to_imaging_order_mr_quintile2\n",
      "img_max_admit_order_to_imaging_order_mr_quintileNA\n",
      "img_max_admit_order_to_imaging_read_ct_hrs\n",
      "img_max_admit_order_to_imaging_read_mr_hrs\n",
      "img_max_admit_order_to_imaging_read_us_hrs\n",
      "img_max_admit_order_to_imaging_read_ct_quintile\n",
      "img_max_admit_order_to_imaging_read_mr_quintile\n",
      "img_max_admit_order_to_imaging_read_us_quintile\n",
      "img_avg_admit_order_to_imaging_order_ct_hrs\n",
      "img_avg_admit_order_to_imaging_order_mr_hrs\n",
      "img_avg_admit_order_to_imaging_order_us_hrs\n",
      "img_avg_admit_order_to_imaging_order_ct_quintile\n",
      "img_avg_admit_order_to_imaging_order_mr_quintile\n",
      "img_avg_admit_order_to_imaging_order_us_quintile\n",
      "img_avg_admit_order_to_imaging_read_ct_hrs\n",
      "img_avg_admit_order_to_imaging_read_mr_hrs\n",
      "img_avg_admit_order_to_imaging_read_us_hrs\n",
      "img_avg_admit_order_to_imaging_read_ct_quintile\n",
      "img_avg_admit_order_to_imaging_read_mr_quintile\n",
      "img_avg_admit_order_to_imaging_read_us_quintile\n",
      "imaging_order_before_consult_order\n",
      "consult_order_before_imaging_order\n",
      "ed_arrival_time\n",
      "ed_arrival_hour\n",
      "ed_arrival_date\n"
     ]
    }
   ],
   "source": [
    "miss_df = pd.DataFrame(X_train_preprocessed.isna().sum()).rename({0:'count_na'}, axis=1)\n",
    "for var in miss_df[miss_df['count_na']>0].index:\n",
    "    print(var)"
   ]
  },
  {
   "cell_type": "code",
   "execution_count": 20,
   "id": "734fc06c-a888-42f5-b1dc-eaad30d5affa",
   "metadata": {},
   "outputs": [
    {
     "data": {
      "text/plain": [
       "admissiondate                          0\n",
       "dischargedate                          0\n",
       "viz_primary_payer_name               207\n",
       "viz_age                                0\n",
       "viz_race                               0\n",
       "                                    ... \n",
       "con_max_date_note_signed_day2_Sun      0\n",
       "con_max_date_note_signed_day2_Thu      0\n",
       "con_max_date_note_signed_day2_Fri      0\n",
       "viz_gender_Female                      0\n",
       "viz_gender_Male                        0\n",
       "Length: 1085, dtype: int64"
      ]
     },
     "execution_count": 20,
     "metadata": {},
     "output_type": "execute_result"
    }
   ],
   "source": [
    "X_train_preprocessed.isna().sum()"
   ]
  },
  {
   "cell_type": "code",
   "execution_count": null,
   "id": "1a6460a5-8160-4240-999f-83b16dae8282",
   "metadata": {
    "papermill": {
     "duration": 0.012222,
     "end_time": "2024-07-25T22:32:39.620192",
     "exception": false,
     "start_time": "2024-07-25T22:32:39.607970",
     "status": "completed"
    },
    "tags": []
   },
   "outputs": [],
   "source": [
    "X_train_preprocessed.shape"
   ]
  },
  {
   "cell_type": "markdown",
   "id": "4f5bde03-d7a4-439f-8376-dcd2a4ef6b5a",
   "metadata": {
    "papermill": {
     "duration": 0.006505,
     "end_time": "2024-07-25T22:32:39.633584",
     "exception": false,
     "start_time": "2024-07-25T22:32:39.627079",
     "status": "completed"
    },
    "tags": []
   },
   "source": [
    "### Feature Selection"
   ]
  },
  {
   "cell_type": "code",
   "execution_count": null,
   "id": "c41bd244-6601-481f-9d53-f495d13e438b",
   "metadata": {
    "papermill": {
     "duration": 0.011529,
     "end_time": "2024-07-25T22:32:39.651696",
     "exception": false,
     "start_time": "2024-07-25T22:32:39.640167",
     "status": "completed"
    },
    "tags": []
   },
   "outputs": [],
   "source": [
    "# 1st Feature Selection pipeline\n",
    "feature_selection_pipeline = Pipeline(steps=[\n",
    "\n",
    "        ('drop_constant', DropConstantFeatures(tol=0.99)),\n",
    "\n",
    "        ('drop_duplicates', DropDuplicateFeatures()),\n",
    "\n",
    "        ('correlated_features', SmartCorrelatedSelection(\n",
    "        method='pearson',\n",
    "        threshold=0.9,\n",
    "        selection_method='model_performance',\n",
    "        estimator=xgb.XGBClassifier(random_state=0)\n",
    "        ))\n",
    "])"
   ]
  },
  {
   "cell_type": "markdown",
   "id": "c3dd9219-8c59-490b-84ff-f410a05bc4de",
   "metadata": {
    "papermill": {
     "duration": 0.00684,
     "end_time": "2024-07-25T22:32:39.665346",
     "exception": false,
     "start_time": "2024-07-25T22:32:39.658506",
     "status": "completed"
    },
    "tags": []
   },
   "source": [
    "### XGB Model"
   ]
  },
  {
   "cell_type": "code",
   "execution_count": null,
   "id": "cadc9282-1568-439b-bad2-cd74f7abf5d2",
   "metadata": {},
   "outputs": [],
   "source": []
  },
  {
   "cell_type": "code",
   "execution_count": null,
   "id": "e4d9cfa6-44f6-4d1f-8c6b-ea0ff66fbb84",
   "metadata": {},
   "outputs": [],
   "source": [
    "\n",
    "    "
   ]
  },
  {
   "cell_type": "code",
   "execution_count": null,
   "id": "f1b6f8d9-6777-4269-81b4-300e41ed3278",
   "metadata": {},
   "outputs": [],
   "source": [
    "miss_df[miss_df['count_na']>0]"
   ]
  },
  {
   "cell_type": "code",
   "execution_count": null,
   "id": "b6701fe2-ccda-429c-be00-fff40a0dc7b5",
   "metadata": {
    "papermill": {
     "duration": 7.447483,
     "end_time": "2024-07-25T22:32:47.119503",
     "exception": false,
     "start_time": "2024-07-25T22:32:39.672020",
     "status": "completed"
    },
    "tags": []
   },
   "outputs": [],
   "source": [
    "# Apply the pipeline\n",
    "X_train_selected = feature_selection_pipeline.fit_transform(X_train_preprocessed, y_train)\n",
    "X_val_selected = feature_selection_pipeline.transform(X_val_preprocessed)"
   ]
  },
  {
   "cell_type": "code",
   "execution_count": null,
   "id": "8b451525-6a34-4181-bf02-3d5905ac5913",
   "metadata": {
    "papermill": {
     "duration": 0.012621,
     "end_time": "2024-07-25T22:32:47.140573",
     "exception": false,
     "start_time": "2024-07-25T22:32:47.127952",
     "status": "completed"
    },
    "tags": []
   },
   "outputs": [],
   "source": [
    "X_train_selected.shape"
   ]
  },
  {
   "cell_type": "code",
   "execution_count": null,
   "id": "d79c0383-e9bf-49c1-889c-5b82afe84757",
   "metadata": {
    "papermill": {
     "duration": 0.012325,
     "end_time": "2024-07-25T22:32:47.159756",
     "exception": false,
     "start_time": "2024-07-25T22:32:47.147431",
     "status": "completed"
    },
    "tags": []
   },
   "outputs": [],
   "source": [
    "y_train['viz_outcome_prolonged_los_yn'].sum()/y_train.shape[0]"
   ]
  },
  {
   "cell_type": "code",
   "execution_count": null,
   "id": "418bb38d-8282-44fe-b86f-09e61eb25408",
   "metadata": {},
   "outputs": [],
   "source": [
    "from sklearn.metrics import make_scorer, roc_auc_score\n",
    "from sklearn.model_selection import cross_val_score, StratifiedKFold"
   ]
  },
  {
   "cell_type": "code",
   "execution_count": null,
   "id": "792af0ef-e17e-4989-a2eb-3477e3840008",
   "metadata": {},
   "outputs": [],
   "source": [
    "#X_train_selected.to_csv(\"../data/pipeline/X_train_selected.csv\", index=False)"
   ]
  },
  {
   "cell_type": "code",
   "execution_count": null,
   "id": "cefbc1fc-1f72-455b-9272-1c92aa80c570",
   "metadata": {},
   "outputs": [],
   "source": [
    "X_train_selected2 = pd.read_csv(\"../data/pipeline/X_train_selected.csv\")"
   ]
  },
  {
   "cell_type": "code",
   "execution_count": null,
   "id": "956077e4-e832-444f-9f21-c414f93851c3",
   "metadata": {},
   "outputs": [],
   "source": [
    "# Choose best hyperparameters\n",
    "def objective_function_xgb_1b(params, X_train, y_train):\n",
    "    clf = xgb.XGBClassifier(**params)\n",
    "    auc_scorer = make_scorer(roc_auc_score)\n",
    "    score = cross_val_score(clf, X_train, y_train, cv=5, scoring='roc_auc', error_score='raise').mean()\n",
    "    return {'loss': -score, 'status': STATUS_OK}\n",
    "\n",
    "space_xgb= {\n",
    "    'learning_rate': hp.loguniform('learning_rate', np.log(0.01), np.log(1)),\n",
    "    'max_depth': hp.choice('max_depth', np.arange(5, 15+1, dtype=int)),\n",
    "    'n_estimators': hp.choice('n_estimators', np.arange(5, 35+1, dtype=int)),\n",
    "    'num_leaves': hp.choice('num_leaves', np.arange(5, 50+1, dtype=int)),\n",
    "    'colsample_bytree': hp.uniform('colsample_by_tree', 0.6, 1.0),\n",
    "    'reg_lambda': hp.uniform('reg_lambda', 0.0, 1.0),\n",
    "}\n",
    "\n",
    "def run_xgb_tune_fit_1b(X_train, y_train, num_eval):\n",
    "    trials = Trials()\n",
    "    best_params = fmin(fn=lambda params: objective_function_xgb_1b(params, X_train, y_train),\n",
    "                       space=space_xgb, algo=tpe.suggest, verbose=4, max_evals=num_eval, trials=trials,\n",
    "                       rstate= np.random.default_rng(0))\n",
    "\n",
    "    best_params['max_depth'] = list(np.arange(5, 15+1, dtype=int))[best_params['max_depth']]\n",
    "    best_params['n_estimators'] = list(np.arange(5, 35+1, dtype=int))[best_params['n_estimators']]\n",
    "    best_params['num_leaves'] = list(np.arange(5, 50+1, dtype=int))[best_params['num_leaves']]\n",
    "    \n",
    "    best_xgb_model = xgb.XGBClassifier(**best_params)\n",
    "    print(f\"XGB Best parameters for {len(X_train.columns)} features: {best_params}\")\n",
    "    best_xgb_model.fit(X_train, y_train)\n",
    "    return best_xgb_model"
   ]
  },
  {
   "cell_type": "code",
   "execution_count": null,
   "id": "eb3abad7-016b-4365-a6e5-a43ebfbb3ad7",
   "metadata": {},
   "outputs": [],
   "source": [
    "# Evaluate model performance including auc, accuracy, etc\n",
    "def evaluate_model(model, X_test, y_test):\n",
    "    predictions = model.predict(X_test)\n",
    "    probabilities = model.predict_proba(X_test)[:, 1]\n",
    "    auc_score = roc_auc_score(y_test, probabilities)\n",
    "    accuracy = accuracy_score(y_test, predictions)\n",
    "\n",
    "    fpr, tpr, _ = roc_curve(y_test, probabilities)\n",
    "    precision, recall, _ = precision_recall_curve(y_test, probabilities)\n",
    "    pr_auc_score = auc(recall, precision)\n",
    "\n",
    "    return {\n",
    "        'y_test': y_test,\n",
    "        'predictions': predictions,\n",
    "        'probabilities': probabilities,\n",
    "        'auc_score': auc_score,\n",
    "        'accuracy': accuracy,\n",
    "        'fpr': fpr,\n",
    "        'tpr': tpr,\n",
    "        'precision': precision,\n",
    "        'recall': recall,\n",
    "        'pr_auc_score': pr_auc_score\n",
    "    }\n"
   ]
  },
  {
   "cell_type": "code",
   "execution_count": null,
   "id": "1327fd1a-4c34-4b8d-94f3-b9446e1ed1aa",
   "metadata": {},
   "outputs": [],
   "source": [
    "binary_list"
   ]
  },
  {
   "cell_type": "code",
   "execution_count": null,
   "id": "246624b4-bef9-44f8-b87e-6676e41249e1",
   "metadata": {},
   "outputs": [],
   "source": [
    "X_train_selected[\"thro_boarding_yn\"].value_counts()"
   ]
  },
  {
   "cell_type": "code",
   "execution_count": null,
   "id": "d132f631-7c0b-4e21-b19f-4a546385c93c",
   "metadata": {},
   "outputs": [],
   "source": [
    "X_train_selected2[\"thro_boarding_yn\"].value_counts()"
   ]
  },
  {
   "cell_type": "code",
   "execution_count": null,
   "id": "921c5717-22ca-4a21-92b7-ab47edb529ec",
   "metadata": {},
   "outputs": [],
   "source": [
    "model_xgb = run_xgb_tune_fit_1b(X_train_selected, y_train, num_eval=20)"
   ]
  },
  {
   "cell_type": "code",
   "execution_count": null,
   "id": "7c69b927-e9db-4ded-89aa-8a218d92a70f",
   "metadata": {},
   "outputs": [],
   "source": []
  },
  {
   "cell_type": "code",
   "execution_count": null,
   "id": "4bdc197a-6cde-4e03-99ef-94aaa709b34e",
   "metadata": {
    "papermill": {
     "duration": 0.011045,
     "end_time": "2024-07-25T22:32:47.177764",
     "exception": false,
     "start_time": "2024-07-25T22:32:47.166719",
     "status": "completed"
    },
    "tags": []
   },
   "outputs": [],
   "source": [
    "estimators = [\n",
    "    ('encoder', TargetEncoder()),\n",
    "    ('clf', XGBClassifier(random_state=8, verbosity=1))\n",
    "]\n",
    "\n",
    "tuning_pipeline = Pipeline(steps=estimators)"
   ]
  },
  {
   "cell_type": "code",
   "execution_count": null,
   "id": "93ee0d43-79bf-4e32-8163-8583df595df2",
   "metadata": {
    "papermill": {
     "duration": 0.017502,
     "end_time": "2024-07-25T22:32:47.202235",
     "exception": false,
     "start_time": "2024-07-25T22:32:47.184733",
     "status": "completed"
    },
    "tags": []
   },
   "outputs": [],
   "source": [
    "search_space = {\n",
    "    'clf__max_depth': Integer(2,8),\n",
    "    'clf__learning_rate': Real(0.001, 1.0, prior='log-uniform'),\n",
    "    'clf__subsample': Real(0.5, 1.0),\n",
    "    'clf__colsample_bytree': Real(0.5, 1.0),\n",
    "    'clf__colsample_bylevel': Real(0.5, 1.0),\n",
    "    'clf__colsample_bynode' : Real(0.5, 1.0),\n",
    "    'clf__reg_alpha': Real(0.0, 10.0),\n",
    "    'clf__reg_lambda': Real(0.0, 10.0),\n",
    "    'clf__gamma': Real(0.0, 10.0)\n",
    "}\n",
    "\n",
    "model_xgb = BayesSearchCV(tuning_pipeline, search_space, cv=3, n_iter=10, scoring='roc_auc', random_state=8) "
   ]
  },
  {
   "cell_type": "code",
   "execution_count": null,
   "id": "6e948f60-8044-48c4-9455-5ba38ec5651f",
   "metadata": {
    "papermill": {
     "duration": 0.01103,
     "end_time": "2024-07-25T22:32:47.220346",
     "exception": false,
     "start_time": "2024-07-25T22:32:47.209316",
     "status": "completed"
    },
    "tags": []
   },
   "outputs": [],
   "source": [
    "y_train = y_train.set_index('pat_enc_csn_id')"
   ]
  },
  {
   "cell_type": "code",
   "execution_count": null,
   "id": "30b5a57d-490a-400a-9c4c-0bc24b808e70",
   "metadata": {
    "papermill": {
     "duration": 10.290215,
     "end_time": "2024-07-25T22:32:57.517412",
     "exception": false,
     "start_time": "2024-07-25T22:32:47.227197",
     "status": "completed"
    },
    "tags": []
   },
   "outputs": [],
   "source": [
    "model_xgb.fit(X_train_selected,  y_train)"
   ]
  },
  {
   "cell_type": "code",
   "execution_count": null,
   "id": "d5c467ee-bf69-49df-88f7-d3fc850760f3",
   "metadata": {
    "papermill": {
     "duration": 0.023572,
     "end_time": "2024-07-25T22:32:57.551669",
     "exception": false,
     "start_time": "2024-07-25T22:32:57.528097",
     "status": "completed"
    },
    "tags": []
   },
   "outputs": [],
   "source": [
    "model_xgb.best_estimator_"
   ]
  },
  {
   "cell_type": "code",
   "execution_count": null,
   "id": "5af239d4-9fcb-4497-bef5-503ebab0a004",
   "metadata": {
    "papermill": {
     "duration": 0.011966,
     "end_time": "2024-07-25T22:32:57.571172",
     "exception": false,
     "start_time": "2024-07-25T22:32:57.559206",
     "status": "completed"
    },
    "tags": []
   },
   "outputs": [],
   "source": [
    "model_xgb.best_score_"
   ]
  },
  {
   "cell_type": "code",
   "execution_count": null,
   "id": "155f881e-e715-42fb-9cdb-047eff5b7f51",
   "metadata": {
    "papermill": {
     "duration": 0.012012,
     "end_time": "2024-07-25T22:32:57.590730",
     "exception": false,
     "start_time": "2024-07-25T22:32:57.578718",
     "status": "completed"
    },
    "tags": []
   },
   "outputs": [],
   "source": [
    "y_val = y_val.set_index('pat_enc_csn_id')"
   ]
  },
  {
   "cell_type": "code",
   "execution_count": null,
   "id": "b4a2356b-7a3a-409a-a70c-9aee0253c469",
   "metadata": {
    "papermill": {
     "duration": 0.071452,
     "end_time": "2024-07-25T22:32:57.669686",
     "exception": false,
     "start_time": "2024-07-25T22:32:57.598234",
     "status": "completed"
    },
    "tags": []
   },
   "outputs": [],
   "source": [
    "#Column 1 and Column 2 are the probabilities that the label is 0 or 1 \n",
    "y_probs = model_xgb.predict_proba(X_val_selected)\n",
    "y_pred = model_xgb.predict(X_val_selected)\n",
    "#Only select the positive class\n",
    "y_probs_positive = y_probs[:,1]\n",
    "y_test = y_val['viz_outcome_prolonged_los_yn']"
   ]
  },
  {
   "cell_type": "code",
   "execution_count": null,
   "id": "2025a4cc-c996-4c07-b969-765bc81eb4e7",
   "metadata": {
    "papermill": {
     "duration": 0.015378,
     "end_time": "2024-07-25T22:32:57.692728",
     "exception": false,
     "start_time": "2024-07-25T22:32:57.677350",
     "status": "completed"
    },
    "tags": []
   },
   "outputs": [],
   "source": [
    "\n",
    "def plot_metrics(y_test, y_probs_positive):\n",
    "    fig, axes = plt.subplots(3, 1, figsize=(10, 18))  # 3 rows x 1 column\n",
    "\n",
    "    # Plot ROC Curve\n",
    "    fpr, tpr, _ = roc_curve(y_test, y_probs_positive)\n",
    "    roc_auc = auc(fpr, tpr)\n",
    "    axes[0].plot(fpr, tpr, label=f'AUC = {roc_auc:.2f}')\n",
    "    axes[0].plot([0, 1], [0, 1], 'k--', lw=2)\n",
    "    axes[0].set_xlabel('False Positive Rate')\n",
    "    axes[0].set_ylabel('True Positive Rate')\n",
    "    axes[0].set_title('ROC Curve')\n",
    "    axes[0].legend()\n",
    "\n",
    "    # Plot PR Curve\n",
    "    precision, recall, _ = precision_recall_curve(y_test, y_probs_positive)\n",
    "    pr_auc = auc(recall, precision)\n",
    "    axes[1].plot(recall, precision, label=f'PR-AUC = {pr_auc:.2f}')\n",
    "    axes[1].set_xlabel('Recall')\n",
    "    axes[1].set_ylabel('Precision')\n",
    "    axes[1].set_title('PR Curve')\n",
    "    axes[1].legend()\n",
    "\n",
    "    # Plot Calibration Curve\n",
    "    prob_true, prob_pred = calibration_curve(y_test, y_probs_positive, n_bins=10)\n",
    "    axes[2].plot(prob_pred, prob_true, label='Calibration')\n",
    "    axes[2].plot([0, 1], [0, 1], 'k--', label='Perfectly Calibrated')\n",
    "    axes[2].set_xlabel('Mean Predicted Probability')\n",
    "    axes[2].set_ylabel('Fraction of Positives')\n",
    "    axes[2].set_title('Calibration Curve')\n",
    "    axes[2].legend()\n",
    "\n",
    "    plt.tight_layout()\n",
    "    plt.show()"
   ]
  },
  {
   "cell_type": "code",
   "execution_count": null,
   "id": "b3c1ca57-6a64-481f-90d0-179d2cc5484b",
   "metadata": {
    "papermill": {
     "duration": 0.544781,
     "end_time": "2024-07-25T22:32:58.245042",
     "exception": false,
     "start_time": "2024-07-25T22:32:57.700261",
     "status": "completed"
    },
    "tags": []
   },
   "outputs": [],
   "source": [
    "plot_metrics(y_test, y_probs_positive)"
   ]
  },
  {
   "cell_type": "code",
   "execution_count": null,
   "id": "e5c2c07a-6ed8-4b1a-8ecd-ddff33a4a51b",
   "metadata": {
    "papermill": {
     "duration": 0.016152,
     "end_time": "2024-07-25T22:32:58.270996",
     "exception": false,
     "start_time": "2024-07-25T22:32:58.254844",
     "status": "completed"
    },
    "tags": []
   },
   "outputs": [],
   "source": [
    "\n",
    "def plot_cm(y_test, y_pred):\n",
    "    # Generate confusion matrix\n",
    "    cm = confusion_matrix(y_test, y_pred)\n",
    "    \n",
    "    # Plot confusion matrix\n",
    "    plt.figure(figsize=(8, 6))\n",
    "    sns.heatmap(cm, annot=True, fmt='d', cmap='Blues', cbar=False)\n",
    "    plt.xlabel('Predicted labels')\n",
    "    plt.ylabel('True labels')\n",
    "    plt.title('Confusion Matrix')\n",
    "    plt.show()\n",
    "    \n",
    "    # Extract values for binary classification\n",
    "    tn = cm[0, 0]\n",
    "    fp = cm[0, 1]\n",
    "    fn = cm[1, 0]\n",
    "    tp = cm[1, 1]\n",
    "    \n",
    "    # Calculate metrics\n",
    "    top_row = tn + fp\n",
    "    bot_row = fn + tp\n",
    "    \n",
    "    specificity_value = recall_score(y_test, y_pred, pos_label=0)\n",
    "    sensitivity_value = recall_score(y_test, y_pred, pos_label=1)\n",
    "    accuracy_value = accuracy_score(y_test, y_pred)\n",
    "    precision_value = precision_score(y_test, y_pred)\n",
    "    f1_value = f1_score(y_test, y_pred)\n",
    "    \n",
    "    # Print results\n",
    "    print(f'Specificity : {specificity_value:.4f}')\n",
    "    print(f'Sensitivity : {sensitivity_value:.4f}')\n",
    "    print(f'Accuracy : {accuracy_value:.4f}')\n",
    "    print(f'Precision : {precision_value:.4f}')\n",
    "    print(f'F1 score : {f1_value:.4f}')\n",
    "    \n",
    "    print(f'Of {top_row} people who did not have a prolonged LOS, {tn} ({specificity_value:.2%}) were correctly classified.')\n",
    "    print(f'Of {bot_row} people who did have a prolonged LOS, {tp} ({sensitivity_value:.2%}) were correctly classified.')\n",
    "\n"
   ]
  },
  {
   "cell_type": "code",
   "execution_count": null,
   "id": "b0a3dc83-51e4-46e4-af0c-f88fef13f5f2",
   "metadata": {
    "papermill": {
     "duration": 0.10287,
     "end_time": "2024-07-25T22:32:58.382802",
     "exception": false,
     "start_time": "2024-07-25T22:32:58.279932",
     "status": "completed"
    },
    "tags": []
   },
   "outputs": [],
   "source": [
    "plot_cm(y_test, y_pred)"
   ]
  },
  {
   "cell_type": "markdown",
   "id": "fa0f0803-b461-4206-9508-a0d73a035a38",
   "metadata": {
    "papermill": {
     "duration": 0.009251,
     "end_time": "2024-07-25T22:32:58.401718",
     "exception": false,
     "start_time": "2024-07-25T22:32:58.392467",
     "status": "completed"
    },
    "tags": []
   },
   "source": [
    "### SHAP plots"
   ]
  },
  {
   "cell_type": "code",
   "execution_count": null,
   "id": "1152517c-c2d9-4ee0-b707-deaa0b6f3c5d",
   "metadata": {
    "papermill": {
     "duration": 0.014741,
     "end_time": "2024-07-25T22:32:58.425586",
     "exception": false,
     "start_time": "2024-07-25T22:32:58.410845",
     "status": "completed"
    },
    "tags": []
   },
   "outputs": [],
   "source": [
    "model_xgb.best_estimator_.steps"
   ]
  },
  {
   "cell_type": "code",
   "execution_count": null,
   "id": "9cf83bef-cee7-432c-9a02-fcbc3b26a4c1",
   "metadata": {
    "papermill": {
     "duration": 0.512961,
     "end_time": "2024-07-25T22:32:58.948026",
     "exception": false,
     "start_time": "2024-07-25T22:32:58.435065",
     "status": "completed"
    },
    "tags": []
   },
   "outputs": [],
   "source": [
    "#train_fp = '/gpfs/milgram/project/rtaylor/imc33/LOS/data/pipeline/los_train_initial_selected.csv'\n",
    "val_fp = '/gpfs/milgram/project/rtaylor/imc33/LOS/data/pipeline/los_val_initial_selected.csv'\n",
    "\n",
    "#X_train_selected.to_csv(train_fp)\n",
    "X_val_selected.to_csv(val_fp)\n",
    "\n",
    "#X_train_selected = pd.read_csv(train_fp, index_col=[0])\n",
    "X_val_selected = pd.read_csv(val_fp, index_col=[0])"
   ]
  },
  {
   "cell_type": "code",
   "execution_count": null,
   "id": "4c760d93-b283-4e91-ba38-8e7eba41912d",
   "metadata": {},
   "outputs": [],
   "source": [
    "X_val_selected"
   ]
  },
  {
   "cell_type": "code",
   "execution_count": null,
   "id": "c0cdf7ef-4a29-400a-9f44-ef14ae93b470",
   "metadata": {
    "papermill": {
     "duration": 0.014364,
     "end_time": "2024-07-25T22:32:58.972106",
     "exception": false,
     "start_time": "2024-07-25T22:32:58.957742",
     "status": "completed"
    },
    "tags": []
   },
   "outputs": [],
   "source": [
    "X_val_selected.shape"
   ]
  },
  {
   "cell_type": "code",
   "execution_count": null,
   "id": "3458cbee-747b-4e63-889c-6f530fef3713",
   "metadata": {
    "papermill": {
     "duration": 0.013134,
     "end_time": "2024-07-25T22:32:58.994517",
     "exception": false,
     "start_time": "2024-07-25T22:32:58.981383",
     "status": "completed"
    },
    "tags": []
   },
   "outputs": [],
   "source": [
    "# Set seeds for reproducibility\n",
    "np.random.seed(42)"
   ]
  },
  {
   "cell_type": "code",
   "execution_count": null,
   "id": "95e052ba-7c75-4203-a167-948fcf0a81a6",
   "metadata": {
    "papermill": {
     "duration": 0.420176,
     "end_time": "2024-07-25T22:32:59.423737",
     "exception": false,
     "start_time": "2024-07-25T22:32:59.003561",
     "status": "completed"
    },
    "tags": []
   },
   "outputs": [
    {
     "name": "stdout",
     "output_type": "stream",
     "text": [
      "[8]\tvalidation_0-aucpr:0.67736\n"
     ]
    },
    {
     "name": "stdout",
     "output_type": "stream",
     "text": [
      "[9]\tvalidation_0-aucpr:0.68060\n"
     ]
    },
    {
     "name": "stdout",
     "output_type": "stream",
     "text": [
      "[10]\tvalidation_0-aucpr:0.68671\n"
     ]
    },
    {
     "name": "stdout",
     "output_type": "stream",
     "text": [
      "[11]\tvalidation_0-aucpr:0.68744\n"
     ]
    },
    {
     "name": "stdout",
     "output_type": "stream",
     "text": [
      "[12]\tvalidation_0-aucpr:0.68992\n"
     ]
    },
    {
     "name": "stdout",
     "output_type": "stream",
     "text": [
      "[13]\tvalidation_0-aucpr:0.68632\n"
     ]
    },
    {
     "name": "stdout",
     "output_type": "stream",
     "text": [
      "[14]\tvalidation_0-aucpr:0.68898\n"
     ]
    },
    {
     "name": "stdout",
     "output_type": "stream",
     "text": [
      "[15]\tvalidation_0-aucpr:0.69074\n"
     ]
    },
    {
     "name": "stdout",
     "output_type": "stream",
     "text": [
      "[16]\tvalidation_0-aucpr:0.69288\n"
     ]
    },
    {
     "name": "stdout",
     "output_type": "stream",
     "text": [
      "[17]\tvalidation_0-aucpr:0.69528\n"
     ]
    },
    {
     "name": "stdout",
     "output_type": "stream",
     "text": [
      "[18]\tvalidation_0-aucpr:0.69456\n"
     ]
    },
    {
     "name": "stdout",
     "output_type": "stream",
     "text": [
      "[19]\tvalidation_0-aucpr:0.69547\n"
     ]
    },
    {
     "name": "stdout",
     "output_type": "stream",
     "text": [
      "[20]\tvalidation_0-aucpr:0.69445\n"
     ]
    },
    {
     "name": "stdout",
     "output_type": "stream",
     "text": [
      "[21]\tvalidation_0-aucpr:0.69480\n"
     ]
    },
    {
     "name": "stdout",
     "output_type": "stream",
     "text": [
      "[22]\tvalidation_0-aucpr:0.69706\n"
     ]
    },
    {
     "name": "stdout",
     "output_type": "stream",
     "text": [
      "[23]\tvalidation_0-aucpr:0.69670\n"
     ]
    },
    {
     "name": "stdout",
     "output_type": "stream",
     "text": [
      "[24]\tvalidation_0-aucpr:0.69591\n"
     ]
    },
    {
     "name": "stdout",
     "output_type": "stream",
     "text": [
      "[25]\tvalidation_0-aucpr:0.69511\n"
     ]
    },
    {
     "name": "stdout",
     "output_type": "stream",
     "text": [
      "[26]\tvalidation_0-aucpr:0.69566\n"
     ]
    },
    {
     "name": "stdout",
     "output_type": "stream",
     "text": [
      "[27]\tvalidation_0-aucpr:0.69852\n"
     ]
    },
    {
     "name": "stdout",
     "output_type": "stream",
     "text": [
      "[28]\tvalidation_0-aucpr:0.70046\n"
     ]
    },
    {
     "name": "stdout",
     "output_type": "stream",
     "text": [
      "[29]\tvalidation_0-aucpr:0.70005\n"
     ]
    },
    {
     "name": "stdout",
     "output_type": "stream",
     "text": [
      "[30]\tvalidation_0-aucpr:0.70008\n"
     ]
    },
    {
     "name": "stdout",
     "output_type": "stream",
     "text": [
      "[31]\tvalidation_0-aucpr:0.70400\n"
     ]
    },
    {
     "name": "stdout",
     "output_type": "stream",
     "text": [
      "[32]\tvalidation_0-aucpr:0.70462\n"
     ]
    },
    {
     "name": "stdout",
     "output_type": "stream",
     "text": [
      "[33]\tvalidation_0-aucpr:0.70599\n"
     ]
    },
    {
     "name": "stdout",
     "output_type": "stream",
     "text": [
      "[34]\tvalidation_0-aucpr:0.70649\n"
     ]
    },
    {
     "name": "stdout",
     "output_type": "stream",
     "text": [
      "[35]\tvalidation_0-aucpr:0.70616\n"
     ]
    },
    {
     "name": "stdout",
     "output_type": "stream",
     "text": [
      "[36]\tvalidation_0-aucpr:0.70824\n"
     ]
    },
    {
     "name": "stdout",
     "output_type": "stream",
     "text": [
      "[37]\tvalidation_0-aucpr:0.70944\n"
     ]
    },
    {
     "name": "stdout",
     "output_type": "stream",
     "text": [
      "[38]\tvalidation_0-aucpr:0.70880\n"
     ]
    },
    {
     "name": "stdout",
     "output_type": "stream",
     "text": [
      "[39]\tvalidation_0-aucpr:0.71118\n"
     ]
    },
    {
     "name": "stdout",
     "output_type": "stream",
     "text": [
      "[40]\tvalidation_0-aucpr:0.71096\n"
     ]
    },
    {
     "name": "stdout",
     "output_type": "stream",
     "text": [
      "[41]\tvalidation_0-aucpr:0.70930\n"
     ]
    },
    {
     "name": "stdout",
     "output_type": "stream",
     "text": [
      "[42]\tvalidation_0-aucpr:0.70917\n"
     ]
    },
    {
     "name": "stdout",
     "output_type": "stream",
     "text": [
      "[43]\tvalidation_0-aucpr:0.71076\n"
     ]
    },
    {
     "name": "stdout",
     "output_type": "stream",
     "text": [
      "[44]\tvalidation_0-aucpr:0.71089\n"
     ]
    },
    {
     "name": "stdout",
     "output_type": "stream",
     "text": [
      "[45]\tvalidation_0-aucpr:0.71149"
     ]
    },
    {
     "name": "stdout",
     "output_type": "stream",
     "text": [
      "\n"
     ]
    },
    {
     "name": "stdout",
     "output_type": "stream",
     "text": [
      "[46]\tvalidation_0-aucpr:0.71215\n"
     ]
    },
    {
     "name": "stdout",
     "output_type": "stream",
     "text": [
      "[47]\tvalidation_0-aucpr:0.71441"
     ]
    },
    {
     "name": "stdout",
     "output_type": "stream",
     "text": [
      "\n"
     ]
    },
    {
     "name": "stdout",
     "output_type": "stream",
     "text": [
      "[48]\tvalidation_0-aucpr:0.71532"
     ]
    },
    {
     "name": "stdout",
     "output_type": "stream",
     "text": [
      "\n"
     ]
    },
    {
     "name": "stdout",
     "output_type": "stream",
     "text": [
      "[49]\tvalidation_0-aucpr:0.71697\n"
     ]
    },
    {
     "name": "stdout",
     "output_type": "stream",
     "text": [
      "[50]\tvalidation_0-aucpr:0.71773"
     ]
    },
    {
     "name": "stdout",
     "output_type": "stream",
     "text": [
      "\n"
     ]
    },
    {
     "name": "stdout",
     "output_type": "stream",
     "text": [
      "[51]\tvalidation_0-aucpr:0.71607"
     ]
    },
    {
     "name": "stdout",
     "output_type": "stream",
     "text": [
      "\n"
     ]
    },
    {
     "name": "stdout",
     "output_type": "stream",
     "text": [
      "[52]\tvalidation_0-aucpr:0.71716\n"
     ]
    },
    {
     "name": "stdout",
     "output_type": "stream",
     "text": [
      "[53]\tvalidation_0-aucpr:0.71760\n"
     ]
    },
    {
     "name": "stdout",
     "output_type": "stream",
     "text": [
      "[54]\tvalidation_0-aucpr:0.71844\n"
     ]
    },
    {
     "name": "stdout",
     "output_type": "stream",
     "text": [
      "[55]\tvalidation_0-aucpr:0.71874\n"
     ]
    },
    {
     "name": "stdout",
     "output_type": "stream",
     "text": [
      "[56]\tvalidation_0-aucpr:0.71882\n"
     ]
    },
    {
     "name": "stdout",
     "output_type": "stream",
     "text": [
      "[57]\tvalidation_0-aucpr:0.71888"
     ]
    },
    {
     "name": "stdout",
     "output_type": "stream",
     "text": [
      "\n"
     ]
    },
    {
     "name": "stdout",
     "output_type": "stream",
     "text": [
      "[58]\tvalidation_0-aucpr:0.72018\n"
     ]
    },
    {
     "name": "stdout",
     "output_type": "stream",
     "text": [
      "[59]\tvalidation_0-aucpr:0.72128\n"
     ]
    },
    {
     "name": "stdout",
     "output_type": "stream",
     "text": [
      "[60]\tvalidation_0-aucpr:0.72103\n"
     ]
    },
    {
     "name": "stdout",
     "output_type": "stream",
     "text": [
      "[61]\tvalidation_0-aucpr:0.72035"
     ]
    },
    {
     "name": "stdout",
     "output_type": "stream",
     "text": [
      "\n"
     ]
    },
    {
     "name": "stdout",
     "output_type": "stream",
     "text": [
      "[62]\tvalidation_0-aucpr:0.72050\n"
     ]
    },
    {
     "name": "stdout",
     "output_type": "stream",
     "text": [
      "[63]\tvalidation_0-aucpr:0.72036\n"
     ]
    },
    {
     "name": "stdout",
     "output_type": "stream",
     "text": [
      "[64]\tvalidation_0-aucpr:0.72106\n"
     ]
    },
    {
     "name": "stdout",
     "output_type": "stream",
     "text": [
      "[65]\tvalidation_0-aucpr:0.72106\n"
     ]
    },
    {
     "name": "stdout",
     "output_type": "stream",
     "text": [
      "[66]\tvalidation_0-aucpr:0.72089\n"
     ]
    },
    {
     "name": "stdout",
     "output_type": "stream",
     "text": [
      "[67]\tvalidation_0-aucpr:0.72054\n"
     ]
    },
    {
     "name": "stdout",
     "output_type": "stream",
     "text": [
      "[68]\tvalidation_0-aucpr:0.72019\n"
     ]
    },
    {
     "data": {
      "text/html": [
       "<style>#sk-container-id-3 {color: black;}#sk-container-id-3 pre{padding: 0;}#sk-container-id-3 div.sk-toggleable {background-color: white;}#sk-container-id-3 label.sk-toggleable__label {cursor: pointer;display: block;width: 100%;margin-bottom: 0;padding: 0.3em;box-sizing: border-box;text-align: center;}#sk-container-id-3 label.sk-toggleable__label-arrow:before {content: \"▸\";float: left;margin-right: 0.25em;color: #696969;}#sk-container-id-3 label.sk-toggleable__label-arrow:hover:before {color: black;}#sk-container-id-3 div.sk-estimator:hover label.sk-toggleable__label-arrow:before {color: black;}#sk-container-id-3 div.sk-toggleable__content {max-height: 0;max-width: 0;overflow: hidden;text-align: left;background-color: #f0f8ff;}#sk-container-id-3 div.sk-toggleable__content pre {margin: 0.2em;color: black;border-radius: 0.25em;background-color: #f0f8ff;}#sk-container-id-3 input.sk-toggleable__control:checked~div.sk-toggleable__content {max-height: 200px;max-width: 100%;overflow: auto;}#sk-container-id-3 input.sk-toggleable__control:checked~label.sk-toggleable__label-arrow:before {content: \"▾\";}#sk-container-id-3 div.sk-estimator input.sk-toggleable__control:checked~label.sk-toggleable__label {background-color: #d4ebff;}#sk-container-id-3 div.sk-label input.sk-toggleable__control:checked~label.sk-toggleable__label {background-color: #d4ebff;}#sk-container-id-3 input.sk-hidden--visually {border: 0;clip: rect(1px 1px 1px 1px);clip: rect(1px, 1px, 1px, 1px);height: 1px;margin: -1px;overflow: hidden;padding: 0;position: absolute;width: 1px;}#sk-container-id-3 div.sk-estimator {font-family: monospace;background-color: #f0f8ff;border: 1px dotted black;border-radius: 0.25em;box-sizing: border-box;margin-bottom: 0.5em;}#sk-container-id-3 div.sk-estimator:hover {background-color: #d4ebff;}#sk-container-id-3 div.sk-parallel-item::after {content: \"\";width: 100%;border-bottom: 1px solid gray;flex-grow: 1;}#sk-container-id-3 div.sk-label:hover label.sk-toggleable__label {background-color: #d4ebff;}#sk-container-id-3 div.sk-serial::before {content: \"\";position: absolute;border-left: 1px solid gray;box-sizing: border-box;top: 0;bottom: 0;left: 50%;z-index: 0;}#sk-container-id-3 div.sk-serial {display: flex;flex-direction: column;align-items: center;background-color: white;padding-right: 0.2em;padding-left: 0.2em;position: relative;}#sk-container-id-3 div.sk-item {position: relative;z-index: 1;}#sk-container-id-3 div.sk-parallel {display: flex;align-items: stretch;justify-content: center;background-color: white;position: relative;}#sk-container-id-3 div.sk-item::before, #sk-container-id-3 div.sk-parallel-item::before {content: \"\";position: absolute;border-left: 1px solid gray;box-sizing: border-box;top: 0;bottom: 0;left: 50%;z-index: -1;}#sk-container-id-3 div.sk-parallel-item {display: flex;flex-direction: column;z-index: 1;position: relative;background-color: white;}#sk-container-id-3 div.sk-parallel-item:first-child::after {align-self: flex-end;width: 50%;}#sk-container-id-3 div.sk-parallel-item:last-child::after {align-self: flex-start;width: 50%;}#sk-container-id-3 div.sk-parallel-item:only-child::after {width: 0;}#sk-container-id-3 div.sk-dashed-wrapped {border: 1px dashed gray;margin: 0 0.4em 0.5em 0.4em;box-sizing: border-box;padding-bottom: 0.4em;background-color: white;}#sk-container-id-3 div.sk-label label {font-family: monospace;font-weight: bold;display: inline-block;line-height: 1.2em;}#sk-container-id-3 div.sk-label-container {text-align: center;}#sk-container-id-3 div.sk-container {/* jupyter's `normalize.less` sets `[hidden] { display: none; }` but bootstrap.min.css set `[hidden] { display: none !important; }` so we also need the `!important` here to be able to override the default hidden behavior on the sphinx rendered scikit-learn.org. See: https://github.com/scikit-learn/scikit-learn/issues/21755 */display: inline-block !important;position: relative;}#sk-container-id-3 div.sk-text-repr-fallback {display: none;}</style><div id=\"sk-container-id-3\" class=\"sk-top-container\"><div class=\"sk-text-repr-fallback\"><pre>XGBClassifier(base_score=None, booster=None, callbacks=None,\n",
       "              colsample_bylevel=None, colsample_bynode=None,\n",
       "              colsample_bytree=None, device=None, early_stopping_rounds=None,\n",
       "              enable_categorical=False, eval_metric=None, feature_types=None,\n",
       "              gamma=None, grow_policy=None, importance_type=None,\n",
       "              interaction_constraints=None, learning_rate=None, max_bin=None,\n",
       "              max_cat_threshold=None, max_cat_to_onehot=None,\n",
       "              max_delta_step=None, max_depth=None, max_leaves=None,\n",
       "              min_child_weight=None, missing=None, monotone_constraints=None,\n",
       "              multi_strategy=None, n_estimators=None, n_jobs=None,\n",
       "              num_parallel_tree=None, random_state=None, ...)</pre><b>In a Jupyter environment, please rerun this cell to show the HTML representation or trust the notebook. <br />On GitHub, the HTML representation is unable to render, please try loading this page with nbviewer.org.</b></div><div class=\"sk-container\" hidden><div class=\"sk-item\"><div class=\"sk-estimator sk-toggleable\"><input class=\"sk-toggleable__control sk-hidden--visually\" id=\"sk-estimator-id-8\" type=\"checkbox\" checked><label for=\"sk-estimator-id-8\" class=\"sk-toggleable__label sk-toggleable__label-arrow\">XGBClassifier</label><div class=\"sk-toggleable__content\"><pre>XGBClassifier(base_score=None, booster=None, callbacks=None,\n",
       "              colsample_bylevel=None, colsample_bynode=None,\n",
       "              colsample_bytree=None, device=None, early_stopping_rounds=None,\n",
       "              enable_categorical=False, eval_metric=None, feature_types=None,\n",
       "              gamma=None, grow_policy=None, importance_type=None,\n",
       "              interaction_constraints=None, learning_rate=None, max_bin=None,\n",
       "              max_cat_threshold=None, max_cat_to_onehot=None,\n",
       "              max_delta_step=None, max_depth=None, max_leaves=None,\n",
       "              min_child_weight=None, missing=None, monotone_constraints=None,\n",
       "              multi_strategy=None, n_estimators=None, n_jobs=None,\n",
       "              num_parallel_tree=None, random_state=None, ...)</pre></div></div></div></div></div>"
      ],
      "text/plain": [
       "XGBClassifier(base_score=None, booster=None, callbacks=None,\n",
       "              colsample_bylevel=None, colsample_bynode=None,\n",
       "              colsample_bytree=None, device=None, early_stopping_rounds=None,\n",
       "              enable_categorical=False, eval_metric=None, feature_types=None,\n",
       "              gamma=None, grow_policy=None, importance_type=None,\n",
       "              interaction_constraints=None, learning_rate=None, max_bin=None,\n",
       "              max_cat_threshold=None, max_cat_to_onehot=None,\n",
       "              max_delta_step=None, max_depth=None, max_leaves=None,\n",
       "              min_child_weight=None, missing=None, monotone_constraints=None,\n",
       "              multi_strategy=None, n_estimators=None, n_jobs=None,\n",
       "              num_parallel_tree=None, random_state=None, ...)"
      ]
     },
     "execution_count": 45,
     "metadata": {},
     "output_type": "execute_result"
    }
   ],
   "source": [
    "#clf_xgb = xgb.XGBClassifier(objective='binary:logistic', missing=None, seed=42)\n",
    "#clf_xgb.fit(X_train_selected, \n",
    "#            y_train['viz_outcome_prolonged_los_yn'], \n",
    "#            verbose=True,\n",
    "#            early_stopping_rounds=10,\n",
    " #           eval_metric='aucpr',\n",
    " #           eval_set=[(X_val_selected, y_val['viz_outcome_prolonged_los_yn'])])"
   ]
  },
  {
   "cell_type": "code",
   "execution_count": null,
   "id": "795a62ff-6e36-46bf-b439-43209307191b",
   "metadata": {},
   "outputs": [],
   "source": [
    "X_val_selected"
   ]
  },
  {
   "cell_type": "code",
   "execution_count": null,
   "id": "dfb0e3c8-fbba-41e2-8860-b933e79b8ba5",
   "metadata": {},
   "outputs": [],
   "source": [
    "model_xgb"
   ]
  },
  {
   "cell_type": "markdown",
   "id": "a83aa747-68aa-49a6-85ea-942644464b59",
   "metadata": {},
   "source": []
  },
  {
   "cell_type": "code",
   "execution_count": null,
   "id": "511a1340-5936-4128-a50c-1955693ba56c",
   "metadata": {},
   "outputs": [],
   "source": [
    "X_val_selected"
   ]
  },
  {
   "cell_type": "code",
   "execution_count": null,
   "id": "cb17f324-67c0-48af-9062-e4827272a303",
   "metadata": {
    "papermill": {
     "duration": 0.546618,
     "end_time": "2024-07-25T22:32:59.983158",
     "exception": false,
     "start_time": "2024-07-25T22:32:59.436540",
     "status": "completed"
    },
    "tags": []
   },
   "outputs": [],
   "source": [
    "explainer = shap.Explainer(model_xgb)\n",
    "shap_values = explainer(X_val_selected)"
   ]
  },
  {
   "cell_type": "code",
   "execution_count": null,
   "id": "12fbe521-8339-4fe1-b5e0-0fe26bfbcbeb",
   "metadata": {},
   "outputs": [],
   "source": [
    "X_val_selected"
   ]
  },
  {
   "cell_type": "code",
   "execution_count": null,
   "id": "597989bb-b5ec-49f7-830c-9d5df75f73c4",
   "metadata": {
    "papermill": {
     "duration": 1.038389,
     "end_time": "2024-07-25T22:33:01.033677",
     "exception": false,
     "start_time": "2024-07-25T22:32:59.995288",
     "status": "completed"
    },
    "tags": []
   },
   "outputs": [],
   "source": [
    "shap.plots.beeswarm(shap_values, max_display=30)"
   ]
  },
  {
   "cell_type": "code",
   "execution_count": null,
   "id": "2c837248-8d31-4ab5-9234-6c71659bb8b2",
   "metadata": {
    "papermill": {
     "duration": 0.019267,
     "end_time": "2024-07-25T22:33:01.068147",
     "exception": false,
     "start_time": "2024-07-25T22:33:01.048880",
     "status": "completed"
    },
    "tags": []
   },
   "outputs": [],
   "source": [
    "shap_df = pd.DataFrame(shap_values.values, columns=shap_values.feature_names)"
   ]
  },
  {
   "cell_type": "code",
   "execution_count": null,
   "id": "5f881dae-e0c2-4807-b8cc-e78364ffd6e8",
   "metadata": {
    "papermill": {
     "duration": 0.020465,
     "end_time": "2024-07-25T22:33:01.103289",
     "exception": false,
     "start_time": "2024-07-25T22:33:01.082824",
     "status": "completed"
    },
    "tags": []
   },
   "outputs": [],
   "source": [
    "mean_abs_shap = np.abs(shap_df).mean(axis=0)"
   ]
  },
  {
   "cell_type": "code",
   "execution_count": null,
   "id": "309596fe-c378-49de-a72f-a47e63b01751",
   "metadata": {
    "papermill": {
     "duration": 0.01851,
     "end_time": "2024-07-25T22:33:01.136049",
     "exception": false,
     "start_time": "2024-07-25T22:33:01.117539",
     "status": "completed"
    },
    "tags": []
   },
   "outputs": [],
   "source": [
    "top_30_features = mean_abs_shap.sort_values(ascending=False).head(30)\n"
   ]
  },
  {
   "cell_type": "code",
   "execution_count": null,
   "id": "af24ecdd-c956-4b45-a873-11a77b3a91f3",
   "metadata": {
    "papermill": {
     "duration": 0.019127,
     "end_time": "2024-07-25T22:33:01.169602",
     "exception": false,
     "start_time": "2024-07-25T22:33:01.150475",
     "status": "completed"
    },
    "tags": []
   },
   "outputs": [],
   "source": [
    "for feature in top_30_features.index.tolist():\n",
    "    print(feature)"
   ]
  },
  {
   "cell_type": "code",
   "execution_count": null,
   "id": "2fc29d9f-807f-405f-9b4d-693bb5662be2",
   "metadata": {
    "papermill": {
     "duration": 0.990484,
     "end_time": "2024-07-25T22:33:02.174521",
     "exception": false,
     "start_time": "2024-07-25T22:33:01.184037",
     "status": "completed"
    },
    "tags": []
   },
   "outputs": [],
   "source": [
    "lab_df = pd.read_csv('/gpfs/milgram/project/rtaylor/imc33/LOS/data/new_label_names.csv')\n",
    "\n",
    "new_feature_names_dict = pd.Series(lab_df.new_name.values, index=lab_df.old_name).to_dict()\n",
    "\n",
    "current_feature_names = shap_values.feature_names  # Current feature names\n",
    "\n",
    "# Update feature names in the SHAP values object\n",
    "new_feature_names = [new_feature_names_dict.get(name, name) for name in current_feature_names]\n",
    "shap_values.feature_names = new_feature_names\n",
    "\n",
    "# Generate the beeswarm plot with the updated feature names\n",
    "shap.plots.beeswarm(shap_values, max_display=30)"
   ]
  }
 ],
 "metadata": {
  "kernelspec": {
   "display_name": "Python 3 (ipykernel)",
   "language": "python",
   "name": "python3"
  },
  "language_info": {
   "codemirror_mode": {
    "name": "ipython",
    "version": 3
   },
   "file_extension": ".py",
   "mimetype": "text/x-python",
   "name": "python",
   "nbconvert_exporter": "python",
   "pygments_lexer": "ipython3",
   "version": "3.8.19"
  },
  "papermill": {
   "default_parameters": {},
   "duration": 28.312135,
   "end_time": "2024-07-25T22:33:02.710958",
   "environment_variables": {},
   "exception": null,
   "input_path": "los_features_all_without_quintiles_07-25-2024.ipynb",
   "output_path": "los_features_all_without_quintiles_07-25-2024.ipynb",
   "parameters": {},
   "start_time": "2024-07-25T22:32:34.398823",
   "version": "2.6.0"
  }
 },
 "nbformat": 4,
 "nbformat_minor": 5
}
