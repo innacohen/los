{
 "cells": [
  {
   "cell_type": "code",
   "execution_count": 1,
   "id": "fd3eb7b7-7360-48be-a80e-229b3b494171",
   "metadata": {},
   "outputs": [],
   "source": [
    "## This version excludes CONTINUOUS Variables and the RFD variables AND _wHICH VARIABLES 3/27/2024 and con_max_consultorder_time/day and drg name\n",
    "## 4/4/2024 Added QUINTILE variables\n",
    "## 4/8/2024 Added QUINTILE varables by service\n",
    "## 4/9/2024 Added more consult and imaging variables (e.g. ad,it order to consult order, admit order to imaging read)\n",
    "## 4/11/2024 Added QUINTILE variables by service for the additional variables\n",
    "# 06/12/2024: Added gender, added imaging_order_before_consult_order and consult_order_before_imaging order variables, excluded 290 patients in 2022\n"
   ]
  },
  {
   "cell_type": "code",
   "execution_count": null,
   "id": "1547941e-1e86-4e0b-b443-ae3e1c3e4f48",
   "metadata": {},
   "outputs": [],
   "source": [
    "import pandas as pd\n",
    "import numpy as np\n",
    "\n",
    "#ML packages\n",
    "from sklearn.model_selection import train_test_split\n",
    "from sklearn.pipeline import Pipeline\n",
    "from sklearn.compose import ColumnTransformer\n",
    "from sklearn.preprocessing import MinMaxScaler\n",
    "from feature_engine.discretisation import DecisionTreeDiscretiser\n",
    "from sklearn.model_selection import GroupShuffleSplit\n",
    "from sklearn.impute import SimpleImputer\n",
    "from sklearn.metrics import accuracy_score, precision_score, recall_score, confusion_matrix, f1_score, roc_auc_score, classification_report, precision_recall_curve\n",
    "from sklearn.calibration import calibration_curve\n",
    "\n",
    "#XGBo\n",
    "#https://github.com/liannewriting/YouTube-videos-public/blob/main/xgboost-python-tutorial-example/xgboost_python.ipynb\n",
    "import xgboost as xgb\n",
    "from category_encoders.target_encoder import TargetEncoder\n",
    "from xgboost import XGBClassifier\n",
    "#hyperparameter values\n",
    "from skopt import BayesSearchCV\n",
    "from skopt.space import Real, Categorical, Integer\n",
    "\n",
    "#Feature Selection\n",
    "from feature_engine.selection import DropConstantFeatures, DropDuplicateFeatures, SmartCorrelatedSelection\n",
    "from feature_engine.encoding import OneHotEncoder\n",
    "from feature_engine.selection import DropFeatures, DropConstantFeatures, DropDuplicateFeatures, SmartCorrelatedSelection\n",
    "from feature_engine.imputation import AddMissingIndicator\n",
    "from feature_engine.outliers import Winsorizer\n",
    "from feature_engine.wrappers import SklearnTransformerWrapper\n",
    "from feature_engine.imputation import ArbitraryNumberImputer\n",
    "from feature_engine.imputation import MeanMedianImputer\n",
    "from feature_engine.imputation import CategoricalImputer\n",
    "from feature_engine.encoding import RareLabelEncoder\n",
    "\n",
    "#Plotting Packages\n",
    "import shap\n",
    "import plotly.express as px\n",
    "import matplotlib.pyplot as plt\n",
    "import seaborn as sns\n",
    "\n",
    "\n",
    "\n",
    "\n",
    "\n",
    "import warnings\n",
    "warnings.filterwarnings('ignore')"
   ]
  },
  {
   "cell_type": "code",
   "execution_count": null,
   "id": "bf5e06bb-0891-4572-a80e-16f193c88a82",
   "metadata": {},
   "outputs": [],
   "source": []
  },
  {
   "cell_type": "code",
   "execution_count": null,
   "id": "a591fe07-bf34-497d-8ea2-e3292ef0fa1a",
   "metadata": {},
   "outputs": [],
   "source": [
    "df_all = pd.read_csv('/gpfs/milgram/project/rtaylor/imc33/data/clean/master_los.csv', index_col=[0])"
   ]
  },
  {
   "cell_type": "code",
   "execution_count": null,
   "id": "e273e2dc-31dc-4479-a574-ef580710ab91",
   "metadata": {},
   "outputs": [],
   "source": [
    "pd.set_option('display.max_columns', None)"
   ]
  },
  {
   "cell_type": "code",
   "execution_count": null,
   "id": "8a0bd6ea-5e57-4da8-bfa9-0ba7b941db1b",
   "metadata": {},
   "outputs": [],
   "source": [
    "df_all.head()"
   ]
  },
  {
   "cell_type": "code",
   "execution_count": null,
   "id": "4bb6ded2-a4f5-43fa-8018-933907ce4f1e",
   "metadata": {},
   "outputs": [],
   "source": [
    "df_all.shape"
   ]
  },
  {
   "cell_type": "code",
   "execution_count": null,
   "id": "bc833ea3-387d-47fe-b32c-d601dd6aa02e",
   "metadata": {},
   "outputs": [],
   "source": [
    "df_all[\"viz_disp_collapsed\"].value_counts()"
   ]
  },
  {
   "cell_type": "code",
   "execution_count": null,
   "id": "2bda5647-bef0-43e1-959b-cdc653b23788",
   "metadata": {},
   "outputs": [],
   "source": [
    "df_all[\"thro_boarding_yn\"].value_counts()"
   ]
  },
  {
   "cell_type": "code",
   "execution_count": null,
   "id": "b4ce19f1-6777-417c-b137-17f2dfa1e8e1",
   "metadata": {},
   "outputs": [],
   "source": [
    "#Filter for home patients\n",
    "df_filt = df_all.copy()\n",
    "#df_filt = df_all[df_all[\"viz_disp_collapsed\"] == \"Home\"].copy()\n",
    "#df_filt = df_all[df_all[\"thro_boarding_yn\"] == 1].copy()"
   ]
  },
  {
   "cell_type": "code",
   "execution_count": null,
   "id": "daf28fe8-5be5-4b6a-a188-38b5d1f5273c",
   "metadata": {},
   "outputs": [],
   "source": [
    "#df_filt.shape"
   ]
  },
  {
   "cell_type": "code",
   "execution_count": null,
   "id": "e1abd044-d08d-420c-8af7-95a7bc4d7982",
   "metadata": {},
   "outputs": [],
   "source": [
    "# aitc_features.xlsx includes all the feature names and corresponding types\n",
    "features_los = pd.read_excel('/gpfs/milgram/project/rtaylor/imc33/data/clean/features_los.xlsx')\n",
    "\n",
    "# Features that are divided into 5 types to conduct data preprocessing\n",
    "# 1. drop: features that need to be dropped\n",
    "drop_list = features_los[features_los['type'] == 'drop']['col_name'].tolist()\n",
    "\n",
    "# 2. category: features that are already categorical and need to be OneHotEncoding (add missing value indicator, impute missing by adding 'missing' category)\n",
    "category_list = features_los[features_los['type'] == 'category']['col_name'].tolist()\n",
    "\n",
    "# 3. binary: features that are binary and need to be converted to categorical (add missing value indicator / prefer: fill missing with 0)\n",
    "binary_list = features_los[features_los['type'] == 'binary']['col_name'].tolist()\n",
    "\n",
    "# 4. continuous: features that are continous/numerical variables, need outlier handling and normalization (add missing value indicator, fill missing with median)\n",
    "continuous_list = features_los[features_los['type'] == 'continuous']['col_name'].tolist()\n",
    "\n",
    "# 5. discrete: features that are discrete/numerical variables, need to be discretized (fill missing with 0)\n",
    "discrete_list = features_los[features_los['type'] == 'discrete']['col_name'].tolist()"
   ]
  },
  {
   "cell_type": "code",
   "execution_count": null,
   "id": "67af43fb-1659-41c0-8ee8-b8c2220dbed9",
   "metadata": {},
   "outputs": [],
   "source": [
    "# Split into X, y\n",
    "X = df_filt.drop(['viz_outcome_prolonged_los_yn'], axis=1)\n",
    "y = df_filt['viz_outcome_prolonged_los_yn']"
   ]
  },
  {
   "cell_type": "code",
   "execution_count": null,
   "id": "a17d4884-39fc-494c-aa1c-519f21e28a21",
   "metadata": {},
   "outputs": [],
   "source": [
    "# Convert variables to categorical\n",
    "X[binary_list] = X[binary_list].astype('category')\n",
    "X[category_list] = X[category_list].astype('category')"
   ]
  },
  {
   "cell_type": "code",
   "execution_count": null,
   "id": "8f4a4133-532c-45ed-9818-0b3377ff25b4",
   "metadata": {},
   "outputs": [],
   "source": [
    "# Drop features that have >= 99% missing values And features in drop list\n",
    "missing_pct = X.isnull().mean() * 100\n",
    "cols_to_drop = missing_pct[missing_pct >= 99].index.tolist()\n",
    "#final_drop_list = list(set(drop_list + cols_to_drop))\n",
    "#X_1b = X_1b.drop(columns=final_drop_list)\n",
    "#X_1b = X_1b.reset_index(drop=True)\n",
    "#y_1b = y_1b.reset_index(drop=True)"
   ]
  },
  {
   "cell_type": "code",
   "execution_count": null,
   "id": "a7e37d69-6c3b-4fc2-8efc-4c842d87c187",
   "metadata": {},
   "outputs": [],
   "source": [
    "pd.set_option('display.max_rows', 400)"
   ]
  },
  {
   "cell_type": "code",
   "execution_count": null,
   "id": "0eb87649-bcae-439e-822b-01dc9c7b246d",
   "metadata": {},
   "outputs": [],
   "source": [
    "missing_pct.reset_index().sort_values(0, ascending=False).head()"
   ]
  },
  {
   "cell_type": "code",
   "execution_count": null,
   "id": "e0c05913-95bc-4498-bbd8-2ef2e52b1aac",
   "metadata": {},
   "outputs": [],
   "source": []
  },
  {
   "cell_type": "code",
   "execution_count": null,
   "id": "a3b33e19-a9f3-4849-93f9-ec1a1c269b10",
   "metadata": {},
   "outputs": [],
   "source": [
    "continuous_list.remove(\"viz_age\")"
   ]
  },
  {
   "cell_type": "code",
   "execution_count": null,
   "id": "93ebdc82-7438-457f-885b-2541277defe9",
   "metadata": {},
   "outputs": [],
   "source": [
    "# We do NOT want to drop these\n",
    "#cols_to_drop\n",
    "#only these\n",
    "drop_list"
   ]
  },
  {
   "cell_type": "code",
   "execution_count": null,
   "id": "7d08e203-8c64-45cb-8d20-e3bf4a357244",
   "metadata": {},
   "outputs": [],
   "source": [
    "X"
   ]
  },
  {
   "cell_type": "code",
   "execution_count": null,
   "id": "7d66e29a-42e4-476b-88b6-ff2e22978964",
   "metadata": {},
   "outputs": [],
   "source": [
    "X = X.drop(columns=drop_list+continuous_list)\n",
    "X = X.reset_index()\n",
    "y = y.reset_index()"
   ]
  },
  {
   "cell_type": "code",
   "execution_count": null,
   "id": "7075a970-8bd9-42d6-bae9-1f1c380219f5",
   "metadata": {},
   "outputs": [],
   "source": [
    "# Split the data by group shuffle split on 'PAT_MRN_ID' into train set and validation set\n",
    "gss = GroupShuffleSplit(n_splits=2, test_size=0.2, random_state=42)\n",
    "\n",
    "train_ix, val_ix = next(gss.split(X, y, groups=X['pat_mrn_id']))\n",
    "\n",
    "X_train = X.loc[train_ix]\n",
    "y_train = y.loc[train_ix]\n",
    "\n",
    "X_val = X.loc[val_ix]\n",
    "y_val = y.loc[val_ix]\n",
    "\n",
    "# Drop 'PAT_MRN_ID' and set 'PAT_ENC_CSN_ID' as index\n",
    "X_train = X_train.drop(['pat_mrn_id'], axis=1).set_index('pat_enc_csn_id')\n",
    "X_val = X_val.drop(['pat_mrn_id'], axis=1).set_index('pat_enc_csn_id')"
   ]
  },
  {
   "cell_type": "markdown",
   "id": "1b8628f7-827f-49ea-89a5-f93fbd47a8ea",
   "metadata": {},
   "source": [
    "### Feature Processing"
   ]
  },
  {
   "cell_type": "code",
   "execution_count": null,
   "id": "3903814a-6155-43da-ae19-b828c71da820",
   "metadata": {},
   "outputs": [],
   "source": [
    "\n",
    "# Update feature preprocessing pipeline\n",
    "feature_preprocess_pipeline = Pipeline(steps=[\n",
    "\n",
    "    # Missing value indicator for categoricals and continuous variables\n",
    "    #('missing_indicator', AddMissingIndicator(variables=category_list + continuous_list)),\n",
    "\n",
    "    # Missing value imputation\n",
    "    # Impute missing values with 0 for discrete variables\n",
    "    ('arbitrary_number_imputer', ArbitraryNumberImputer(arbitrary_number=0, variables=discrete_list)),\n",
    "\n",
    "  \n",
    "    # Impute missing values with adding 'missing' category for categorical variables \n",
    "   ('categorical_imputer', CategoricalImputer(variables=category_list)),\n",
    "\n",
    "    # Impute missing values with 0 for binary variables \n",
    "    ('binary_imputer', CategoricalImputer(fill_value='0', variables=binary_list)),\n",
    "\n",
    "    \n",
    "    # Rare encoding for categorical variables\n",
    "    ('rare_label_encoder', RareLabelEncoder(tol=0.01, n_categories=5, max_n_categories=10, variables=category_list)),\n",
    "\n",
    "    # OneHotEncoding for categoricals\n",
    "    ('one_hot_category', OneHotEncoder(variables=category_list)),\n",
    "\n",
    "    # Outlier handling & normalization for continous variables\n",
    "   #('outlier_handling', Winsorizer(capping_method='gaussian', tail='right', fold=3, variables=continuous_list)),\n",
    "    #todo: \n",
    "\n",
    "  # ('normalize', SklearnTransformerWrapper(MinMaxScaler(feature_range=(0, 1)), variables=continuous_list)),\n",
    "\n",
    "    # discretize for discrete variables\n",
    "   #('discretize', DecisionTreeDiscretiser(cv=3, scoring='roc_auc', regression=False, random_state=42, variables=discrete_list))\n",
    "    #todo:\n",
    "    \n",
    "])  # Apply the pipeline"
   ]
  },
  {
   "cell_type": "code",
   "execution_count": null,
   "id": "efb20567-e6ba-4a32-8fac-cdc7b774621c",
   "metadata": {},
   "outputs": [],
   "source": [
    "# Apply the pipeline\n",
    "X_train_preprocessed = feature_preprocess_pipeline.fit_transform(X_train, y_train)\n",
    "X_val_preprocessed = feature_preprocess_pipeline.transform(X_val)"
   ]
  },
  {
   "cell_type": "code",
   "execution_count": null,
   "id": "1a6460a5-8160-4240-999f-83b16dae8282",
   "metadata": {},
   "outputs": [],
   "source": [
    "X_train_preprocessed.shape"
   ]
  },
  {
   "cell_type": "code",
   "execution_count": null,
   "id": "beaab97c-e1aa-4e5f-91b6-6830b7766cf5",
   "metadata": {},
   "outputs": [],
   "source": [
    "X_train_preprocessed.to_csv('/gpfs/milgram/project/rtaylor/imc33/data/pipeline/los_train_preprocessed_all_patients_cat_only.csv')\n",
    "X_val_preprocessed.to_csv('/gpfs/milgram/project/rtaylor/imc33/data/pipeline/los_val_preprocessed_all_patients_cat_only.csv')"
   ]
  },
  {
   "cell_type": "markdown",
   "id": "4f5bde03-d7a4-439f-8376-dcd2a4ef6b5a",
   "metadata": {},
   "source": [
    "### Feature Selection"
   ]
  },
  {
   "cell_type": "code",
   "execution_count": null,
   "id": "c41bd244-6601-481f-9d53-f495d13e438b",
   "metadata": {},
   "outputs": [],
   "source": [
    "# 1st Feature Selection pipeline\n",
    "feature_selection_pipeline = Pipeline(steps=[\n",
    "\n",
    "        ('drop_constant', DropConstantFeatures(tol=0.99)),\n",
    "\n",
    "        ('drop_duplicates', DropDuplicateFeatures()),\n",
    "\n",
    "        ('correlated_features', SmartCorrelatedSelection(\n",
    "        method='pearson',\n",
    "        threshold=0.9,\n",
    "        selection_method='model_performance',\n",
    "        estimator=xgb.XGBClassifier(random_state=0)\n",
    "        ))\n",
    "])"
   ]
  },
  {
   "cell_type": "code",
   "execution_count": null,
   "id": "b39a290f-ad61-4d04-a175-3835b165b616",
   "metadata": {},
   "outputs": [],
   "source": [
    "miss_df = X_train_preprocessed.isna().sum().reset_index()\n",
    "miss_df[miss_df[0]>0]\n",
    "miss_df[miss_df[0]>0].to_csv(\"miss_df.csv\", index=False)"
   ]
  },
  {
   "cell_type": "code",
   "execution_count": null,
   "id": "b6701fe2-ccda-429c-be00-fff40a0dc7b5",
   "metadata": {},
   "outputs": [],
   "source": [
    "# Apply the pipeline\n",
    "X_train_selected = feature_selection_pipeline.fit_transform(X_train_preprocessed, y_train['viz_outcome_prolonged_los_yn'])\n",
    "X_val_selected = feature_selection_pipeline.transform(X_val_preprocessed)"
   ]
  },
  {
   "cell_type": "code",
   "execution_count": null,
   "id": "23b80586-a370-4e35-801c-e766a1fbac38",
   "metadata": {},
   "outputs": [],
   "source": [
    "X_train_selected.to_csv('/gpfs/milgram/project/rtaylor/imc33/data/pipeline/los_train_initial_selected_all_patients_cat_only.csv')\n",
    "X_val_selected.to_csv('/gpfs/milgram/project/rtaylor/imc33/data/pipeline/los_val_initial_selected_all_patients_cat_only.csv')"
   ]
  },
  {
   "cell_type": "code",
   "execution_count": null,
   "id": "57e2605c-1f08-4bb3-874b-137fc15c8e72",
   "metadata": {},
   "outputs": [],
   "source": [
    "X_train_preprocessed.shape"
   ]
  },
  {
   "cell_type": "code",
   "execution_count": null,
   "id": "8b451525-6a34-4181-bf02-3d5905ac5913",
   "metadata": {},
   "outputs": [],
   "source": [
    "X_train_selected.shape"
   ]
  },
  {
   "cell_type": "code",
   "execution_count": null,
   "id": "95596651-d4cb-4ea5-a15e-398ab9dcdb43",
   "metadata": {},
   "outputs": [],
   "source": [
    "# Read files\n",
    "#X_train_selected = pd.read_csv('/gpfs/milgram/project/rtaylor/imc33/data/pipeline/los_train_initial_selected_all_patients_cat_only.csv')\n",
    "#X_val_selected = pd.read_csv('/gpfs/milgram/project/rtaylor/imc33/data/pipeline/los_val_initial_selected_all_patients_cat_only.csv')"
   ]
  },
  {
   "cell_type": "code",
   "execution_count": null,
   "id": "23cb07d4-143e-4a76-b155-2f3cffaaf6e2",
   "metadata": {},
   "outputs": [],
   "source": [
    "#train_selected = X_train_selected.merge(y_train, on='pat_enc_csn_id', how='left')\n",
    "#val_selected = X_val_selected.merge(y_val, on='pat_enc_csn_id', how='left')"
   ]
  },
  {
   "cell_type": "code",
   "execution_count": null,
   "id": "686cb67b-bcba-4b28-87ac-fec40cc9efc6",
   "metadata": {},
   "outputs": [],
   "source": [
    "#train_selected = train_selected.set_index('pat_enc_csn_id')\n",
    "#val_selected = val_selected.set_index('pat_enc_csn_id')"
   ]
  },
  {
   "cell_type": "code",
   "execution_count": null,
   "id": "9ff667c1-c0bd-415c-80f9-979bcba24589",
   "metadata": {},
   "outputs": [],
   "source": [
    "# Top 20 features - training set\n",
    "#get_best_features(num_feats = 20, df = train_selected, df_name = 'train', target = 'viz_outcome_prolonged_los_yn')"
   ]
  },
  {
   "cell_type": "code",
   "execution_count": null,
   "id": "d79c0383-e9bf-49c1-889c-5b82afe84757",
   "metadata": {},
   "outputs": [],
   "source": [
    "y_train['viz_outcome_prolonged_los_yn'].sum()/y_train.shape[0]"
   ]
  },
  {
   "cell_type": "code",
   "execution_count": null,
   "id": "4bdc197a-6cde-4e03-99ef-94aaa709b34e",
   "metadata": {},
   "outputs": [],
   "source": [
    "estimators = [\n",
    "    ('encoder', TargetEncoder()),\n",
    "    ('clf', XGBClassifier(random_state=8, verbosity=1))\n",
    "]\n",
    "\n",
    "tuning_pipeline = Pipeline(steps=estimators)"
   ]
  },
  {
   "cell_type": "code",
   "execution_count": null,
   "id": "93ee0d43-79bf-4e32-8163-8583df595df2",
   "metadata": {},
   "outputs": [],
   "source": [
    "search_space = {\n",
    "    'clf__max_depth': Integer(2,8),\n",
    "    'clf__learning_rate': Real(0.001, 1.0, prior='log-uniform'),\n",
    "    'clf__subsample': Real(0.5, 1.0),\n",
    "    'clf__colsample_bytree': Real(0.5, 1.0),\n",
    "    'clf__colsample_bylevel': Real(0.5, 1.0),\n",
    "    'clf__colsample_bynode' : Real(0.5, 1.0),\n",
    "    'clf__reg_alpha': Real(0.0, 10.0),\n",
    "    'clf__reg_lambda': Real(0.0, 10.0),\n",
    "    'clf__gamma': Real(0.0, 10.0)\n",
    "}\n",
    "\n",
    "model_xgb = BayesSearchCV(tuning_pipeline, search_space, cv=3, n_iter=10, scoring='roc_auc', random_state=8) "
   ]
  },
  {
   "cell_type": "code",
   "execution_count": null,
   "id": "1f81c515-3c99-4065-9019-65391ce7f72c",
   "metadata": {},
   "outputs": [],
   "source": [
    "#y_train = y_train.set_index('pat_enc_csn_id')"
   ]
  },
  {
   "cell_type": "code",
   "execution_count": null,
   "id": "6e948f60-8044-48c4-9455-5ba38ec5651f",
   "metadata": {},
   "outputs": [],
   "source": [
    "y_train = y_train.set_index('pat_enc_csn_id')"
   ]
  },
  {
   "cell_type": "code",
   "execution_count": null,
   "id": "dd217dbf-96f7-4719-b704-9c9c8d644fc4",
   "metadata": {},
   "outputs": [],
   "source": [
    "#X_train_selected = X_train_selected.set_index('pat_enc_csn_id')"
   ]
  },
  {
   "cell_type": "code",
   "execution_count": null,
   "id": "30b5a57d-490a-400a-9c4c-0bc24b808e70",
   "metadata": {},
   "outputs": [],
   "source": [
    "model_xgb.fit(X_train_selected,  y_train)"
   ]
  },
  {
   "cell_type": "code",
   "execution_count": null,
   "id": "d5c467ee-bf69-49df-88f7-d3fc850760f3",
   "metadata": {},
   "outputs": [],
   "source": [
    "model_xgb.best_estimator_"
   ]
  },
  {
   "cell_type": "code",
   "execution_count": null,
   "id": "5af239d4-9fcb-4497-bef5-503ebab0a004",
   "metadata": {},
   "outputs": [],
   "source": [
    "model_xgb.best_score_"
   ]
  },
  {
   "cell_type": "code",
   "execution_count": null,
   "id": "155f881e-e715-42fb-9cdb-047eff5b7f51",
   "metadata": {},
   "outputs": [],
   "source": [
    "y_val = y_val.set_index('pat_enc_csn_id')"
   ]
  },
  {
   "cell_type": "code",
   "execution_count": null,
   "id": "4c271483-ae42-4821-8c89-875a7bd8c79d",
   "metadata": {},
   "outputs": [],
   "source": [
    "import numpy as np\n",
    "import matplotlib.pyplot as plt\n",
    "import seaborn as sns"
   ]
  },
  {
   "cell_type": "markdown",
   "id": "bd3ce7dd-ebd3-4790-926d-185f0851743b",
   "metadata": {},
   "source": [
    "### Confusion Matrix"
   ]
  },
  {
   "cell_type": "markdown",
   "id": "c7fa0a58-383f-4144-b785-d62de9c5b04a",
   "metadata": {},
   "source": [
    "-- Of 5831 people who did not have a prolonged LOS, 5831 (86%) were correctly classified.\n",
    "-- Of 4724 people who did have prolonged LOS, 3918 (83%) were correctly classified"
   ]
  },
  {
   "cell_type": "code",
   "execution_count": null,
   "id": "90d86e36-d022-4d6d-bde0-4d38b8bd47b9",
   "metadata": {},
   "outputs": [],
   "source": [
    "# Generate confusion matrix\n",
    "cm = confusion_matrix(y_train, model_xgb.predict(X_train_selected))\n",
    "\n",
    "# Plot confusion matrix\n",
    "plt.figure(figsize=(8, 6))\n",
    "sns.heatmap(cm, annot=True, fmt='d', cmap='Blues', cbar=False)\n",
    "plt.xlabel('Predicted labels')\n",
    "plt.ylabel('True labels')\n",
    "plt.title('Confusion Matrix')\n",
    "plt.show()"
   ]
  },
  {
   "cell_type": "code",
   "execution_count": null,
   "id": "7533f88c-8ce2-4e28-8bb1-fbd6b124a55c",
   "metadata": {},
   "outputs": [],
   "source": [
    "# Evaluate model performance including auc, accuracy, etc\n",
    "def evaluate_model(model, X_test, y_test):\n",
    "    predictions = model.predict(X_test)\n",
    "    probabilities = model.predict_proba(X_test)[:, 1]\n",
    "    auc_score = roc_auc_score(y_test, probabilities)\n",
    "    accuracy = accuracy_score(y_test, predictions)\n",
    "\n",
    "    fpr, tpr, _ = roc_curve(y_test, probabilities)\n",
    "    precision, recall, _ = precision_recall_curve(y_test, probabilities)\n",
    "    pr_auc_score = auc(recall, precision)\n",
    "\n",
    "    return {\n",
    "        'y_test': y_test,\n",
    "        'predictions': predictions,\n",
    "        'probabilities': probabilities,\n",
    "        'auc_score': auc_score,\n",
    "        'accuracy': accuracy,\n",
    "        'fpr': fpr,\n",
    "        'tpr': tpr,\n",
    "        'precision': precision,\n",
    "        'recall': recall,\n",
    "        'pr_auc_score': pr_auc_score\n",
    "    }\n",
    "\n"
   ]
  },
  {
   "cell_type": "code",
   "execution_count": null,
   "id": "cd74754a-40af-48c3-a608-f8126bb89d24",
   "metadata": {},
   "outputs": [],
   "source": [
    "results = evaluate_model(model_xgb, X_val_selected,y_test)"
   ]
  },
  {
   "cell_type": "code",
   "execution_count": null,
   "id": "95e009d2-d3f4-44a7-b352-086f49fef701",
   "metadata": {},
   "outputs": [],
   "source": [
    "def plot_roc(y_test,y_probs_positive):\n",
    "    fpr, tpr, _ = roc_curve(y_test, y_probs_positive)\n",
    "    roc_auc = auc(fpr, tpr)\n",
    "    plt.plot(fpr, tpr, label=f'AUC = {roc_auc:.2f}')\n",
    "    plt.plot([0, 1], [0, 1], 'k--', lw=2)\n",
    "    plt.xlabel('False Positive Rate')\n",
    "    plt.ylabel('True Positive Rate')\n",
    "    plt.title('ROC Curve')\n",
    "    plt.legend()"
   ]
  },
  {
   "cell_type": "code",
   "execution_count": null,
   "id": "b4a2356b-7a3a-409a-a70c-9aee0253c469",
   "metadata": {},
   "outputs": [],
   "source": [
    "#Column 1 and Column 2 are the probabilities that the label is 0 or 1 \n",
    "y_probs = model_xgb.predict_proba(X_val_selected)\n",
    "#Only select the positive class\n",
    "y_probs_positive = y_probs[:,1]\n",
    "y_test = y_val['viz_outcome_prolonged_los_yn']"
   ]
  },
  {
   "cell_type": "code",
   "execution_count": null,
   "id": "a6217a04-fd8a-4549-91fe-f8e0e48bdec3",
   "metadata": {},
   "outputs": [],
   "source": [
    "def plot_pr(y_test, y_probs_positive):\n",
    "    # Plot PR Curve (second plot)\n",
    "    precision, recall, _ = precision_recall_curve(y_test, y_probs_positive)\n",
    "    pr_auc = auc(recall, precision)\n",
    "    plt.plot(recall, precision, label=f'PR-AUC = {pr_auc:.2f}')\n",
    "    plt.xlabel('Recall')\n",
    "    plt.ylabel('Precision')\n",
    "    plt.title('PR Curve')\n",
    "    plt.legend()"
   ]
  },
  {
   "cell_type": "code",
   "execution_count": null,
   "id": "c963121a-0b37-478e-849a-e5cf86f3ec93",
   "metadata": {},
   "outputs": [],
   "source": [
    "def plot_cc(y_test,y_probs_positive):\n",
    "    prob_true, prob_pred = calibration_curve(y_test, y_probs_positive, n_bins=10)\n",
    "    plt.plot(prob_pred, prob_true, label='Calibration')\n",
    "    plt.plot([0, 1], [0, 1], 'k--', label='Perfectly Calibrated')\n",
    "    plt.xlabel('Mean Predicted Probability')\n",
    "    plt.ylabel('Fraction of Positives')\n",
    "    plt.title('Calibration Curve')\n",
    "    plt.legend()"
   ]
  },
  {
   "cell_type": "code",
   "execution_count": null,
   "id": "2025a4cc-c996-4c07-b969-765bc81eb4e7",
   "metadata": {},
   "outputs": [],
   "source": [
    "\n",
    "def plot_metrics(y_test, y_probs_positive):\n",
    "    fig, axes = plt.subplots(3, 1, figsize=(10, 18))  # 3 rows x 1 column\n",
    "\n",
    "    # Plot ROC Curve\n",
    "    fpr, tpr, _ = roc_curve(y_test, y_probs_positive)\n",
    "    roc_auc = auc(fpr, tpr)\n",
    "    axes[0].plot(fpr, tpr, label=f'AUC = {roc_auc:.2f}')\n",
    "    axes[0].plot([0, 1], [0, 1], 'k--', lw=2)\n",
    "    axes[0].set_xlabel('False Positive Rate')\n",
    "    axes[0].set_ylabel('True Positive Rate')\n",
    "    axes[0].set_title('ROC Curve')\n",
    "    axes[0].legend()\n",
    "\n",
    "    # Plot PR Curve\n",
    "    precision, recall, _ = precision_recall_curve(y_test, y_probs_positive)\n",
    "    pr_auc = auc(recall, precision)\n",
    "    axes[1].plot(recall, precision, label=f'PR-AUC = {pr_auc:.2f}')\n",
    "    axes[1].set_xlabel('Recall')\n",
    "    axes[1].set_ylabel('Precision')\n",
    "    axes[1].set_title('PR Curve')\n",
    "    axes[1].legend()\n",
    "\n",
    "    # Plot Calibration Curve\n",
    "    prob_true, prob_pred = calibration_curve(y_test, y_probs_positive, n_bins=10)\n",
    "    axes[2].plot(prob_pred, prob_true, label='Calibration')\n",
    "    axes[2].plot([0, 1], [0, 1], 'k--', label='Perfectly Calibrated')\n",
    "    axes[2].set_xlabel('Mean Predicted Probability')\n",
    "    axes[2].set_ylabel('Fraction of Positives')\n",
    "    axes[2].set_title('Calibration Curve')\n",
    "    axes[2].legend()\n",
    "\n",
    "    plt.tight_layout()\n",
    "    plt.show()"
   ]
  },
  {
   "cell_type": "code",
   "execution_count": null,
   "id": "b3c1ca57-6a64-481f-90d0-179d2cc5484b",
   "metadata": {},
   "outputs": [],
   "source": [
    "plot_metrics(y_test, y_probs_positive)"
   ]
  },
  {
   "cell_type": "code",
   "execution_count": null,
   "id": "70d38151-9677-4b7a-959a-5809aa7d486d",
   "metadata": {},
   "outputs": [],
   "source": [
    "plot_cc(y_test, y_probs_positive)"
   ]
  },
  {
   "cell_type": "code",
   "execution_count": null,
   "id": "4e758b15-909c-44b1-987a-4563d83cc1fe",
   "metadata": {},
   "outputs": [],
   "source": [
    "buildCC(target_test, test_preds)"
   ]
  },
  {
   "cell_type": "code",
   "execution_count": null,
   "id": "b9e59f95-0761-4ebd-9cc8-219e3c3377b6",
   "metadata": {},
   "outputs": [],
   "source": [
    "#model_xgb.predict_proba(X_val)"
   ]
  },
  {
   "cell_type": "code",
   "execution_count": null,
   "id": "1152517c-c2d9-4ee0-b707-deaa0b6f3c5d",
   "metadata": {},
   "outputs": [],
   "source": [
    "model_xgb.best_estimator_.steps"
   ]
  },
  {
   "cell_type": "code",
   "execution_count": null,
   "id": "80925648-68f6-4542-b6f5-32cc2fad4b7b",
   "metadata": {},
   "outputs": [],
   "source": [
    "#https://www.youtube.com/watch?v=aLOQD66Sj0g&ab_channel=LianneandJustin\n",
    "from xgboost import plot_importance\n",
    "\n",
    "xgboost_step = model_xgb.best_estimator_.steps[1]\n",
    "xgboost_model = xgboost_step[1]\n",
    "plot_importance(xgboost_model, max_num_features=30)"
   ]
  },
  {
   "cell_type": "code",
   "execution_count": null,
   "id": "376bd66d-d584-44c7-a5bc-bab59b975002",
   "metadata": {},
   "outputs": [],
   "source": [
    "xgboost_model"
   ]
  },
  {
   "cell_type": "code",
   "execution_count": null,
   "id": "c87100f1-caeb-460e-8496-ce0d3073f743",
   "metadata": {},
   "outputs": [],
   "source": [
    "X_train_selected = pd.read_csv('/gpfs/milgram/project/rtaylor/imc33/data/pipeline/los_train_initial_selected_all_patients_cat_only.csv', index_col=[0])"
   ]
  },
  {
   "cell_type": "code",
   "execution_count": null,
   "id": "192fb848-d98f-41f2-babb-bd938d0cef8b",
   "metadata": {},
   "outputs": [],
   "source": [
    "X_val_selected = pd.read_csv('/gpfs/milgram/project/rtaylor/imc33/data/pipeline/los_val_initial_selected_all_patients_cat_only.csv', index_col=[0])"
   ]
  },
  {
   "cell_type": "code",
   "execution_count": null,
   "id": "95e052ba-7c75-4203-a167-948fcf0a81a6",
   "metadata": {},
   "outputs": [],
   "source": [
    "clf_xgb = xgb.XGBClassifier(objective='binary:logistic', missing=None, seed=42)\n",
    "clf_xgb.fit(X_train_selected, \n",
    "            y_train['viz_outcome_prolonged_los_yn'], \n",
    "            verbose=True,\n",
    "            early_stopping_rounds=10,\n",
    "            eval_metric='aucpr',\n",
    "            eval_set=[(X_val_selected, y_val['viz_outcome_prolonged_los_yn'])])"
   ]
  },
  {
   "cell_type": "code",
   "execution_count": null,
   "id": "cb17f324-67c0-48af-9062-e4827272a303",
   "metadata": {},
   "outputs": [],
   "source": [
    "explainer = shap.Explainer(clf_xgb)\n",
    "shap_values = explainer(X_val_selected)"
   ]
  },
  {
   "cell_type": "code",
   "execution_count": null,
   "id": "85277093-ea9d-40a6-9b72-aaf6650516af",
   "metadata": {},
   "outputs": [],
   "source": []
  },
  {
   "cell_type": "code",
   "execution_count": null,
   "id": "05da6acd-9459-4f26-acc4-b986aa8f120a",
   "metadata": {},
   "outputs": [],
   "source": [
    "#1 shap value for each feature\n",
    "np.shape(shap_values.values)"
   ]
  },
  {
   "cell_type": "code",
   "execution_count": null,
   "id": "16410c7f-2f58-4408-88fe-4647e70f617b",
   "metadata": {},
   "outputs": [],
   "source": [
    "#This is for a single prediction\n",
    "shap.plots.waterfall(shap_values[0])"
   ]
  },
  {
   "cell_type": "code",
   "execution_count": null,
   "id": "c6162f17-e305-4a37-aad2-297af188d6e7",
   "metadata": {},
   "outputs": [],
   "source": [
    "shap.initjs(),\n",
    "shap.plots.force(shap_values[0])"
   ]
  },
  {
   "cell_type": "code",
   "execution_count": null,
   "id": "edba6d56-28dd-4952-aa4a-13523389bb59",
   "metadata": {},
   "outputs": [],
   "source": [
    "shap.plots.force(shap_values[0:100])"
   ]
  },
  {
   "cell_type": "code",
   "execution_count": null,
   "id": "e3c71708-8f9b-4990-ac53-cb3bd7370a49",
   "metadata": {},
   "outputs": [],
   "source": [
    "shap.plots.bar(shap_values)"
   ]
  },
  {
   "cell_type": "code",
   "execution_count": null,
   "id": "597989bb-b5ec-49f7-830c-9d5df75f73c4",
   "metadata": {},
   "outputs": [],
   "source": [
    "shap.plots.beeswarm(shap_values, max_display=30)"
   ]
  }
 ],
 "metadata": {
  "kernelspec": {
   "display_name": "Python 3 (ipykernel)",
   "language": "python",
   "name": "python3"
  },
  "language_info": {
   "codemirror_mode": {
    "name": "ipython",
    "version": 3
   },
   "file_extension": ".py",
   "mimetype": "text/x-python",
   "name": "python",
   "nbconvert_exporter": "python",
   "pygments_lexer": "ipython3",
   "version": "3.8.19"
  }
 },
 "nbformat": 4,
 "nbformat_minor": 5
}
