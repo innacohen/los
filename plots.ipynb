{
 "cells": [
  {
   "cell_type": "code",
   "execution_count": 1,
   "id": "b7b1a176-bac7-41d6-a002-d17345862b60",
   "metadata": {},
   "outputs": [],
   "source": [
    "def View(df, rows=None, cols=None, width=None):\n",
    "    \"\"\"Displays the first `rows` of the DataFrame like R's View() by adjusting Pandas settings.\"\"\"\n",
    "    \n",
    "    # Show only the first `rows` of the DataFrame\n",
    "    with pd.option_context(\n",
    "        \"display.max_rows\", rows,  # Limit number of rows shown\n",
    "        \"display.max_columns\", cols,  # Show all columns\n",
    "        \"display.max_colwidth\", width,  # Show full column width\n",
    "        \"display.expand_frame_repr\", False  # Prevent column wrapping\n",
    "    ):\n",
    "        display(df.head(rows))  # Show only the first `rows`"
   ]
  },
  {
   "cell_type": "code",
   "execution_count": 2,
   "id": "817abd78-2029-4091-b7cf-3b0acb8df5ba",
   "metadata": {},
   "outputs": [],
   "source": [
    "import pickle\n",
    "import shap\n",
    "import matplotlib.pyplot as plt\n",
    "import pandas as pd\n",
    "import numpy as np\n",
    "\n",
    "# File paths\n",
    "fp_simple = '/gpfs/milgram/project/rtaylor/imc33/LOS/output/model_simple.pkl'\n",
    "fp_val = '/gpfs/milgram/project/rtaylor/imc33/LOS/output/X_val_selected.csv'\n",
    "lab_df = pd.read_csv('/gpfs/milgram/project/rtaylor/imc33/LOS/data/new_label_names.csv')\n",
    "\n",
    "# Create rename dictionary from lab_df\n",
    "rename_dict = pd.Series(lab_df.new_name.values, index=lab_df.old_name).to_dict()\n",
    "\n",
    "# Load the model\n",
    "with open(fp_simple, \"rb\") as f:\n",
    "    model = pickle.load(f)\n",
    "\n",
    "# Load dataset\n",
    "X_test = pd.read_csv(fp_val, index_col='pat_enc_csn_id')\n",
    "\n",
    "# Ensure feature order matches what the model expects\n",
    "#X_test = X_test[model.feature_names_in_]\n",
    "\n",
    "# Confirm features are identical\n",
    "#print(\"Feature order matches:\", list(model.feature_names_in_) == list(X_test.columns))"
   ]
  },
  {
   "cell_type": "code",
   "execution_count": 3,
   "id": "e8f8a3b2-ce95-4e72-8307-8123c186b90d",
   "metadata": {},
   "outputs": [],
   "source": [
    "# Rename feature columns using rename_dict while ensuring uniqueness\n",
    "X_test = X_test.rename(columns=rename_dict)\n",
    "\n",
    "# Check for duplicate column names and resolve by appending a suffix\n",
    "counts = {}\n",
    "new_columns = []\n",
    "for col in X_test.columns:\n",
    "    if col in counts:\n",
    "        counts[col] += 1\n",
    "        new_columns.append(f\"{col} ({counts[col]})\")  # Append count to make unique\n",
    "    else:\n",
    "        counts[col] = 1\n",
    "        new_columns.append(col)\n",
    "\n",
    "X_test.columns = new_columns  # Update column names to be unique\n"
   ]
  },
  {
   "cell_type": "code",
   "execution_count": 4,
   "id": "384c98a9-89d4-471e-a47e-10eaa7e1237c",
   "metadata": {},
   "outputs": [
    {
     "data": {
      "text/html": [
       "<div>\n",
       "<style scoped>\n",
       "    .dataframe tbody tr th:only-of-type {\n",
       "        vertical-align: middle;\n",
       "    }\n",
       "\n",
       "    .dataframe tbody tr th {\n",
       "        vertical-align: top;\n",
       "    }\n",
       "\n",
       "    .dataframe thead th {\n",
       "        text-align: right;\n",
       "    }\n",
       "</style>\n",
       "<table border=\"1\" class=\"dataframe\">\n",
       "  <thead>\n",
       "    <tr style=\"text-align: right;\">\n",
       "      <th></th>\n",
       "      <th>Feature</th>\n",
       "      <th>Mean Absolute SHAP</th>\n",
       "    </tr>\n",
       "  </thead>\n",
       "  <tbody>\n",
       "    <tr>\n",
       "      <th>3</th>\n",
       "      <td>Consult Count</td>\n",
       "      <td>0.429263</td>\n",
       "    </tr>\n",
       "    <tr>\n",
       "      <th>166</th>\n",
       "      <td>Not Ready for Discharge_First</td>\n",
       "      <td>0.246893</td>\n",
       "    </tr>\n",
       "    <tr>\n",
       "      <th>54</th>\n",
       "      <td>Discharged Home</td>\n",
       "      <td>0.115305</td>\n",
       "    </tr>\n",
       "    <tr>\n",
       "      <th>43</th>\n",
       "      <td>Imaging Count</td>\n",
       "      <td>0.106140</td>\n",
       "    </tr>\n",
       "    <tr>\n",
       "      <th>76</th>\n",
       "      <td>DRG Severe Respiratory Infection</td>\n",
       "      <td>0.101749</td>\n",
       "    </tr>\n",
       "    <tr>\n",
       "      <th>...</th>\n",
       "      <td>...</td>\n",
       "      <td>...</td>\n",
       "    </tr>\n",
       "    <tr>\n",
       "      <th>28</th>\n",
       "      <td>con_service_otolaryngology_ent_count</td>\n",
       "      <td>0.000758</td>\n",
       "    </tr>\n",
       "    <tr>\n",
       "      <th>17</th>\n",
       "      <td>con_service_hepatology_count</td>\n",
       "      <td>0.000742</td>\n",
       "    </tr>\n",
       "    <tr>\n",
       "      <th>26</th>\n",
       "      <td>con_service_orthopedics_count</td>\n",
       "      <td>0.000729</td>\n",
       "    </tr>\n",
       "    <tr>\n",
       "      <th>11</th>\n",
       "      <td>con_service_cardiothoracic_surgery_count</td>\n",
       "      <td>0.000341</td>\n",
       "    </tr>\n",
       "    <tr>\n",
       "      <th>50</th>\n",
       "      <td>thro_ed_arrival_time_na</td>\n",
       "      <td>0.000000</td>\n",
       "    </tr>\n",
       "  </tbody>\n",
       "</table>\n",
       "<p>210 rows × 2 columns</p>\n",
       "</div>"
      ],
      "text/plain": [
       "                                      Feature  Mean Absolute SHAP\n",
       "3                               Consult Count            0.429263\n",
       "166             Not Ready for Discharge_First            0.246893\n",
       "54                            Discharged Home            0.115305\n",
       "43                              Imaging Count            0.106140\n",
       "76           DRG Severe Respiratory Infection            0.101749\n",
       "..                                        ...                 ...\n",
       "28       con_service_otolaryngology_ent_count            0.000758\n",
       "17               con_service_hepatology_count            0.000742\n",
       "26              con_service_orthopedics_count            0.000729\n",
       "11   con_service_cardiothoracic_surgery_count            0.000341\n",
       "50                    thro_ed_arrival_time_na            0.000000\n",
       "\n",
       "[210 rows x 2 columns]"
      ]
     },
     "execution_count": 4,
     "metadata": {},
     "output_type": "execute_result"
    }
   ],
   "source": [
    "# Compute SHAP values\n",
    "explainer = shap.TreeExplainer(model, feature_perturbation=\"tree_path_dependent\")\n",
    "shap_values = explainer(X_test)  # Compute SHAP values\n",
    "\n",
    "# Ensure SHAP values use the renamed features\n",
    "shap_values.feature_names = X_test.columns.tolist()\n",
    "\n",
    "# Calculate the mean absolute SHAP value for each feature\n",
    "mean_abs_shap = np.abs(shap_values.values).mean(axis=0)\n",
    "\n",
    "# Create a DataFrame for feature importance\n",
    "importance_df = pd.DataFrame({\n",
    "    'Feature': X_test.columns,\n",
    "    'Mean Absolute SHAP': mean_abs_shap\n",
    "})\n",
    "\n",
    "# Sort the DataFrame by importance\n",
    "importance_df = importance_df.sort_values(by='Mean Absolute SHAP', ascending=False)\n",
    "\n",
    "importance_df"
   ]
  },
  {
   "cell_type": "code",
   "execution_count": 5,
   "id": "75c63761-d1fc-4476-8297-e873494c1835",
   "metadata": {},
   "outputs": [],
   "source": [
    "df = importance_df.copy()"
   ]
  },
  {
   "cell_type": "code",
   "execution_count": 6,
   "id": "2a4b4a26-fe4d-493e-b2a7-6fe11ef135d7",
   "metadata": {},
   "outputs": [],
   "source": [
    "filtered_df = df[df['Feature'].str.contains(r'count|volume|age', case=False, na=False, regex=True)]\n"
   ]
  },
  {
   "cell_type": "code",
   "execution_count": 7,
   "id": "247b18c2-a3aa-410e-bacc-dd0575b71d96",
   "metadata": {},
   "outputs": [],
   "source": [
    "filtered_df = filtered_df[~filtered_df[\"Feature\"].isin([\"viz_insurance_Managed Medicare\",\"viz_language_Other\"])]"
   ]
  },
  {
   "cell_type": "code",
   "execution_count": null,
   "id": "aa7fc080-0ece-49b7-8f06-b6c6a5e4784d",
   "metadata": {},
   "outputs": [],
   "source": [
    "filtered_df.to_csv(\"../output/numeric_features.csv\", index=False)"
   ]
  },
  {
   "cell_type": "code",
   "execution_count": 8,
   "id": "bb87ebd3-cc5a-4ca0-ad87-7e51ea0039ee",
   "metadata": {},
   "outputs": [],
   "source": [
    "importance_df.to_csv(\"../output/all_features.csv\", index=False)"
   ]
  },
  {
   "cell_type": "code",
   "execution_count": null,
   "id": "38aaaff4-ffd2-412e-8a35-966798e55c9c",
   "metadata": {},
   "outputs": [],
   "source": [
    "View(filtered_df)"
   ]
  },
  {
   "cell_type": "code",
   "execution_count": null,
   "id": "236c55ae-a989-4fc0-b384-1c24ce00eeab",
   "metadata": {},
   "outputs": [],
   "source": []
  },
  {
   "cell_type": "code",
   "execution_count": null,
   "id": "4017e270-7c67-4eda-968d-89f0621d2120",
   "metadata": {},
   "outputs": [],
   "source": [
    "# Generate the Beeswarm plot\n",
    "fig_beeswarm = plt.figure(figsize=(20, 20))  # Adjusted figure size for beeswarm\n",
    "shap.plots.beeswarm(shap_values, max_display=20, show=False)\n",
    "\n",
    "# Show the plot\n",
    "plt.show()"
   ]
  },
  {
   "cell_type": "code",
   "execution_count": null,
   "id": "a2598100-47b7-4b80-be6f-ee170b084fa8",
   "metadata": {},
   "outputs": [],
   "source": [
    "shap.plots.bar(shap_values, max_display=20, show=False)"
   ]
  },
  {
   "cell_type": "code",
   "execution_count": null,
   "id": "26964667-a8af-4125-a0a9-14cda7f7b7e4",
   "metadata": {},
   "outputs": [],
   "source": [
    "plt.figure()\n",
    "plt.subplot(1,2,1)\n",
    "shap.plots.beeswarm(shap_values, max_display=10, show=False)\n",
    "plt.subplot(1,2,2)\n",
    "shap.plots.bar(shap_values, show=False)\n",
    "\n",
    "# Optional for adjusting the margins:\n",
    "plt.subplots_adjust(\n",
    "    left=1,\n",
    "    bottom=0.1, \n",
    "    right=3, \n",
    "    top=0.9,\n",
    "    wspace=0.5   \n",
    ")"
   ]
  },
  {
   "cell_type": "code",
   "execution_count": null,
   "id": "12e75d4b-abdb-40e2-9c95-412c5560427a",
   "metadata": {},
   "outputs": [],
   "source": [
    "import numpy as np\n",
    "\n",
    "# Compute sum of SHAP values for each row (i.e., observation)\n",
    "shap_sums = shap_values.values.sum(axis=1)\n",
    "\n",
    "# Find the index with the highest positive prediction\n",
    "max_index = np.argmax(shap_sums)\n",
    "\n",
    "print(f\"Index with highest positive prediction: {max_index}\")\n"
   ]
  },
  {
   "cell_type": "code",
   "execution_count": null,
   "id": "dab4196e-069d-420f-adf2-b0b8610d8d0c",
   "metadata": {},
   "outputs": [],
   "source": [
    "shap.force_plot(\n",
    "    explainer.expected_value, shap_values[601].values, X_test.iloc[0, :], matplotlib=True\n",
    ")"
   ]
  },
  {
   "cell_type": "markdown",
   "id": "261adbcd-4833-4241-9760-ae97af7c634f",
   "metadata": {},
   "source": [
    "### Continuous Variables\n",
    "age, consult counts, imaging counts, ed volume, hospital volume"
   ]
  },
  {
   "cell_type": "code",
   "execution_count": null,
   "id": "df8537c1-61cf-4619-b67d-0e0785a06f82",
   "metadata": {},
   "outputs": [],
   "source": [
    "import shap\n",
    "import matplotlib.pyplot as plt\n",
    "\n",
    "# Extract feature names and SHAP values\n",
    "feature_names = [\"Consult Count\", \"Age\", \"Imaging Count\", \"ED Volume\", \"Inpatient Volume\",\"US Count\"]\n",
    "                 \n",
    "for feature in feature_names:\n",
    "    shap.plots.scatter(shap_values[:, feature])"
   ]
  },
  {
   "cell_type": "code",
   "execution_count": null,
   "id": "01e9e55d-8b9d-4cd4-a490-22a788835894",
   "metadata": {},
   "outputs": [],
   "source": [
    "import shap\n",
    "import matplotlib.pyplot as plt\n",
    "\n",
    "# Extract feature names and SHAP values\n",
    "feature_names = [\"Consult Count\", \"Age\", \"Imaging Count\", \"ED Volume\", \"US Count\",\"Inpatient Volume\"]\n",
    "\n",
    "# Create a figure with 3 rows and 2 columns\n",
    "fig, axes = plt.subplots(nrows=3, ncols=2, figsize=(14, 14))\n",
    "\n",
    "# Flatten the axes array for easy iteration\n",
    "for ax, feature in zip(axes.flatten(), feature_names):\n",
    "    shap.plots.scatter(shap_values[:, feature], ax=ax)\n",
    "\n",
    "plt.show()\n"
   ]
  }
 ],
 "metadata": {
  "kernelspec": {
   "display_name": "Python 3 (ipykernel)",
   "language": "python",
   "name": "python3"
  },
  "language_info": {
   "codemirror_mode": {
    "name": "ipython",
    "version": 3
   },
   "file_extension": ".py",
   "mimetype": "text/x-python",
   "name": "python",
   "nbconvert_exporter": "python",
   "pygments_lexer": "ipython3",
   "version": "3.9.19"
  }
 },
 "nbformat": 4,
 "nbformat_minor": 5
}
